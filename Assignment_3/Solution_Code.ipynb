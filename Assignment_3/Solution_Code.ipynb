{
  "cells": [
    {
      "cell_type": "markdown",
      "metadata": {
        "id": "PI85lisIAwfW"
      },
      "source": [
        "# Assignment 3"
      ]
    },
    {
      "cell_type": "markdown",
      "metadata": {
        "id": "wkwwrAIYJZnu"
      },
      "source": [
        "## Id numbers and names"
      ]
    },
    {
      "cell_type": "markdown",
      "metadata": {
        "id": "O2vxFW40JYRQ"
      },
      "source": [
        "1.   313326985 Shahar Shcheranski\n",
        "2.   206172686 Sarit Hollander"
      ]
    },
    {
      "cell_type": "markdown",
      "metadata": {
        "id": "ctWbCfiwSGRP"
      },
      "source": [
        "# Imports"
      ]
    },
    {
      "cell_type": "code",
      "source": [
        "!pip install pretty_midi"
      ],
      "metadata": {
        "id": "NZ5AiwGxpxYx"
      },
      "execution_count": null,
      "outputs": []
    },
    {
      "cell_type": "code",
      "source": [
        "!pip install gensim"
      ],
      "metadata": {
        "id": "mX-vsUYYp0Nu"
      },
      "execution_count": null,
      "outputs": []
    },
    {
      "cell_type": "markdown",
      "source": [
        "!pip install gdown"
      ],
      "metadata": {
        "id": "sXoTKllQp2sM"
      }
    },
    {
      "cell_type": "code",
      "execution_count": null,
      "metadata": {
        "id": "YfEs7envSJ_E"
      },
      "outputs": [],
      "source": [
        "import pandas as pd\n",
        "import numpy as np\n",
        "from numpy.lib.stride_tricks import as_strided\n",
        "import random\n",
        "import tensorflow as tf\n",
        "import os\n",
        "import nltk\n",
        "from nltk.tokenize import word_tokenize\n",
        "from functools import lru_cache\n",
        "import pretty_midi\n",
        "from gensim import models\n",
        "import re\n",
        "import joblib\n",
        "\n",
        "from tensorflow.keras.preprocessing.text import Tokenizer\n",
        "from tensorflow.keras.utils import to_categorical\n",
        "from tensorflow.keras.layers import Lambda, Input, Embedding, Concatenate, LSTM, Dropout, Dense\n",
        "from tensorflow.keras.models import Model, load_model\n",
        "from tensorflow.keras.optimizers import Adam\n",
        "from tensorflow.keras.callbacks import ModelCheckpoint, EarlyStopping, ReduceLROnPlateau\n",
        "from tensorflow.keras.preprocessing.sequence import pad_sequences\n",
        "\n",
        "import matplotlib.pyplot as plt\n",
        "%matplotlib inline"
      ]
    },
    {
      "cell_type": "code",
      "execution_count": null,
      "metadata": {
        "colab": {
          "base_uri": "https://localhost:8080/"
        },
        "id": "wph86VZMRjy9",
        "outputId": "46ddaa44-9b19-49f1-ff84-be7e4cc76b1f"
      },
      "outputs": [
        {
          "name": "stderr",
          "output_type": "stream",
          "text": [
            "[nltk_data] Downloading package punkt to /home/shcheran/nltk_data...\n",
            "[nltk_data]   Package punkt is already up-to-date!\n"
          ]
        },
        {
          "data": {
            "text/plain": [
              "True"
            ]
          },
          "execution_count": 2,
          "metadata": {},
          "output_type": "execute_result"
        }
      ],
      "source": [
        "nltk.download('punkt')"
      ]
    },
    {
      "cell_type": "code",
      "execution_count": null,
      "metadata": {
        "id": "9p7NHTqwSPS3"
      },
      "outputs": [],
      "source": [
        "SEED = 10\n",
        "\n",
        "random.seed(SEED)\n",
        "np.random.seed(SEED)\n",
        "tf.random.set_seed(SEED)"
      ]
    },
    {
      "cell_type": "markdown",
      "metadata": {
        "id": "V9BpWn-jA2L0"
      },
      "source": [
        "## Loading data"
      ]
    },
    {
      "cell_type": "code",
      "execution_count": null,
      "metadata": {
        "id": "nnbjxxcPRH9s"
      },
      "outputs": [],
      "source": [
        "url = \"https://drive.google.com/file/d/1ofMPioEKgX_gCksY-S1OCYCD-p3nSt5y/view?usp=sharing\""
      ]
    },
    {
      "cell_type": "code",
      "execution_count": null,
      "metadata": {
        "colab": {
          "base_uri": "https://localhost:8080/"
        },
        "id": "OZu4d40RQ-tN",
        "outputId": "1bce01c7-a9bb-42e9-e018-54c47bbff83e"
      },
      "outputs": [
        {
          "name": "stdout",
          "output_type": "stream",
          "text": [
            "/home/shcheran/.conda/envs/dl-env/lib/python3.8/site-packages/gdown/cli.py:127: FutureWarning: Option `--id` was deprecated in version 4.3.1 and will be removed in 5.0. You don't need to pass it anymore to use a file ID.\n",
            "  warnings.warn(\n",
            "Downloading...\n",
            "From: https://drive.google.com/uc?id=1ofMPioEKgX_gCksY-S1OCYCD-p3nSt5y\n",
            "To: /sise/home/shcheran/deep-learning/assignment3/Archive.zip\n",
            "100%|██████████████████████████████████████| 7.42M/7.42M [00:00<00:00, 11.5MB/s]\n"
          ]
        }
      ],
      "source": [
        "!gdown --id 1ofMPioEKgX_gCksY-S1OCYCD-p3nSt5y"
      ]
    },
    {
      "cell_type": "code",
      "execution_count": null,
      "metadata": {
        "id": "C6LWjyByRRKu"
      },
      "outputs": [],
      "source": [
        "!unzip -q ./Archive.zip"
      ]
    },
    {
      "cell_type": "markdown",
      "metadata": {
        "id": "wynxvFx8Qy3o"
      },
      "source": [
        "### Load data from the csv files"
      ]
    },
    {
      "cell_type": "code",
      "execution_count": null,
      "metadata": {
        "colab": {
          "base_uri": "https://localhost:8080/",
          "height": 423
        },
        "id": "zZG50PJjRgz8",
        "outputId": "6edc80a6-630d-4bb8-af35-74a970dd2003"
      },
      "outputs": [
        {
          "data": {
            "text/html": [
              "<div>\n",
              "<style scoped>\n",
              "    .dataframe tbody tr th:only-of-type {\n",
              "        vertical-align: middle;\n",
              "    }\n",
              "\n",
              "    .dataframe tbody tr th {\n",
              "        vertical-align: top;\n",
              "    }\n",
              "\n",
              "    .dataframe thead th {\n",
              "        text-align: right;\n",
              "    }\n",
              "</style>\n",
              "<table border=\"1\" class=\"dataframe\">\n",
              "  <thead>\n",
              "    <tr style=\"text-align: right;\">\n",
              "      <th></th>\n",
              "      <th>Singer</th>\n",
              "      <th>Song Name</th>\n",
              "      <th>Lyrics</th>\n",
              "    </tr>\n",
              "  </thead>\n",
              "  <tbody>\n",
              "    <tr>\n",
              "      <th>0</th>\n",
              "      <td>elton john</td>\n",
              "      <td>candle in the wind</td>\n",
              "      <td>goodbye norma jean &amp; though i never knew you a...</td>\n",
              "    </tr>\n",
              "    <tr>\n",
              "      <th>1</th>\n",
              "      <td>gerry rafferty</td>\n",
              "      <td>baker street</td>\n",
              "      <td>winding your way down on baker street &amp; lite i...</td>\n",
              "    </tr>\n",
              "    <tr>\n",
              "      <th>2</th>\n",
              "      <td>gerry rafferty</td>\n",
              "      <td>right down the line</td>\n",
              "      <td>you know i need your love &amp; you've got that ho...</td>\n",
              "    </tr>\n",
              "    <tr>\n",
              "      <th>3</th>\n",
              "      <td>2 unlimited</td>\n",
              "      <td>tribal dance</td>\n",
              "      <td>come on check it out ya'll &amp; (come on come on!...</td>\n",
              "    </tr>\n",
              "    <tr>\n",
              "      <th>4</th>\n",
              "      <td>2 unlimited</td>\n",
              "      <td>let the beat control your body</td>\n",
              "      <td>let the beat control your body &amp; let the beat ...</td>\n",
              "    </tr>\n",
              "    <tr>\n",
              "      <th>...</th>\n",
              "      <td>...</td>\n",
              "      <td>...</td>\n",
              "      <td>...</td>\n",
              "    </tr>\n",
              "    <tr>\n",
              "      <th>610</th>\n",
              "      <td>don henley</td>\n",
              "      <td>dirty laundry</td>\n",
              "      <td>i make my living off the evening news &amp; just g...</td>\n",
              "    </tr>\n",
              "    <tr>\n",
              "      <th>611</th>\n",
              "      <td>don henley</td>\n",
              "      <td>new york minute</td>\n",
              "      <td>harry got up &amp; dressed all in black &amp; went dow...</td>\n",
              "    </tr>\n",
              "    <tr>\n",
              "      <th>612</th>\n",
              "      <td>bob dylan</td>\n",
              "      <td>subterranean homesick blues</td>\n",
              "      <td>johnny's in the basement &amp; mixing up the medic...</td>\n",
              "    </tr>\n",
              "    <tr>\n",
              "      <th>613</th>\n",
              "      <td>goldfinger</td>\n",
              "      <td>mable</td>\n",
              "      <td>i met her sunday that was yesterday &amp; the girl...</td>\n",
              "    </tr>\n",
              "    <tr>\n",
              "      <th>614</th>\n",
              "      <td>dr dre</td>\n",
              "      <td>forgot about dre</td>\n",
              "      <td>y'all know me still the same o.g. but i been l...</td>\n",
              "    </tr>\n",
              "  </tbody>\n",
              "</table>\n",
              "<p>615 rows × 3 columns</p>\n",
              "</div>"
            ],
            "text/plain": [
              "             Singer                       Song Name  \\\n",
              "0        elton john              candle in the wind   \n",
              "1    gerry rafferty                    baker street   \n",
              "2    gerry rafferty             right down the line   \n",
              "3       2 unlimited                    tribal dance   \n",
              "4       2 unlimited  let the beat control your body   \n",
              "..              ...                             ...   \n",
              "610      don henley                   dirty laundry   \n",
              "611      don henley                 new york minute   \n",
              "612       bob dylan     subterranean homesick blues   \n",
              "613      goldfinger                           mable   \n",
              "614          dr dre                forgot about dre   \n",
              "\n",
              "                                                Lyrics  \n",
              "0    goodbye norma jean & though i never knew you a...  \n",
              "1    winding your way down on baker street & lite i...  \n",
              "2    you know i need your love & you've got that ho...  \n",
              "3    come on check it out ya'll & (come on come on!...  \n",
              "4    let the beat control your body & let the beat ...  \n",
              "..                                                 ...  \n",
              "610  i make my living off the evening news & just g...  \n",
              "611  harry got up & dressed all in black & went dow...  \n",
              "612  johnny's in the basement & mixing up the medic...  \n",
              "613  i met her sunday that was yesterday & the girl...  \n",
              "614  y'all know me still the same o.g. but i been l...  \n",
              "\n",
              "[615 rows x 3 columns]"
            ]
          },
          "execution_count": 4,
          "metadata": {},
          "output_type": "execute_result"
        }
      ],
      "source": [
        "cols_names = ['Singer', 'Song Name', 'Lyrics']\n",
        "\n",
        "# Load the train set\n",
        "df_train = pd.read_csv('./Archive/lyrics_train_set.csv', header=None, usecols=[0,1,2], names=cols_names)\n",
        "df_train"
      ]
    },
    {
      "cell_type": "code",
      "execution_count": null,
      "metadata": {
        "colab": {
          "base_uri": "https://localhost:8080/",
          "height": 206
        },
        "id": "YXbgxntPU8s-",
        "outputId": "f150efc6-d132-4216-c298-84e2a6b6ef1f"
      },
      "outputs": [
        {
          "data": {
            "text/html": [
              "<div>\n",
              "<style scoped>\n",
              "    .dataframe tbody tr th:only-of-type {\n",
              "        vertical-align: middle;\n",
              "    }\n",
              "\n",
              "    .dataframe tbody tr th {\n",
              "        vertical-align: top;\n",
              "    }\n",
              "\n",
              "    .dataframe thead th {\n",
              "        text-align: right;\n",
              "    }\n",
              "</style>\n",
              "<table border=\"1\" class=\"dataframe\">\n",
              "  <thead>\n",
              "    <tr style=\"text-align: right;\">\n",
              "      <th></th>\n",
              "      <th>Singer</th>\n",
              "      <th>Song Name</th>\n",
              "      <th>Lyrics</th>\n",
              "    </tr>\n",
              "  </thead>\n",
              "  <tbody>\n",
              "    <tr>\n",
              "      <th>0</th>\n",
              "      <td>the bangles</td>\n",
              "      <td>eternal flame</td>\n",
              "      <td>close your eyes give me your hand darling &amp; d...</td>\n",
              "    </tr>\n",
              "    <tr>\n",
              "      <th>1</th>\n",
              "      <td>billy joel</td>\n",
              "      <td>honesty</td>\n",
              "      <td>if you search for tenderness &amp; it isn't hard ...</td>\n",
              "    </tr>\n",
              "    <tr>\n",
              "      <th>2</th>\n",
              "      <td>cardigans</td>\n",
              "      <td>lovefool</td>\n",
              "      <td>dear i fear we're facing a problem &amp; you love...</td>\n",
              "    </tr>\n",
              "    <tr>\n",
              "      <th>3</th>\n",
              "      <td>aqua</td>\n",
              "      <td>barbie girl</td>\n",
              "      <td>hiya barbie &amp; hi ken! &amp; do you want to go for...</td>\n",
              "    </tr>\n",
              "    <tr>\n",
              "      <th>4</th>\n",
              "      <td>blink 182</td>\n",
              "      <td>all the small things</td>\n",
              "      <td>all the small things &amp; true care truth brings...</td>\n",
              "    </tr>\n",
              "  </tbody>\n",
              "</table>\n",
              "</div>"
            ],
            "text/plain": [
              "        Singer             Song Name  \\\n",
              "0  the bangles         eternal flame   \n",
              "1   billy joel               honesty   \n",
              "2    cardigans              lovefool   \n",
              "3         aqua           barbie girl   \n",
              "4    blink 182  all the small things   \n",
              "\n",
              "                                              Lyrics  \n",
              "0   close your eyes give me your hand darling & d...  \n",
              "1   if you search for tenderness & it isn't hard ...  \n",
              "2   dear i fear we're facing a problem & you love...  \n",
              "3   hiya barbie & hi ken! & do you want to go for...  \n",
              "4   all the small things & true care truth brings...  "
            ]
          },
          "execution_count": 5,
          "metadata": {},
          "output_type": "execute_result"
        }
      ],
      "source": [
        "# Load the test set\n",
        "df_test = pd.read_csv('./Archive/lyrics_test_set.csv', header=None, usecols=[0,1,2], names=cols_names)\n",
        "df_test['Song Name'] = df_test['Song Name'].apply(lambda x: x[1:] if x[0] == \" \" else x)\n",
        "df_test"
      ]
    },
    {
      "cell_type": "markdown",
      "metadata": {
        "id": "kC1s9DyCRDlb"
      },
      "source": [
        "### Add the midi file path"
      ]
    },
    {
      "cell_type": "markdown",
      "metadata": {
        "id": "1XyF6rLvRoU6"
      },
      "source": [
        "For each singer and song we attach the midi file path.\n",
        "\n",
        "* We found that there are 3 songs without midi file.\n",
        "* We found that there are 15 songs without lyrics."
      ]
    },
    {
      "cell_type": "code",
      "execution_count": null,
      "metadata": {
        "colab": {
          "base_uri": "https://localhost:8080/",
          "height": 423
        },
        "id": "pn5Sv4SlWD8S",
        "outputId": "57d4951c-fa3c-4df6-e59a-53121587309d"
      },
      "outputs": [
        {
          "data": {
            "text/html": [
              "<div>\n",
              "<style scoped>\n",
              "    .dataframe tbody tr th:only-of-type {\n",
              "        vertical-align: middle;\n",
              "    }\n",
              "\n",
              "    .dataframe tbody tr th {\n",
              "        vertical-align: top;\n",
              "    }\n",
              "\n",
              "    .dataframe thead th {\n",
              "        text-align: right;\n",
              "    }\n",
              "</style>\n",
              "<table border=\"1\" class=\"dataframe\">\n",
              "  <thead>\n",
              "    <tr style=\"text-align: right;\">\n",
              "      <th></th>\n",
              "      <th>Singer</th>\n",
              "      <th>Song Name</th>\n",
              "      <th>Midi Path</th>\n",
              "    </tr>\n",
              "  </thead>\n",
              "  <tbody>\n",
              "    <tr>\n",
              "      <th>0</th>\n",
              "      <td>1910 fruitgum company</td>\n",
              "      <td>simon says</td>\n",
              "      <td>./Archive/midi_files/1910_Fruitgum_Company_-_S...</td>\n",
              "    </tr>\n",
              "    <tr>\n",
              "      <th>1</th>\n",
              "      <td>2 unlimited</td>\n",
              "      <td>get ready for this</td>\n",
              "      <td>./Archive/midi_files/2_Unlimited_-_Get_Ready_f...</td>\n",
              "    </tr>\n",
              "    <tr>\n",
              "      <th>2</th>\n",
              "      <td>2 unlimited</td>\n",
              "      <td>let the beat control your body</td>\n",
              "      <td>./Archive/midi_files/2_Unlimited_-_Let_the_Bea...</td>\n",
              "    </tr>\n",
              "    <tr>\n",
              "      <th>3</th>\n",
              "      <td>2 unlimited</td>\n",
              "      <td>tribal dance</td>\n",
              "      <td>./Archive/midi_files/2_Unlimited_-_Tribal_Danc...</td>\n",
              "    </tr>\n",
              "    <tr>\n",
              "      <th>4</th>\n",
              "      <td>2 unlimited</td>\n",
              "      <td>twilight zone</td>\n",
              "      <td>./Archive/midi_files/2_Unlimited_-_Twilight_Zo...</td>\n",
              "    </tr>\n",
              "    <tr>\n",
              "      <th>...</th>\n",
              "      <td>...</td>\n",
              "      <td>...</td>\n",
              "      <td>...</td>\n",
              "    </tr>\n",
              "    <tr>\n",
              "      <th>620</th>\n",
              "      <td>the four seasons</td>\n",
              "      <td>sherry</td>\n",
              "      <td>./Archive/midi_files/The_Four_Seasons_-_Sherry...</td>\n",
              "    </tr>\n",
              "    <tr>\n",
              "      <th>621</th>\n",
              "      <td>the four seasons</td>\n",
              "      <td>walk like a man</td>\n",
              "      <td>./Archive/midi_files/The_Four_Seasons_-_Walk_L...</td>\n",
              "    </tr>\n",
              "    <tr>\n",
              "      <th>622</th>\n",
              "      <td>the fugees</td>\n",
              "      <td>killing me softly</td>\n",
              "      <td>./Archive/midi_files/The_Fugees_-_Killing_Me_S...</td>\n",
              "    </tr>\n",
              "    <tr>\n",
              "      <th>623</th>\n",
              "      <td>the fugees</td>\n",
              "      <td>no woman no cry</td>\n",
              "      <td>./Archive/midi_files/The_Fugees_-_No_Woman_No_...</td>\n",
              "    </tr>\n",
              "    <tr>\n",
              "      <th>624</th>\n",
              "      <td>the fugees</td>\n",
              "      <td>ready or not</td>\n",
              "      <td>./Archive/midi_files/The_Fugees_-_Ready_or_Not...</td>\n",
              "    </tr>\n",
              "  </tbody>\n",
              "</table>\n",
              "<p>625 rows × 3 columns</p>\n",
              "</div>"
            ],
            "text/plain": [
              "                    Singer                       Song Name  \\\n",
              "0    1910 fruitgum company                      simon says   \n",
              "1              2 unlimited              get ready for this   \n",
              "2              2 unlimited  let the beat control your body   \n",
              "3              2 unlimited                    tribal dance   \n",
              "4              2 unlimited                   twilight zone   \n",
              "..                     ...                             ...   \n",
              "620       the four seasons                          sherry   \n",
              "621       the four seasons                 walk like a man   \n",
              "622             the fugees               killing me softly   \n",
              "623             the fugees                 no woman no cry   \n",
              "624             the fugees                    ready or not   \n",
              "\n",
              "                                             Midi Path  \n",
              "0    ./Archive/midi_files/1910_Fruitgum_Company_-_S...  \n",
              "1    ./Archive/midi_files/2_Unlimited_-_Get_Ready_f...  \n",
              "2    ./Archive/midi_files/2_Unlimited_-_Let_the_Bea...  \n",
              "3    ./Archive/midi_files/2_Unlimited_-_Tribal_Danc...  \n",
              "4    ./Archive/midi_files/2_Unlimited_-_Twilight_Zo...  \n",
              "..                                                 ...  \n",
              "620  ./Archive/midi_files/The_Four_Seasons_-_Sherry...  \n",
              "621  ./Archive/midi_files/The_Four_Seasons_-_Walk_L...  \n",
              "622  ./Archive/midi_files/The_Fugees_-_Killing_Me_S...  \n",
              "623  ./Archive/midi_files/The_Fugees_-_No_Woman_No_...  \n",
              "624  ./Archive/midi_files/The_Fugees_-_Ready_or_Not...  \n",
              "\n",
              "[625 rows x 3 columns]"
            ]
          },
          "execution_count": 6,
          "metadata": {},
          "output_type": "execute_result"
        }
      ],
      "source": [
        "midi_files_path = \"./Archive/midi_files/\"\n",
        "#Getting midi files\n",
        "\n",
        "array_midis = []\n",
        "for path in os.listdir(midi_files_path):\n",
        "  if path.endswith(\".mid\"):\n",
        "    txt = path.lower().split(\"-\")\n",
        "    singer = txt[0].replace(\"_\", \" \")[:-1]\n",
        "    song_name = txt[1].replace(\"_\", \" \").split(\".\")[0][1:]\n",
        "    if song_name[-1] == \" \":\n",
        "      song_name = song_name[:-1]\n",
        "    array_midis.append([singer,song_name,midi_files_path+path])\n",
        "\n",
        "midis_df = pd.DataFrame(np.array(array_midis))\n",
        "midis_df.columns = ['Singer', 'Song Name', 'Midi Path']\n",
        "midis_df\n"
      ]
    },
    {
      "cell_type": "code",
      "execution_count": null,
      "metadata": {
        "id": "lawyFgMxHoYc",
        "outputId": "2dd9b9db-d57b-465e-fb04-a132b6a44aaa"
      },
      "outputs": [
        {
          "data": {
            "text/html": [
              "<div>\n",
              "<style scoped>\n",
              "    .dataframe tbody tr th:only-of-type {\n",
              "        vertical-align: middle;\n",
              "    }\n",
              "\n",
              "    .dataframe tbody tr th {\n",
              "        vertical-align: top;\n",
              "    }\n",
              "\n",
              "    .dataframe thead th {\n",
              "        text-align: right;\n",
              "    }\n",
              "</style>\n",
              "<table border=\"1\" class=\"dataframe\">\n",
              "  <thead>\n",
              "    <tr style=\"text-align: right;\">\n",
              "      <th></th>\n",
              "      <th>Singer</th>\n",
              "      <th>Song Name</th>\n",
              "      <th>Midi Path</th>\n",
              "      <th>Lyrics</th>\n",
              "    </tr>\n",
              "  </thead>\n",
              "  <tbody>\n",
              "    <tr>\n",
              "      <th>69</th>\n",
              "      <td>glen campbell</td>\n",
              "      <td>act naturally</td>\n",
              "      <td>NaN</td>\n",
              "      <td>they're gonna put me in the movies &amp; they're g...</td>\n",
              "    </tr>\n",
              "    <tr>\n",
              "      <th>376</th>\n",
              "      <td>frankie valli</td>\n",
              "      <td>where my girls at</td>\n",
              "      <td>NaN</td>\n",
              "      <td>see he's my property &amp; and any girl that touch...</td>\n",
              "    </tr>\n",
              "    <tr>\n",
              "      <th>496</th>\n",
              "      <td>ace of base</td>\n",
              "      <td>all i have to give</td>\n",
              "      <td>NaN</td>\n",
              "      <td>i don't know what he does to make you cry &amp; bu...</td>\n",
              "    </tr>\n",
              "  </tbody>\n",
              "</table>\n",
              "</div>"
            ],
            "text/plain": [
              "            Singer           Song Name Midi Path  \\\n",
              "69   glen campbell       act naturally       NaN   \n",
              "376  frankie valli   where my girls at       NaN   \n",
              "496    ace of base  all i have to give       NaN   \n",
              "\n",
              "                                                Lyrics  \n",
              "69   they're gonna put me in the movies & they're g...  \n",
              "376  see he's my property & and any girl that touch...  \n",
              "496  i don't know what he does to make you cry & bu...  "
            ]
          },
          "execution_count": 7,
          "metadata": {},
          "output_type": "execute_result"
        }
      ],
      "source": [
        "# Songs without midi file\n",
        "no_midi_lyrics = pd.merge(midis_df, df_train, how='right', on=[\"Singer\", \"Song Name\"])\n",
        "no_midi_lyrics[no_midi_lyrics[\"Midi Path\"].isnull()]"
      ]
    },
    {
      "cell_type": "code",
      "execution_count": null,
      "metadata": {
        "id": "c96NOEfyHoYc",
        "outputId": "d8bfb0aa-a503-4cc1-8d52-424c9fe92257"
      },
      "outputs": [
        {
          "data": {
            "text/html": [
              "<div>\n",
              "<style scoped>\n",
              "    .dataframe tbody tr th:only-of-type {\n",
              "        vertical-align: middle;\n",
              "    }\n",
              "\n",
              "    .dataframe tbody tr th {\n",
              "        vertical-align: top;\n",
              "    }\n",
              "\n",
              "    .dataframe thead th {\n",
              "        text-align: right;\n",
              "    }\n",
              "</style>\n",
              "<table border=\"1\" class=\"dataframe\">\n",
              "  <thead>\n",
              "    <tr style=\"text-align: right;\">\n",
              "      <th></th>\n",
              "      <th>Singer</th>\n",
              "      <th>Song Name</th>\n",
              "      <th>Midi Path</th>\n",
              "      <th>Lyrics</th>\n",
              "    </tr>\n",
              "  </thead>\n",
              "  <tbody>\n",
              "    <tr>\n",
              "      <th>10</th>\n",
              "      <td>702</td>\n",
              "      <td>where my girls at</td>\n",
              "      <td>./Archive/midi_files/702_-_Where_My_Girls_At.mid</td>\n",
              "      <td>NaN</td>\n",
              "    </tr>\n",
              "    <tr>\n",
              "      <th>76</th>\n",
              "      <td>aqua</td>\n",
              "      <td>barbie girl</td>\n",
              "      <td>./Archive/midi_files/Aqua_-_Barbie_Girl.mid</td>\n",
              "      <td>NaN</td>\n",
              "    </tr>\n",
              "    <tr>\n",
              "      <th>90</th>\n",
              "      <td>backstreet boys</td>\n",
              "      <td>all i have to give</td>\n",
              "      <td>./Archive/midi_files/Backstreet_Boys_-_All_I_H...</td>\n",
              "      <td>NaN</td>\n",
              "    </tr>\n",
              "    <tr>\n",
              "      <th>144</th>\n",
              "      <td>belinda carlisle</td>\n",
              "      <td>mad about you</td>\n",
              "      <td>./Archive/midi_files/Belinda_Carlisle_-_Mad_Ab...</td>\n",
              "      <td>NaN</td>\n",
              "    </tr>\n",
              "    <tr>\n",
              "      <th>166</th>\n",
              "      <td>billy joel</td>\n",
              "      <td>honesty</td>\n",
              "      <td>./Archive/midi_files/Billy_Joel_-_Honesty.mid</td>\n",
              "      <td>NaN</td>\n",
              "    </tr>\n",
              "    <tr>\n",
              "      <th>193</th>\n",
              "      <td>blink 182</td>\n",
              "      <td>all the small things</td>\n",
              "      <td>./Archive/midi_files/Blink_182_-_All_the_Small...</td>\n",
              "      <td>NaN</td>\n",
              "    </tr>\n",
              "    <tr>\n",
              "      <th>256</th>\n",
              "      <td>buck owens</td>\n",
              "      <td>act naturally</td>\n",
              "      <td>./Archive/midi_files/Buck_Owens_-_Act_Naturall...</td>\n",
              "      <td>NaN</td>\n",
              "    </tr>\n",
              "    <tr>\n",
              "      <th>265</th>\n",
              "      <td>cardigans</td>\n",
              "      <td>lovefool</td>\n",
              "      <td>./Archive/midi_files/Cardigans_-_Lovefool.mid</td>\n",
              "      <td>NaN</td>\n",
              "    </tr>\n",
              "    <tr>\n",
              "      <th>296</th>\n",
              "      <td>chet atkins</td>\n",
              "      <td>wheels</td>\n",
              "      <td>./Archive/midi_files/Chet_Atkins_-_Wheels.mid</td>\n",
              "      <td>NaN</td>\n",
              "    </tr>\n",
              "    <tr>\n",
              "      <th>302</th>\n",
              "      <td>chicago</td>\n",
              "      <td>does anybody really know</td>\n",
              "      <td>./Archive/midi_files/Chicago_-_Does_Anybody_Re...</td>\n",
              "      <td>NaN</td>\n",
              "    </tr>\n",
              "    <tr>\n",
              "      <th>412</th>\n",
              "      <td>edgar winter</td>\n",
              "      <td>frankenstein</td>\n",
              "      <td>./Archive/midi_files/Edgar_Winter_-_Frankenste...</td>\n",
              "      <td>NaN</td>\n",
              "    </tr>\n",
              "    <tr>\n",
              "      <th>438</th>\n",
              "      <td>enya</td>\n",
              "      <td>lothlorien</td>\n",
              "      <td>./Archive/midi_files/Enya_-_Lothlorien.mid</td>\n",
              "      <td>NaN</td>\n",
              "    </tr>\n",
              "    <tr>\n",
              "      <th>534</th>\n",
              "      <td>the bangles</td>\n",
              "      <td>eternal flame</td>\n",
              "      <td>./Archive/midi_files/The_Bangles_-_Eternal_Fla...</td>\n",
              "      <td>NaN</td>\n",
              "    </tr>\n",
              "    <tr>\n",
              "      <th>559</th>\n",
              "      <td>the corrs</td>\n",
              "      <td>carraroe jig</td>\n",
              "      <td>./Archive/midi_files/The_Corrs_-_Carraroe_Jig.mid</td>\n",
              "      <td>NaN</td>\n",
              "    </tr>\n",
              "    <tr>\n",
              "      <th>563</th>\n",
              "      <td>the corrs</td>\n",
              "      <td>haste to the wedding</td>\n",
              "      <td>./Archive/midi_files/The_Corrs_-_Haste_to_the_...</td>\n",
              "      <td>NaN</td>\n",
              "    </tr>\n",
              "  </tbody>\n",
              "</table>\n",
              "</div>"
            ],
            "text/plain": [
              "               Singer                 Song Name  \\\n",
              "10                702         where my girls at   \n",
              "76               aqua               barbie girl   \n",
              "90    backstreet boys        all i have to give   \n",
              "144  belinda carlisle             mad about you   \n",
              "166        billy joel                   honesty   \n",
              "193         blink 182      all the small things   \n",
              "256        buck owens             act naturally   \n",
              "265         cardigans                  lovefool   \n",
              "296       chet atkins                    wheels   \n",
              "302           chicago  does anybody really know   \n",
              "412      edgar winter              frankenstein   \n",
              "438              enya                lothlorien   \n",
              "534       the bangles             eternal flame   \n",
              "559         the corrs              carraroe jig   \n",
              "563         the corrs      haste to the wedding   \n",
              "\n",
              "                                             Midi Path Lyrics  \n",
              "10    ./Archive/midi_files/702_-_Where_My_Girls_At.mid    NaN  \n",
              "76         ./Archive/midi_files/Aqua_-_Barbie_Girl.mid    NaN  \n",
              "90   ./Archive/midi_files/Backstreet_Boys_-_All_I_H...    NaN  \n",
              "144  ./Archive/midi_files/Belinda_Carlisle_-_Mad_Ab...    NaN  \n",
              "166      ./Archive/midi_files/Billy_Joel_-_Honesty.mid    NaN  \n",
              "193  ./Archive/midi_files/Blink_182_-_All_the_Small...    NaN  \n",
              "256  ./Archive/midi_files/Buck_Owens_-_Act_Naturall...    NaN  \n",
              "265      ./Archive/midi_files/Cardigans_-_Lovefool.mid    NaN  \n",
              "296      ./Archive/midi_files/Chet_Atkins_-_Wheels.mid    NaN  \n",
              "302  ./Archive/midi_files/Chicago_-_Does_Anybody_Re...    NaN  \n",
              "412  ./Archive/midi_files/Edgar_Winter_-_Frankenste...    NaN  \n",
              "438         ./Archive/midi_files/Enya_-_Lothlorien.mid    NaN  \n",
              "534  ./Archive/midi_files/The_Bangles_-_Eternal_Fla...    NaN  \n",
              "559  ./Archive/midi_files/The_Corrs_-_Carraroe_Jig.mid    NaN  \n",
              "563  ./Archive/midi_files/The_Corrs_-_Haste_to_the_...    NaN  "
            ]
          },
          "execution_count": 8,
          "metadata": {},
          "output_type": "execute_result"
        }
      ],
      "source": [
        "# Midi files without lyrics\n",
        "midi_no_lyrics = pd.merge(midis_df, df_train, how='left', on=[\"Singer\", \"Song Name\"])\n",
        "midi_no_lyrics[midi_no_lyrics[\"Lyrics\"].isnull()]"
      ]
    },
    {
      "cell_type": "code",
      "execution_count": null,
      "metadata": {
        "colab": {
          "base_uri": "https://localhost:8080/",
          "height": 423
        },
        "id": "OaSnMlgUwgQZ",
        "outputId": "aa9c80ce-cc10-450d-c08a-df2549a496b9"
      },
      "outputs": [
        {
          "data": {
            "text/html": [
              "<div>\n",
              "<style scoped>\n",
              "    .dataframe tbody tr th:only-of-type {\n",
              "        vertical-align: middle;\n",
              "    }\n",
              "\n",
              "    .dataframe tbody tr th {\n",
              "        vertical-align: top;\n",
              "    }\n",
              "\n",
              "    .dataframe thead th {\n",
              "        text-align: right;\n",
              "    }\n",
              "</style>\n",
              "<table border=\"1\" class=\"dataframe\">\n",
              "  <thead>\n",
              "    <tr style=\"text-align: right;\">\n",
              "      <th></th>\n",
              "      <th>Singer</th>\n",
              "      <th>Song Name</th>\n",
              "      <th>Lyrics</th>\n",
              "      <th>Midi Path</th>\n",
              "    </tr>\n",
              "  </thead>\n",
              "  <tbody>\n",
              "    <tr>\n",
              "      <th>0</th>\n",
              "      <td>elton john</td>\n",
              "      <td>candle in the wind</td>\n",
              "      <td>goodbye norma jean &amp; though i never knew you a...</td>\n",
              "      <td>./Archive/midi_files/Elton_John_-_Candle_in_th...</td>\n",
              "    </tr>\n",
              "    <tr>\n",
              "      <th>1</th>\n",
              "      <td>gerry rafferty</td>\n",
              "      <td>baker street</td>\n",
              "      <td>winding your way down on baker street &amp; lite i...</td>\n",
              "      <td>./Archive/midi_files/Gerry_Rafferty_-_Baker_St...</td>\n",
              "    </tr>\n",
              "    <tr>\n",
              "      <th>2</th>\n",
              "      <td>gerry rafferty</td>\n",
              "      <td>right down the line</td>\n",
              "      <td>you know i need your love &amp; you've got that ho...</td>\n",
              "      <td>./Archive/midi_files/Gerry_Rafferty_-_Right_Do...</td>\n",
              "    </tr>\n",
              "    <tr>\n",
              "      <th>3</th>\n",
              "      <td>2 unlimited</td>\n",
              "      <td>tribal dance</td>\n",
              "      <td>come on check it out ya'll &amp; (come on come on!...</td>\n",
              "      <td>./Archive/midi_files/2_Unlimited_-_Tribal_Danc...</td>\n",
              "    </tr>\n",
              "    <tr>\n",
              "      <th>4</th>\n",
              "      <td>2 unlimited</td>\n",
              "      <td>let the beat control your body</td>\n",
              "      <td>let the beat control your body &amp; let the beat ...</td>\n",
              "      <td>./Archive/midi_files/2_Unlimited_-_Let_the_Bea...</td>\n",
              "    </tr>\n",
              "    <tr>\n",
              "      <th>...</th>\n",
              "      <td>...</td>\n",
              "      <td>...</td>\n",
              "      <td>...</td>\n",
              "      <td>...</td>\n",
              "    </tr>\n",
              "    <tr>\n",
              "      <th>607</th>\n",
              "      <td>don henley</td>\n",
              "      <td>dirty laundry</td>\n",
              "      <td>i make my living off the evening news &amp; just g...</td>\n",
              "      <td>./Archive/midi_files/Don_Henley_-_Dirty_Laundr...</td>\n",
              "    </tr>\n",
              "    <tr>\n",
              "      <th>608</th>\n",
              "      <td>don henley</td>\n",
              "      <td>new york minute</td>\n",
              "      <td>harry got up &amp; dressed all in black &amp; went dow...</td>\n",
              "      <td>./Archive/midi_files/Don_Henley_-_New_York_Min...</td>\n",
              "    </tr>\n",
              "    <tr>\n",
              "      <th>609</th>\n",
              "      <td>bob dylan</td>\n",
              "      <td>subterranean homesick blues</td>\n",
              "      <td>johnny's in the basement &amp; mixing up the medic...</td>\n",
              "      <td>./Archive/midi_files/Bob_Dylan_-_Subterranean_...</td>\n",
              "    </tr>\n",
              "    <tr>\n",
              "      <th>610</th>\n",
              "      <td>goldfinger</td>\n",
              "      <td>mable</td>\n",
              "      <td>i met her sunday that was yesterday &amp; the girl...</td>\n",
              "      <td>./Archive/midi_files/Goldfinger_-_Mable.mid</td>\n",
              "    </tr>\n",
              "    <tr>\n",
              "      <th>611</th>\n",
              "      <td>dr dre</td>\n",
              "      <td>forgot about dre</td>\n",
              "      <td>y'all know me still the same o.g. but i been l...</td>\n",
              "      <td>./Archive/midi_files/Dr_Dre_-_Forgot_About_Dre...</td>\n",
              "    </tr>\n",
              "  </tbody>\n",
              "</table>\n",
              "<p>612 rows × 4 columns</p>\n",
              "</div>"
            ],
            "text/plain": [
              "             Singer                       Song Name  \\\n",
              "0        elton john              candle in the wind   \n",
              "1    gerry rafferty                    baker street   \n",
              "2    gerry rafferty             right down the line   \n",
              "3       2 unlimited                    tribal dance   \n",
              "4       2 unlimited  let the beat control your body   \n",
              "..              ...                             ...   \n",
              "607      don henley                   dirty laundry   \n",
              "608      don henley                 new york minute   \n",
              "609       bob dylan     subterranean homesick blues   \n",
              "610      goldfinger                           mable   \n",
              "611          dr dre                forgot about dre   \n",
              "\n",
              "                                                Lyrics  \\\n",
              "0    goodbye norma jean & though i never knew you a...   \n",
              "1    winding your way down on baker street & lite i...   \n",
              "2    you know i need your love & you've got that ho...   \n",
              "3    come on check it out ya'll & (come on come on!...   \n",
              "4    let the beat control your body & let the beat ...   \n",
              "..                                                 ...   \n",
              "607  i make my living off the evening news & just g...   \n",
              "608  harry got up & dressed all in black & went dow...   \n",
              "609  johnny's in the basement & mixing up the medic...   \n",
              "610  i met her sunday that was yesterday & the girl...   \n",
              "611  y'all know me still the same o.g. but i been l...   \n",
              "\n",
              "                                             Midi Path  \n",
              "0    ./Archive/midi_files/Elton_John_-_Candle_in_th...  \n",
              "1    ./Archive/midi_files/Gerry_Rafferty_-_Baker_St...  \n",
              "2    ./Archive/midi_files/Gerry_Rafferty_-_Right_Do...  \n",
              "3    ./Archive/midi_files/2_Unlimited_-_Tribal_Danc...  \n",
              "4    ./Archive/midi_files/2_Unlimited_-_Let_the_Bea...  \n",
              "..                                                 ...  \n",
              "607  ./Archive/midi_files/Don_Henley_-_Dirty_Laundr...  \n",
              "608  ./Archive/midi_files/Don_Henley_-_New_York_Min...  \n",
              "609  ./Archive/midi_files/Bob_Dylan_-_Subterranean_...  \n",
              "610        ./Archive/midi_files/Goldfinger_-_Mable.mid  \n",
              "611  ./Archive/midi_files/Dr_Dre_-_Forgot_About_Dre...  \n",
              "\n",
              "[612 rows x 4 columns]"
            ]
          },
          "execution_count": 9,
          "metadata": {},
          "output_type": "execute_result"
        }
      ],
      "source": [
        "# Add the midi file path to the train set\n",
        "df_train = pd.merge(df_train, midis_df, how='inner', on=[\"Singer\", \"Song Name\"])\n",
        "df_train"
      ]
    },
    {
      "cell_type": "code",
      "execution_count": null,
      "metadata": {
        "colab": {
          "base_uri": "https://localhost:8080/",
          "height": 206
        },
        "id": "NIMRJQqu2UZY",
        "outputId": "43e97c84-a7f2-4742-8b0c-14bb5bbd4b54"
      },
      "outputs": [
        {
          "data": {
            "text/html": [
              "<div>\n",
              "<style scoped>\n",
              "    .dataframe tbody tr th:only-of-type {\n",
              "        vertical-align: middle;\n",
              "    }\n",
              "\n",
              "    .dataframe tbody tr th {\n",
              "        vertical-align: top;\n",
              "    }\n",
              "\n",
              "    .dataframe thead th {\n",
              "        text-align: right;\n",
              "    }\n",
              "</style>\n",
              "<table border=\"1\" class=\"dataframe\">\n",
              "  <thead>\n",
              "    <tr style=\"text-align: right;\">\n",
              "      <th></th>\n",
              "      <th>Singer</th>\n",
              "      <th>Song Name</th>\n",
              "      <th>Lyrics</th>\n",
              "      <th>Midi Path</th>\n",
              "    </tr>\n",
              "  </thead>\n",
              "  <tbody>\n",
              "    <tr>\n",
              "      <th>0</th>\n",
              "      <td>the bangles</td>\n",
              "      <td>eternal flame</td>\n",
              "      <td>close your eyes give me your hand darling &amp; d...</td>\n",
              "      <td>./Archive/midi_files/The_Bangles_-_Eternal_Fla...</td>\n",
              "    </tr>\n",
              "    <tr>\n",
              "      <th>1</th>\n",
              "      <td>billy joel</td>\n",
              "      <td>honesty</td>\n",
              "      <td>if you search for tenderness &amp; it isn't hard ...</td>\n",
              "      <td>./Archive/midi_files/Billy_Joel_-_Honesty.mid</td>\n",
              "    </tr>\n",
              "    <tr>\n",
              "      <th>2</th>\n",
              "      <td>cardigans</td>\n",
              "      <td>lovefool</td>\n",
              "      <td>dear i fear we're facing a problem &amp; you love...</td>\n",
              "      <td>./Archive/midi_files/Cardigans_-_Lovefool.mid</td>\n",
              "    </tr>\n",
              "    <tr>\n",
              "      <th>3</th>\n",
              "      <td>aqua</td>\n",
              "      <td>barbie girl</td>\n",
              "      <td>hiya barbie &amp; hi ken! &amp; do you want to go for...</td>\n",
              "      <td>./Archive/midi_files/Aqua_-_Barbie_Girl.mid</td>\n",
              "    </tr>\n",
              "    <tr>\n",
              "      <th>4</th>\n",
              "      <td>blink 182</td>\n",
              "      <td>all the small things</td>\n",
              "      <td>all the small things &amp; true care truth brings...</td>\n",
              "      <td>./Archive/midi_files/Blink_182_-_All_the_Small...</td>\n",
              "    </tr>\n",
              "  </tbody>\n",
              "</table>\n",
              "</div>"
            ],
            "text/plain": [
              "        Singer             Song Name  \\\n",
              "0  the bangles         eternal flame   \n",
              "1   billy joel               honesty   \n",
              "2    cardigans              lovefool   \n",
              "3         aqua           barbie girl   \n",
              "4    blink 182  all the small things   \n",
              "\n",
              "                                              Lyrics  \\\n",
              "0   close your eyes give me your hand darling & d...   \n",
              "1   if you search for tenderness & it isn't hard ...   \n",
              "2   dear i fear we're facing a problem & you love...   \n",
              "3   hiya barbie & hi ken! & do you want to go for...   \n",
              "4   all the small things & true care truth brings...   \n",
              "\n",
              "                                           Midi Path  \n",
              "0  ./Archive/midi_files/The_Bangles_-_Eternal_Fla...  \n",
              "1      ./Archive/midi_files/Billy_Joel_-_Honesty.mid  \n",
              "2      ./Archive/midi_files/Cardigans_-_Lovefool.mid  \n",
              "3        ./Archive/midi_files/Aqua_-_Barbie_Girl.mid  \n",
              "4  ./Archive/midi_files/Blink_182_-_All_the_Small...  "
            ]
          },
          "execution_count": 10,
          "metadata": {},
          "output_type": "execute_result"
        }
      ],
      "source": [
        "# Add the midi file path to the test set\n",
        "df_test = pd.merge(df_test, midis_df, how='inner', on=[\"Singer\", \"Song Name\"])\n",
        "df_test"
      ]
    },
    {
      "cell_type": "markdown",
      "metadata": {
        "id": "3klgT9ClvvDA"
      },
      "source": [
        "Since some of the midi files are corrupted we remove them at this point:"
      ]
    },
    {
      "cell_type": "code",
      "execution_count": null,
      "metadata": {
        "id": "hevq07WLuaHQ"
      },
      "outputs": [],
      "source": [
        "def remove_notes_from_midi(midi):\n",
        "    pmidi = pretty_midi.PrettyMIDI(midi)\n",
        "    pmidi.remove_invalid_notes()\n",
        "    return pmidi"
      ]
    },
    {
      "cell_type": "code",
      "execution_count": null,
      "metadata": {
        "id": "ezV37ufDsbMU"
      },
      "outputs": [],
      "source": [
        "def get_broken_files(midi_files):\n",
        "    broken_files = []\n",
        "    for i, midi in enumerate(midi_files):\n",
        "        try:\n",
        "            midi = remove_notes_from_midi(midi)\n",
        "            del midi\n",
        "        except Exception as e:\n",
        "            print(\"%s\\nbroken midi file %s\" % (e, midi.split('/')[-1]))\n",
        "            broken_files.append(i)\n",
        "  \n",
        "    return broken_files"
      ]
    },
    {
      "cell_type": "code",
      "execution_count": null,
      "metadata": {
        "colab": {
          "base_uri": "https://localhost:8080/"
        },
        "id": "uPlJgBQnvOF8",
        "outputId": "37801228-4791-4144-c974-89584066041a"
      },
      "outputs": [
        {
          "name": "stderr",
          "output_type": "stream",
          "text": [
            "/home/shcheran/.conda/envs/dl-env/lib/python3.8/site-packages/pretty_midi/pretty_midi.py:97: RuntimeWarning: Tempo, Key or Time signature change events found on non-zero tracks.  This is not a valid type 0 or type 1 MIDI file.  Tempo, Key or Time Signature may be wrong.\n",
            "  warnings.warn(\n"
          ]
        },
        {
          "name": "stdout",
          "output_type": "stream",
          "text": [
            "Could not decode key with 16 sharps and mode 1\n",
            "broken midi file David_Bowie_-_Lazarus.mid\n",
            "Could not decode key with 1 flats and mode 255\n",
            "broken midi file Beastie_Boys_-_Girls.mid\n",
            "data byte must be in range 0..127\n",
            "broken midi file Billy_Joel_-_Movin'_Out.mid\n",
            "data byte must be in range 0..127\n",
            "broken midi file Billy_Joel_-_Pressure.mid\n",
            "Could not decode key with 4 flats and mode 255\n",
            "broken midi file Dan_Fogelberg_-_Leader_of_the_Band.mid\n",
            "\n",
            "broken midi file Brian_McKnight_-_On_The_Down_Low.mid\n",
            "data byte must be in range 0..127\n",
            "broken midi file Aaron_Neville_-_Tell_It_Like_It_Is.mid\n"
          ]
        }
      ],
      "source": [
        "broken_files = get_broken_files(df_train['Midi Path'].values)"
      ]
    },
    {
      "cell_type": "code",
      "execution_count": null,
      "metadata": {
        "colab": {
          "base_uri": "https://localhost:8080/",
          "height": 237
        },
        "id": "IC2BvQ7svnOU",
        "outputId": "7ccb77a3-4301-4750-8a1d-e2162d0a8f34"
      },
      "outputs": [
        {
          "data": {
            "text/html": [
              "<div>\n",
              "<style scoped>\n",
              "    .dataframe tbody tr th:only-of-type {\n",
              "        vertical-align: middle;\n",
              "    }\n",
              "\n",
              "    .dataframe tbody tr th {\n",
              "        vertical-align: top;\n",
              "    }\n",
              "\n",
              "    .dataframe thead th {\n",
              "        text-align: right;\n",
              "    }\n",
              "</style>\n",
              "<table border=\"1\" class=\"dataframe\">\n",
              "  <thead>\n",
              "    <tr style=\"text-align: right;\">\n",
              "      <th></th>\n",
              "      <th>Singer</th>\n",
              "      <th>Song Name</th>\n",
              "      <th>Lyrics</th>\n",
              "      <th>Midi Path</th>\n",
              "    </tr>\n",
              "  </thead>\n",
              "  <tbody>\n",
              "    <tr>\n",
              "      <th>90</th>\n",
              "      <td>david bowie</td>\n",
              "      <td>lazarus</td>\n",
              "      <td>look up here i'm in heaven &amp; i've got scars th...</td>\n",
              "      <td>./Archive/midi_files/David_Bowie_-_Lazarus.mid</td>\n",
              "    </tr>\n",
              "    <tr>\n",
              "      <th>114</th>\n",
              "      <td>beastie boys</td>\n",
              "      <td>girls</td>\n",
              "      <td>girls all i really want is girls &amp; and in the ...</td>\n",
              "      <td>./Archive/midi_files/Beastie_Boys_-_Girls.mid</td>\n",
              "    </tr>\n",
              "    <tr>\n",
              "      <th>135</th>\n",
              "      <td>billy joel</td>\n",
              "      <td>movin' out</td>\n",
              "      <td>anthony works in the grocery store   &amp; savin h...</td>\n",
              "      <td>./Archive/midi_files/Billy_Joel_-_Movin'_Out.mid</td>\n",
              "    </tr>\n",
              "    <tr>\n",
              "      <th>142</th>\n",
              "      <td>billy joel</td>\n",
              "      <td>pressure</td>\n",
              "      <td>you have to learn to pace yourself &amp; pressure ...</td>\n",
              "      <td>./Archive/midi_files/Billy_Joel_-_Pressure.mid</td>\n",
              "    </tr>\n",
              "    <tr>\n",
              "      <th>188</th>\n",
              "      <td>dan fogelberg</td>\n",
              "      <td>leader of the band</td>\n",
              "      <td>an only child alone and wild a cabinet maker's...</td>\n",
              "      <td>./Archive/midi_files/Dan_Fogelberg_-_Leader_of...</td>\n",
              "    </tr>\n",
              "    <tr>\n",
              "      <th>510</th>\n",
              "      <td>brian mcknight</td>\n",
              "      <td>on the down low</td>\n",
              "      <td>maxine was 5'9'' &amp; had a man and she didn't mi...</td>\n",
              "      <td>./Archive/midi_files/Brian_McKnight_-_On_The_D...</td>\n",
              "    </tr>\n",
              "    <tr>\n",
              "      <th>572</th>\n",
              "      <td>aaron neville</td>\n",
              "      <td>tell it like it is</td>\n",
              "      <td>if you want something to play with &amp; go and fi...</td>\n",
              "      <td>./Archive/midi_files/Aaron_Neville_-_Tell_It_L...</td>\n",
              "    </tr>\n",
              "  </tbody>\n",
              "</table>\n",
              "</div>"
            ],
            "text/plain": [
              "             Singer           Song Name  \\\n",
              "90      david bowie             lazarus   \n",
              "114    beastie boys               girls   \n",
              "135      billy joel          movin' out   \n",
              "142      billy joel            pressure   \n",
              "188   dan fogelberg  leader of the band   \n",
              "510  brian mcknight     on the down low   \n",
              "572   aaron neville  tell it like it is   \n",
              "\n",
              "                                                Lyrics  \\\n",
              "90   look up here i'm in heaven & i've got scars th...   \n",
              "114  girls all i really want is girls & and in the ...   \n",
              "135  anthony works in the grocery store   & savin h...   \n",
              "142  you have to learn to pace yourself & pressure ...   \n",
              "188  an only child alone and wild a cabinet maker's...   \n",
              "510  maxine was 5'9'' & had a man and she didn't mi...   \n",
              "572  if you want something to play with & go and fi...   \n",
              "\n",
              "                                             Midi Path  \n",
              "90      ./Archive/midi_files/David_Bowie_-_Lazarus.mid  \n",
              "114      ./Archive/midi_files/Beastie_Boys_-_Girls.mid  \n",
              "135   ./Archive/midi_files/Billy_Joel_-_Movin'_Out.mid  \n",
              "142     ./Archive/midi_files/Billy_Joel_-_Pressure.mid  \n",
              "188  ./Archive/midi_files/Dan_Fogelberg_-_Leader_of...  \n",
              "510  ./Archive/midi_files/Brian_McKnight_-_On_The_D...  \n",
              "572  ./Archive/midi_files/Aaron_Neville_-_Tell_It_L...  "
            ]
          },
          "execution_count": 14,
          "metadata": {},
          "output_type": "execute_result"
        }
      ],
      "source": [
        "songs_to_drop = df_train.iloc[broken_files]\n",
        "songs_to_drop"
      ]
    },
    {
      "cell_type": "code",
      "execution_count": null,
      "metadata": {
        "id": "FGl8igmivG9I"
      },
      "outputs": [],
      "source": [
        "# Drop the broken midi files\n",
        "df_train.drop(axis=0, index=songs_to_drop.index, inplace=True)"
      ]
    },
    {
      "cell_type": "code",
      "execution_count": null,
      "metadata": {
        "id": "oJWrWIObHoYf",
        "outputId": "2257174a-3c3d-4411-a650-f4d638e94eac"
      },
      "outputs": [
        {
          "data": {
            "text/html": [
              "<div>\n",
              "<style scoped>\n",
              "    .dataframe tbody tr th:only-of-type {\n",
              "        vertical-align: middle;\n",
              "    }\n",
              "\n",
              "    .dataframe tbody tr th {\n",
              "        vertical-align: top;\n",
              "    }\n",
              "\n",
              "    .dataframe thead th {\n",
              "        text-align: right;\n",
              "    }\n",
              "</style>\n",
              "<table border=\"1\" class=\"dataframe\">\n",
              "  <thead>\n",
              "    <tr style=\"text-align: right;\">\n",
              "      <th></th>\n",
              "      <th>Singer</th>\n",
              "      <th>Song Name</th>\n",
              "      <th>Lyrics</th>\n",
              "      <th>Midi Path</th>\n",
              "    </tr>\n",
              "  </thead>\n",
              "  <tbody>\n",
              "    <tr>\n",
              "      <th>0</th>\n",
              "      <td>elton john</td>\n",
              "      <td>candle in the wind</td>\n",
              "      <td>goodbye norma jean &amp; though i never knew you a...</td>\n",
              "      <td>./Archive/midi_files/Elton_John_-_Candle_in_th...</td>\n",
              "    </tr>\n",
              "    <tr>\n",
              "      <th>1</th>\n",
              "      <td>gerry rafferty</td>\n",
              "      <td>baker street</td>\n",
              "      <td>winding your way down on baker street &amp; lite i...</td>\n",
              "      <td>./Archive/midi_files/Gerry_Rafferty_-_Baker_St...</td>\n",
              "    </tr>\n",
              "    <tr>\n",
              "      <th>2</th>\n",
              "      <td>gerry rafferty</td>\n",
              "      <td>right down the line</td>\n",
              "      <td>you know i need your love &amp; you've got that ho...</td>\n",
              "      <td>./Archive/midi_files/Gerry_Rafferty_-_Right_Do...</td>\n",
              "    </tr>\n",
              "    <tr>\n",
              "      <th>3</th>\n",
              "      <td>2 unlimited</td>\n",
              "      <td>tribal dance</td>\n",
              "      <td>come on check it out ya'll &amp; (come on come on!...</td>\n",
              "      <td>./Archive/midi_files/2_Unlimited_-_Tribal_Danc...</td>\n",
              "    </tr>\n",
              "    <tr>\n",
              "      <th>4</th>\n",
              "      <td>2 unlimited</td>\n",
              "      <td>let the beat control your body</td>\n",
              "      <td>let the beat control your body &amp; let the beat ...</td>\n",
              "      <td>./Archive/midi_files/2_Unlimited_-_Let_the_Bea...</td>\n",
              "    </tr>\n",
              "    <tr>\n",
              "      <th>...</th>\n",
              "      <td>...</td>\n",
              "      <td>...</td>\n",
              "      <td>...</td>\n",
              "      <td>...</td>\n",
              "    </tr>\n",
              "    <tr>\n",
              "      <th>607</th>\n",
              "      <td>don henley</td>\n",
              "      <td>dirty laundry</td>\n",
              "      <td>i make my living off the evening news &amp; just g...</td>\n",
              "      <td>./Archive/midi_files/Don_Henley_-_Dirty_Laundr...</td>\n",
              "    </tr>\n",
              "    <tr>\n",
              "      <th>608</th>\n",
              "      <td>don henley</td>\n",
              "      <td>new york minute</td>\n",
              "      <td>harry got up &amp; dressed all in black &amp; went dow...</td>\n",
              "      <td>./Archive/midi_files/Don_Henley_-_New_York_Min...</td>\n",
              "    </tr>\n",
              "    <tr>\n",
              "      <th>609</th>\n",
              "      <td>bob dylan</td>\n",
              "      <td>subterranean homesick blues</td>\n",
              "      <td>johnny's in the basement &amp; mixing up the medic...</td>\n",
              "      <td>./Archive/midi_files/Bob_Dylan_-_Subterranean_...</td>\n",
              "    </tr>\n",
              "    <tr>\n",
              "      <th>610</th>\n",
              "      <td>goldfinger</td>\n",
              "      <td>mable</td>\n",
              "      <td>i met her sunday that was yesterday &amp; the girl...</td>\n",
              "      <td>./Archive/midi_files/Goldfinger_-_Mable.mid</td>\n",
              "    </tr>\n",
              "    <tr>\n",
              "      <th>611</th>\n",
              "      <td>dr dre</td>\n",
              "      <td>forgot about dre</td>\n",
              "      <td>y'all know me still the same o.g. but i been l...</td>\n",
              "      <td>./Archive/midi_files/Dr_Dre_-_Forgot_About_Dre...</td>\n",
              "    </tr>\n",
              "  </tbody>\n",
              "</table>\n",
              "<p>604 rows × 4 columns</p>\n",
              "</div>"
            ],
            "text/plain": [
              "             Singer                       Song Name  \\\n",
              "0        elton john              candle in the wind   \n",
              "1    gerry rafferty                    baker street   \n",
              "2    gerry rafferty             right down the line   \n",
              "3       2 unlimited                    tribal dance   \n",
              "4       2 unlimited  let the beat control your body   \n",
              "..              ...                             ...   \n",
              "607      don henley                   dirty laundry   \n",
              "608      don henley                 new york minute   \n",
              "609       bob dylan     subterranean homesick blues   \n",
              "610      goldfinger                           mable   \n",
              "611          dr dre                forgot about dre   \n",
              "\n",
              "                                                Lyrics  \\\n",
              "0    goodbye norma jean & though i never knew you a...   \n",
              "1    winding your way down on baker street & lite i...   \n",
              "2    you know i need your love & you've got that ho...   \n",
              "3    come on check it out ya'll & (come on come on!...   \n",
              "4    let the beat control your body & let the beat ...   \n",
              "..                                                 ...   \n",
              "607  i make my living off the evening news & just g...   \n",
              "608  harry got up & dressed all in black & went dow...   \n",
              "609  johnny's in the basement & mixing up the medic...   \n",
              "610  i met her sunday that was yesterday & the girl...   \n",
              "611  y'all know me still the same o.g. but i been l...   \n",
              "\n",
              "                                             Midi Path  \n",
              "0    ./Archive/midi_files/Elton_John_-_Candle_in_th...  \n",
              "1    ./Archive/midi_files/Gerry_Rafferty_-_Baker_St...  \n",
              "2    ./Archive/midi_files/Gerry_Rafferty_-_Right_Do...  \n",
              "3    ./Archive/midi_files/2_Unlimited_-_Tribal_Danc...  \n",
              "4    ./Archive/midi_files/2_Unlimited_-_Let_the_Bea...  \n",
              "..                                                 ...  \n",
              "607  ./Archive/midi_files/Don_Henley_-_Dirty_Laundr...  \n",
              "608  ./Archive/midi_files/Don_Henley_-_New_York_Min...  \n",
              "609  ./Archive/midi_files/Bob_Dylan_-_Subterranean_...  \n",
              "610        ./Archive/midi_files/Goldfinger_-_Mable.mid  \n",
              "611  ./Archive/midi_files/Dr_Dre_-_Forgot_About_Dre...  \n",
              "\n",
              "[604 rows x 4 columns]"
            ]
          },
          "execution_count": 16,
          "metadata": {},
          "output_type": "execute_result"
        }
      ],
      "source": [
        "# This song is in Spanish so we will remove it\n",
        "df_train = df_train[df_train['Song Name'] != 'mi chico latino']\n",
        "df_train"
      ]
    },
    {
      "cell_type": "markdown",
      "metadata": {
        "id": "YJWF0xrCiBUF"
      },
      "source": [
        "### Create validation set"
      ]
    },
    {
      "cell_type": "code",
      "execution_count": null,
      "metadata": {
        "id": "sH7PpoHMRwxU",
        "tags": []
      },
      "outputs": [],
      "source": [
        "SEED = 10\n",
        "\n",
        "random.seed(SEED)\n",
        "np.random.seed(SEED)\n",
        "tf.random.set_seed(SEED)"
      ]
    },
    {
      "cell_type": "markdown",
      "metadata": {
        "id": "l-9Uo5RXiBUG"
      },
      "source": [
        "We divide the training set into validation set and a new training set. When the new training set will be at most 80% of the original training set."
      ]
    },
    {
      "cell_type": "code",
      "execution_count": null,
      "metadata": {
        "id": "T1SwxsnHiBUG"
      },
      "outputs": [],
      "source": [
        "msk = np.random.rand(len(df_train)) < 0.8\n",
        "\n",
        "df_validation = df_train[~msk]\n",
        "df_train = df_train[msk]"
      ]
    },
    {
      "cell_type": "code",
      "execution_count": null,
      "metadata": {
        "colab": {
          "base_uri": "https://localhost:8080/"
        },
        "id": "LXOnBGaliBUH",
        "outputId": "3a9b12ae-45cd-4713-9cca-355b01a3ffe1"
      },
      "outputs": [
        {
          "name": "stdout",
          "output_type": "stream",
          "text": [
            "The train set contains: 489 records\n",
            "The validation set contains: 115 records\n",
            "The test set contains: 5 records\n"
          ]
        }
      ],
      "source": [
        "print(f'The train set contains: {len(df_train)} records')\n",
        "print(f'The validation set contains: {len(df_validation)} records')\n",
        "print(f'The test set contains: {len(df_test)} records')"
      ]
    },
    {
      "cell_type": "markdown",
      "metadata": {
        "id": "4Dk7z2LCT50M"
      },
      "source": [
        "## Preprocessing"
      ]
    },
    {
      "cell_type": "markdown",
      "metadata": {
        "id": "FGQE5Yn5UAq7"
      },
      "source": [
        "### Lyrics Preprocessing"
      ]
    },
    {
      "cell_type": "markdown",
      "metadata": {
        "id": "Z4R-2f03VCB3"
      },
      "source": [
        "\n",
        "\n",
        "1.   Lower case all the words.\n",
        "2.   Split shorcuts pharses, for example: y'all -> you all.\n",
        "3.   Remove punctuations and digits, keep only '&' - represent a new line.\n",
        "4.   Tokenize the lyrics - make the lyrics into a list of words.\n",
        "5.   Add the symbol '$' to the end the list - represent the end of the song.\n",
        "\n",
        "\n",
        "\n",
        "*   We thought about remove stop words and using stemming, but decided to give up because we wanted the model to be able to create a logical and continuous sentence.\n",
        "\n",
        "\n",
        "\n",
        "\n",
        "\n",
        "\n"
      ]
    },
    {
      "cell_type": "code",
      "execution_count": null,
      "metadata": {
        "id": "fz5j8CroT_vt"
      },
      "outputs": [],
      "source": [
        "def decontracted(phrase):\n",
        "    pharse = phrase.lower()\n",
        "\n",
        "    # specific\n",
        "    phrase = re.sub(r\"won't\", \"will not\", phrase)\n",
        "    phrase = re.sub(r\"can\\'t\", \"can not\", phrase)\n",
        "    phrase = re.sub(r\"y'all\", \"you all\", phrase)\n",
        "    phrase = re.sub(r\"'cause\", \"because\", phrase)\n",
        "    phrase = re.sub(r\"ain't\", \"i am not\", phrase)\n",
        "    phrase = re.sub(r\"hiya\", \"hi you\", phrase)\n",
        "    phrase = re.sub(r\"hiya\", \"hi you\", phrase)\n",
        "    phrase = re.sub(r\"'till\", \"until\", phrase)\n",
        "\n",
        "    # general\n",
        "    phrase = re.sub(r\"n\\'t\", \" not\", phrase)\n",
        "    phrase = re.sub(r\"\\'re\", \" are\", phrase)\n",
        "    phrase = re.sub(r\"\\'s\", \" is\", phrase)\n",
        "    phrase = re.sub(r\"\\'d\", \" would\", phrase)\n",
        "    phrase = re.sub(r\"\\'ll\", \" will\", phrase)\n",
        "    phrase = re.sub(r\"\\'t\", \" not\", phrase)\n",
        "    phrase = re.sub(r\"\\'ve\", \" have\", phrase)\n",
        "    phrase = re.sub(r\"\\'m\", \" am\", phrase)\n",
        "    phrase = re.sub(r\"\\'ll\", \" will\", phrase)\n",
        "    phrase = re.sub(r\"in'\", \"ing\", phrase)\n",
        "\n",
        "    # punctuation\n",
        "    regex = re.compile('[^a-zA-Z& ]')\n",
        "    phrase = regex.sub('', phrase)\n",
        "    \n",
        "\n",
        "    return phrase"
      ]
    },
    {
      "cell_type": "code",
      "execution_count": null,
      "metadata": {
        "colab": {
          "base_uri": "https://localhost:8080/",
          "height": 110
        },
        "id": "nhNJVgbLQea1",
        "outputId": "5e459041-87d5-475f-fab3-20ee17bd44f8"
      },
      "outputs": [
        {
          "name": "stdout",
          "output_type": "stream",
          "text": [
            "you know i need your love \n",
            "you've got that hold over me \n",
            "long as i've got your love \n",
            "you know that i'll never leave \n",
            "when i wanted you to share my life \n",
            "i had no doubt in my mind \n",
            "and it's been you woman \n",
            "right down the line \n",
            "i know how much i lean on you \n",
            "only you can see \n",
            "the changes that i've been through \n",
            "have left a mark on me \n",
            "you've been as constant as a northern star \n",
            "the brightest light that shines \n",
            "it's been you woman right down the line \n",
            "i just want to say this is my way \n",
            "of tellin' you everything \n",
            "i could never say before \n",
            "yeah this is my way of tellin' you \n",
            "that every day i'm lovin' you so much more \n",
            "'cause you believed in me through my darkest night \n",
            "put somethin' better inside of me \n",
            "you brought me into the light \n",
            "threw away all those crazy dreams \n",
            "i put them all behind \n",
            "and it was you woman \n",
            "right down the line \n",
            "i just want to say this is my way of tellin' you everything \n",
            "i could never say before \n",
            "yeah this is my way of tellin' you \n",
            "everything i could never say before \n",
            "yeah this is my way of tellin' you \n",
            "that every day i'm lovin' you so much more &\n"
          ]
        }
      ],
      "source": [
        "# This is how the lyrics looks like before the preprocessing\n",
        "raw_song = df_train['Lyrics'][2]\n",
        "raw_song = raw_song.replace('& ', '\\n')\n",
        "print(raw_song)"
      ]
    },
    {
      "cell_type": "code",
      "execution_count": null,
      "metadata": {
        "colab": {
          "base_uri": "https://localhost:8080/",
          "height": 110
        },
        "id": "6pmsVh5Wdi7V",
        "outputId": "571deb11-08b3-4038-fe99-0f0b50b5a84d"
      },
      "outputs": [
        {
          "name": "stdout",
          "output_type": "stream",
          "text": [
            "you know i need your love \n",
            "you have got that hold over me \n",
            "long as i have got your love \n",
            "you know that i will never leave \n",
            "when i wanted you to share my life \n",
            "i had no doubt in my mind \n",
            "and it is been you woman \n",
            "right down the line \n",
            "i know how much i lean on you \n",
            "only you can see \n",
            "the changes that i have been through \n",
            "have left a mark on me \n",
            "you have been as constant as a northern star \n",
            "the brightest light that shines \n",
            "it is been you woman right down the line \n",
            "i just want to say this is my way \n",
            "of telling you everything \n",
            "i could never say before \n",
            "yeah this is my way of telling you \n",
            "that every day i am loving you so much more \n",
            "because you believed in me through my darkest night \n",
            "put something better inside of me \n",
            "you brought me into the light \n",
            "threw away all those crazy dreams \n",
            "i put them all behind \n",
            "and it was you woman \n",
            "right down the line \n",
            "i just want to say this is my way of telling you everything \n",
            "i could never say before \n",
            "yeah this is my way of telling you \n",
            "everything i could never say before \n",
            "yeah this is my way of telling you \n",
            "that every day i am loving you so much more $\n"
          ]
        },
        {
          "name": "stderr",
          "output_type": "stream",
          "text": [
            "/tmp/ipykernel_200147/1789309077.py:1: SettingWithCopyWarning: \n",
            "A value is trying to be set on a copy of a slice from a DataFrame.\n",
            "Try using .loc[row_indexer,col_indexer] = value instead\n",
            "\n",
            "See the caveats in the documentation: https://pandas.pydata.org/pandas-docs/stable/user_guide/indexing.html#returning-a-view-versus-a-copy\n",
            "  df_train['Lyrics'] = df_train['Lyrics'].apply(lambda text: decontracted(text)[:-1] + '$')\n",
            "/tmp/ipykernel_200147/1789309077.py:2: SettingWithCopyWarning: \n",
            "A value is trying to be set on a copy of a slice from a DataFrame.\n",
            "Try using .loc[row_indexer,col_indexer] = value instead\n",
            "\n",
            "See the caveats in the documentation: https://pandas.pydata.org/pandas-docs/stable/user_guide/indexing.html#returning-a-view-versus-a-copy\n",
            "  df_validation['Lyrics'] = df_validation['Lyrics'].apply(lambda text: decontracted(text)[:-1] + '$')\n"
          ]
        }
      ],
      "source": [
        "df_train['Lyrics'] = df_train['Lyrics'].apply(lambda text: decontracted(text)[:-1] + '$')\n",
        "df_validation['Lyrics'] = df_validation['Lyrics'].apply(lambda text: decontracted(text)[:-1] + '$')\n",
        "\n",
        "# This is how the lyrics looks like after the preprocessing\n",
        "prp_song = df_train['Lyrics'][2]\n",
        "prp_song = prp_song.replace('& ', '\\n')\n",
        "print(prp_song)"
      ]
    },
    {
      "cell_type": "code",
      "execution_count": null,
      "metadata": {
        "colab": {
          "base_uri": "https://localhost:8080/"
        },
        "id": "g4656g0__p4w",
        "outputId": "7282acb9-fe2d-4355-b6b7-f4325233fb1b"
      },
      "outputs": [
        {
          "name": "stderr",
          "output_type": "stream",
          "text": [
            "/tmp/ipykernel_200147/2259282029.py:2: SettingWithCopyWarning: \n",
            "A value is trying to be set on a copy of a slice from a DataFrame.\n",
            "Try using .loc[row_indexer,col_indexer] = value instead\n",
            "\n",
            "See the caveats in the documentation: https://pandas.pydata.org/pandas-docs/stable/user_guide/indexing.html#returning-a-view-versus-a-copy\n",
            "  df_train['Lyrics'] = df_train['Lyrics'].apply(lambda text: word_tokenize(text))\n",
            "/tmp/ipykernel_200147/2259282029.py:3: SettingWithCopyWarning: \n",
            "A value is trying to be set on a copy of a slice from a DataFrame.\n",
            "Try using .loc[row_indexer,col_indexer] = value instead\n",
            "\n",
            "See the caveats in the documentation: https://pandas.pydata.org/pandas-docs/stable/user_guide/indexing.html#returning-a-view-versus-a-copy\n",
            "  df_validation['Lyrics'] = df_validation['Lyrics'].apply(lambda text: word_tokenize(text))\n"
          ]
        }
      ],
      "source": [
        "# Tokenize the words\n",
        "df_train['Lyrics'] = df_train['Lyrics'].apply(lambda text: word_tokenize(text))\n",
        "df_validation['Lyrics'] = df_validation['Lyrics'].apply(lambda text: word_tokenize(text))"
      ]
    },
    {
      "cell_type": "markdown",
      "metadata": {
        "id": "OWr3-_s6Cgix"
      },
      "source": [
        "#### Word2Vec Embedding"
      ]
    },
    {
      "cell_type": "code",
      "execution_count": null,
      "metadata": {
        "id": "VZi8ipIiSwdx"
      },
      "outputs": [],
      "source": [
        "SEED = 10\n",
        "\n",
        "random.seed(SEED)\n",
        "np.random.seed(SEED)\n",
        "tf.random.set_seed(SEED)"
      ]
    },
    {
      "cell_type": "markdown",
      "metadata": {
        "id": "sOPPYEPZmRvh"
      },
      "source": [
        "Words represented using the Word2Vec representation we found online. "
      ]
    },
    {
      "cell_type": "code",
      "execution_count": null,
      "metadata": {
        "id": "jPrQM_nG3m_O"
      },
      "outputs": [],
      "source": [
        "url_w2v = \"https://drive.google.com/file/d/0B7XkCwpI5KDYNlNUTTlSS21pQmM/edit?resourcekey=0-wjGZdNAUop6WykTtMip30g\""
      ]
    },
    {
      "cell_type": "code",
      "execution_count": null,
      "metadata": {
        "colab": {
          "base_uri": "https://localhost:8080/"
        },
        "id": "pGOFcC0DiG8-",
        "outputId": "863317ba-149f-404f-b3d2-61f7472a7910"
      },
      "outputs": [
        {
          "name": "stdout",
          "output_type": "stream",
          "text": [
            "/home/shcheran/.conda/envs/dl-env/lib/python3.8/site-packages/gdown/cli.py:127: FutureWarning: Option `--id` was deprecated in version 4.3.1 and will be removed in 5.0. You don't need to pass it anymore to use a file ID.\n",
            "  warnings.warn(\n",
            "Downloading...\n",
            "From: https://drive.google.com/uc?id=0B7XkCwpI5KDYNlNUTTlSS21pQmM\n",
            "To: /sise/home/shcheran/deep-learning/assignment3/GoogleNews-vectors-negative300.bin.gz\n",
            "100%|██████████████████████████████████████| 1.65G/1.65G [01:18<00:00, 21.0MB/s]\n"
          ]
        }
      ],
      "source": [
        "# Downloading the GoogleNews pretrained model\n",
        "!gdown --id 0B7XkCwpI5KDYNlNUTTlSS21pQmM\n",
        "!gzip -d ./GoogleNews-vectors-negative300.bin.gz"
      ]
    },
    {
      "cell_type": "code",
      "execution_count": null,
      "metadata": {
        "id": "pmcgA5kuwpq6"
      },
      "outputs": [],
      "source": [
        "file_name = './GoogleNews-vectors-negative300.bin'"
      ]
    },
    {
      "cell_type": "code",
      "execution_count": null,
      "metadata": {
        "colab": {
          "base_uri": "https://localhost:8080/"
        },
        "id": "oBJb7gW_-2Gz",
        "outputId": "bf6f3169-62a1-462c-cbc5-460edc6bc10c",
        "tags": []
      },
      "outputs": [
        {
          "name": "stdout",
          "output_type": "stream",
          "text": [
            "There are 6498 words in the corpus\n"
          ]
        }
      ],
      "source": [
        "# Create the vocabulary index based on word frequency\n",
        "tokenizer = Tokenizer()\n",
        "tokenizer.fit_on_texts(df_train['Lyrics'])\n",
        "\n",
        "word_index = tokenizer.word_index\n",
        "\n",
        "print(f'There are {len(word_index)} words in the corpus')"
      ]
    },
    {
      "cell_type": "code",
      "execution_count": null,
      "metadata": {
        "id": "dmV6YvS1CNaa"
      },
      "outputs": [],
      "source": [
        "w2v_model = models.KeyedVectors.load_word2vec_format(file_name, binary=True)"
      ]
    },
    {
      "cell_type": "code",
      "execution_count": null,
      "metadata": {
        "colab": {
          "base_uri": "https://localhost:8080/"
        },
        "id": "L0ObF9Xu-TeW",
        "outputId": "30e896c0-facc-40cc-93cf-d9744d34a301"
      },
      "outputs": [
        {
          "name": "stdout",
          "output_type": "stream",
          "text": [
            "5983 out of 6498 words were found in the pre-trained word2vec\n"
          ]
        }
      ],
      "source": [
        "embedding_size = 300\n",
        "emb_mean, emb_std = w2v_model.vectors.mean(), w2v_model.vectors.std()\n",
        "max_features = len(word_index) + 1 \n",
        "nb_words = len(word_index) + 1\n",
        "embedding_matrix = np.random.normal(emb_mean, emb_std, (nb_words, embedding_size))\n",
        "\n",
        "words_found = 0\n",
        "for word, i in word_index.items():\n",
        "    if i >= max_features:\n",
        "        continue\n",
        "    try:\n",
        "        embedding_vector = w2v_model[word]\n",
        "        embedding_matrix[i] = embedding_vector\n",
        "        words_found += 1\n",
        "    except KeyError:\n",
        "        continue\n",
        "\n",
        "print(f'{words_found} out of {len(word_index)} words were found in the pre-trained word2vec')       "
      ]
    },
    {
      "cell_type": "markdown",
      "metadata": {
        "id": "vtX6qGNh87qk"
      },
      "source": [
        "#### Spliting lyrics into sliding window"
      ]
    },
    {
      "cell_type": "code",
      "execution_count": null,
      "metadata": {
        "id": "e2lB0st9S088"
      },
      "outputs": [],
      "source": [
        "SEED = 10\n",
        "\n",
        "random.seed(SEED)\n",
        "np.random.seed(SEED)\n",
        "tf.random.set_seed(SEED)"
      ]
    },
    {
      "cell_type": "code",
      "execution_count": null,
      "metadata": {
        "id": "1zj4v4nkBGhD"
      },
      "outputs": [],
      "source": [
        "# Transforms each text in texts to a sequence of integers\n",
        "train_lyrics = tokenizer.texts_to_sequences(df_train['Lyrics'])\n",
        "validation_lyrics = tokenizer.texts_to_sequences(df_validation['Lyrics'])"
      ]
    },
    {
      "cell_type": "code",
      "execution_count": null,
      "metadata": {
        "id": "cmErOSZwHoYj"
      },
      "outputs": [],
      "source": [
        "def create_sliding_window(array, window_size=5, stride=1, is_last_window=False):\n",
        "    array = np.ascontiguousarray(array)\n",
        "    num_of_windows = ((array.shape[0] - window_size) // stride) + int(is_last_window)\n",
        "    stride_shape = (num_of_windows, window_size)\n",
        "    strides = (array.strides[0]*stride, array.strides[0])\n",
        "  \n",
        "    return as_strided(array, shape=stride_shape, strides=strides)"
      ]
    },
    {
      "cell_type": "code",
      "execution_count": null,
      "metadata": {
        "id": "gLIXnY2pJeXY"
      },
      "outputs": [],
      "source": [
        "def split_song_lyrics(lyrics, window_size=5):\n",
        "    X = []\n",
        "    y = []\n",
        "    for l in lyrics:\n",
        "        X.append(create_sliding_window(l, window_size))\n",
        "        y.append(to_categorical(l[window_size:], num_classes=max_features))\n",
        "        \n",
        "    return X, y"
      ]
    },
    {
      "cell_type": "code",
      "execution_count": null,
      "metadata": {
        "id": "jDioZKhHPtAQ"
      },
      "outputs": [],
      "source": [
        "train_lyrics = split_song_lyrics(train_lyrics, window_size=5)\n",
        "validation_lyrics = split_song_lyrics(validation_lyrics, window_size=5)"
      ]
    },
    {
      "cell_type": "markdown",
      "metadata": {
        "id": "W8GRlJkw8kPA"
      },
      "source": [
        "### Melody Preprocessing"
      ]
    },
    {
      "cell_type": "markdown",
      "metadata": {
        "id": "IJnTGEqmV09a"
      },
      "source": [
        "To process the midi files, we implemented two different methods:"
      ]
    },
    {
      "cell_type": "markdown",
      "metadata": {
        "id": "5Lrw0WI2HoYk"
      },
      "source": [
        "#### 'original' - Melody as single vector"
      ]
    },
    {
      "cell_type": "markdown",
      "metadata": {
        "id": "GcgWMuD3HoYk"
      },
      "source": [
        "Calculate the average value of each note in the piano roll of the midi file."
      ]
    },
    {
      "cell_type": "code",
      "execution_count": null,
      "metadata": {
        "id": "rcZmto4I6k6M"
      },
      "outputs": [],
      "source": [
        "def get_melody(midi, frequency_sample=5, max_piano_note=100):\n",
        "    pmidi = remove_notes_from_midi(midi)\n",
        "\n",
        "    # get all notes\n",
        "    piano_notes = pmidi.get_piano_roll(fs=frequency_sample)\n",
        "\n",
        "    # normalize piano notes by played instruments\n",
        "    counter_matrix = np.zeros(piano_notes.shape)\n",
        "    for instrument in pmidi.instruments:\n",
        "        piano = instrument.get_piano_roll(fs=frequency_sample)\n",
        "\n",
        "        counter_matrix[:, :piano.shape[1]] += (piano > 0).astype(int)\n",
        "\n",
        "    counter_matrix[counter_matrix == 0] = 1\n",
        "    piano_notes = piano_notes / counter_matrix\n",
        "\n",
        "    # normalize notes by max note\n",
        "    piano_notes = piano_notes / max_piano_note\n",
        "\n",
        "    # normalize notes by number of notes played at a time\n",
        "    notes_counter = (piano_notes > 0).sum(axis=1)\n",
        "    notes_counter[notes_counter == 0] = 1\n",
        "    melody = piano_notes.sum(axis=1) / notes_counter\n",
        "\n",
        "    return melody"
      ]
    },
    {
      "cell_type": "code",
      "execution_count": null,
      "metadata": {
        "id": "u--U1fl7iZTQ"
      },
      "outputs": [],
      "source": [
        "# melody vector to each lyric\n",
        "def get_x_y(lyrics, melody):\n",
        "    l = lyrics[0]\n",
        "    for i in range(len(l)):\n",
        "        window = l[i].shape[0]\n",
        "        window_size = l[i].shape[1]\n",
        "        repeats = window * window_size\n",
        "        melody.iloc[i] = np.repeat([melody.iloc[i]], repeats=repeats).reshape(window, window_size, -1)\n",
        "\n",
        "    X = np.concatenate(l)\n",
        "    y = np.concatenate(lyrics[1])\n",
        "    melody = np.concatenate(melody.values)\n",
        "\n",
        "    return (X, melody), y"
      ]
    },
    {
      "cell_type": "code",
      "execution_count": null,
      "metadata": {
        "id": "eSsOpcpOmiWg"
      },
      "outputs": [],
      "source": [
        "def get_notes_range(all_midis, frequency_sample=5):\n",
        "    max_note = -1\n",
        "    min_song_len = 9999\n",
        "    max_song_len = -1\n",
        "    for midi in all_midis:\n",
        "        try:\n",
        "            pmidi = remove_notes_from_midi(midi)\n",
        "        except Exception as e:\n",
        "            print(\"%s\\nproblem in midi file %s\" % (e, midi.split('/')[-1]))\n",
        "            del midi\n",
        "            continue\n",
        "        piano_roll = pmidi.get_piano_roll(fs=frequency_sample)\n",
        "        piano_len = piano_roll.shape[1]\n",
        "        \n",
        "        if piano_len:\n",
        "            min_song_len = min(min_song_len, piano_len)\n",
        "            max_song_len = max(max_song_len, piano_len)\n",
        "\n",
        "        for instrument in pmidi.instruments:\n",
        "            piano_roll = instrument.get_piano_roll(fs=frequency_sample)\n",
        "            if piano_len:\n",
        "                try:\n",
        "                    curr_note = piano_roll.max()\n",
        "                    max_note = max(max_note, curr_note)\n",
        "                except ValueError:\n",
        "                    pass\n",
        "\n",
        "        del pmidi\n",
        "\n",
        "    print(f'Maximum note: {max_note}')\n",
        "    print(f'Minimum song length: {min_song_len}')\n",
        "    print(f'Maximum song length: {max_song_len}')\n",
        "\n",
        "    return max_note, min_song_len, max_song_len"
      ]
    },
    {
      "cell_type": "code",
      "execution_count": null,
      "metadata": {
        "id": "Ls6neMC5nbsc",
        "outputId": "a0517a41-7a3f-4627-de51-f21b3bdb3798"
      },
      "outputs": [
        {
          "name": "stderr",
          "output_type": "stream",
          "text": [
            "/home/shcheran/.conda/envs/dl-env/lib/python3.8/site-packages/pretty_midi/pretty_midi.py:97: RuntimeWarning: Tempo, Key or Time signature change events found on non-zero tracks.  This is not a valid type 0 or type 1 MIDI file.  Tempo, Key or Time Signature may be wrong.\n",
            "  warnings.warn(\n"
          ]
        },
        {
          "name": "stdout",
          "output_type": "stream",
          "text": [
            "Maximum note: 762.0\n",
            "Minimum song length: 297\n",
            "Maximum song length: 3006\n"
          ]
        }
      ],
      "source": [
        "# get the range values of the notes\n",
        "all_midis = np.concatenate([df_train['Midi Path'].values, df_validation['Midi Path'].values, df_test['Midi Path'].values])\n",
        "max_note, min_song_len, max_song_len = get_notes_range(all_midis, frequency_sample=5)"
      ]
    },
    {
      "cell_type": "code",
      "execution_count": null,
      "metadata": {
        "id": "F-PVECSM8WXg"
      },
      "outputs": [],
      "source": [
        "melody_train = df_train['Midi Path'].apply(get_melody, frequency_sample=100, max_piano_note=max_note)\n",
        "melody_validation = df_validation['Midi Path'].apply(get_melody, frequency_sample=100, max_piano_note=max_note)"
      ]
    },
    {
      "cell_type": "code",
      "execution_count": null,
      "metadata": {
        "id": "xnFRQ5AX9Pnc"
      },
      "outputs": [],
      "source": [
        "validation_data = get_x_y(validation_lyrics, melody_validation)\n",
        "train_data = get_x_y(train_lyrics, melody_train)"
      ]
    },
    {
      "cell_type": "markdown",
      "metadata": {
        "id": "f8EmcqiyHoYl"
      },
      "source": [
        "#### 'sliding' - Splitting melody into sliding window"
      ]
    },
    {
      "cell_type": "markdown",
      "metadata": {
        "id": "SCE4ZMvIQp_c"
      },
      "source": [
        "Slicing the piano roll into sliding windows that represent the notes played during one word, and each window corresponds to a word in the song."
      ]
    },
    {
      "cell_type": "markdown",
      "metadata": {
        "id": "vlLLkLi1XW1Q"
      },
      "source": [
        "parameters notes:\n",
        "\n",
        "* **frequency_sample**  \n",
        "    at frequency 100, each second will be split into 100 frames, each frame will have the value of the notes played during that frame.\n",
        "\n",
        "* **frames_in_word**  \n",
        "    we saw that every word takes ~ 64 milliseconds. Approximately 20% of each word of melody overlaps with the next about every 100 milliseconds. By using overlaps, some words would take less time than others."
      ]
    },
    {
      "cell_type": "code",
      "execution_count": null,
      "metadata": {
        "id": "ZntWTK46SXVO"
      },
      "outputs": [],
      "source": [
        "def create_2d_sliding_window(array, window_size=5, stride=1, is_last_window=False):\n",
        "    array = np.ascontiguousarray(array)\n",
        "    num_of_windows = ((array.shape[0] - window_size) // stride) + int(is_last_window)\n",
        "    stride_shape = (num_of_windows, window_size, array.shape[1])\n",
        "    strides = (array.strides[0] * stride, array.strides[0], array.strides[1])\n",
        "\n",
        "    return as_strided(array, shape=stride_shape, strides=strides)"
      ]
    },
    {
      "cell_type": "code",
      "execution_count": null,
      "metadata": {
        "id": "SNQ66qmfWYB5"
      },
      "outputs": [],
      "source": [
        "def get_sliding_melody(midi, frequency_sample=5, max_piano_note=100, frames_in_word=5, window_size=5):\n",
        "    pmidi = remove_notes_from_midi(midi)\n",
        "\n",
        "    # get all notes\n",
        "    piano_notes = pmidi.get_piano_roll(fs=frequency_sample)\n",
        "\n",
        "    # normalize piano notes by played instruments\n",
        "    counter_matrix = np.zeros(piano_notes.shape)\n",
        "    for instrument in pmidi.instruments:\n",
        "        piano = instrument.get_piano_roll(fs=frequency_sample)\n",
        "\n",
        "        counter_matrix[:, :piano.shape[1]] += (piano > 0).astype(int)\n",
        "\n",
        "    counter_matrix[counter_matrix == 0] = 1\n",
        "    piano_notes = piano_notes / counter_matrix\n",
        "\n",
        "    # normalize notes by max note\n",
        "    piano_notes = piano_notes / max_piano_note\n",
        "\n",
        "    # normalize notes by number of notes played at a time\n",
        "    notes_counter = (piano_notes > 0).sum(axis=0)\n",
        "    notes_counter[notes_counter == 0] = 1\n",
        "    melody = piano_notes.sum(axis=0) / notes_counter\n",
        "    del piano_notes\n",
        "\n",
        "    # splitting notes to words\n",
        "    max_melody = melody[(melody > 0).argmax():]\n",
        "    melody_in_word = create_sliding_window(max_melody, window_size=frames_in_word,stride=(frames_in_word * 4) // 5, is_last_window=True)\n",
        "    # splitting words to windows\n",
        "    windows = create_2d_sliding_window(melody_in_word, window_size=window_size, is_last_window=True)\n",
        "\n",
        "    return windows"
      ]
    },
    {
      "cell_type": "code",
      "execution_count": null,
      "metadata": {
        "id": "fd1ln4CObUUY"
      },
      "outputs": [],
      "source": [
        "# match the melody's note with the song's relevant word\n",
        "def get_sliding_x_y(lyrics, melody):\n",
        "    l_0, l_1 = lyrics[0], lyrics[1]\n",
        "    for i in range(len(l_0)):\n",
        "        melody_len = melody.iloc[i].shape[0]\n",
        "        lyric_len = l_0[i].shape[0]\n",
        "\n",
        "        if melody_len >= lyric_len:\n",
        "            melody.iloc[i] = melody.iloc[i][:lyric_len, :, :]\n",
        "        else:\n",
        "            l_0[i] = l_0[i][:melody_len, :]\n",
        "            l_1[i] = l_1[i][:melody_len, :]\n",
        "\n",
        "    X = np.concatenate(l_0)\n",
        "    y = np.concatenate(l_1)\n",
        "    del lyrics\n",
        "    melody = np.concatenate(melody.values)\n",
        "\n",
        "    return (X, melody), y"
      ]
    },
    {
      "cell_type": "code",
      "execution_count": null,
      "metadata": {
        "id": "qsYyZB0IcoLp"
      },
      "outputs": [],
      "source": [
        "melody_train_sliding = df_train['Midi Path'].apply(get_sliding_melody, frequency_sample=100, max_piano_note=max_note, frames_in_word=100, window_size=5)\n",
        "melody_val_sliding = df_validation['Midi Path'].apply(get_sliding_melody, frequency_sample=100, max_piano_note=max_note, frames_in_word=100, window_size=5)"
      ]
    },
    {
      "cell_type": "code",
      "execution_count": null,
      "metadata": {
        "id": "yD1RnwOPc1Mb"
      },
      "outputs": [],
      "source": [
        "train_data_sliding = get_sliding_x_y(train_lyrics, melody_train_sliding)\n",
        "val_data_sliding = get_sliding_x_y(validation_lyrics, melody_val_sliding)"
      ]
    },
    {
      "cell_type": "markdown",
      "metadata": {
        "id": "20NEPjjTitMr"
      },
      "source": [
        "## Implement a recurrent neural net "
      ]
    },
    {
      "cell_type": "markdown",
      "metadata": {
        "id": "zuvK5vvfybsj"
      },
      "source": [
        "### Architecture"
      ]
    },
    {
      "cell_type": "markdown",
      "metadata": {
        "id": "gvsG2g6myhVL"
      },
      "source": [
        "\n",
        "\n",
        "* **Embedding Layer**  \n",
        "    In this layer each word converts to its embedding representation. Using this layer the model learns the embedding of the missing words.\n",
        "* **Concatenate Layer**  \n",
        "    In this layer each word has its own melody attached.\n",
        "* **LSTM Layers**  \n",
        "    In these layers the model learns the features and output all the hidden states and finally output a single feature.  \n",
        "* **Dropout Layer**  \n",
        "    Used to reduce overfitting. \n",
        "* **Softmax Layer**  \n",
        "    In this layer each word in the corpus will have its probability of being the next word.\n",
        "\n"
      ]
    },
    {
      "cell_type": "code",
      "execution_count": null,
      "metadata": {
        "id": "NPiQbsijpU_r"
      },
      "outputs": [],
      "source": [
        "def create_model(window_size, melody_fts):\n",
        "    lyrics_input = Input(shape=(window_size,), name='lyrics')\n",
        "    melody_input = Input(shape=(window_size, melody_fts), name='melody')\n",
        "    \n",
        "    lyrics_embedding = Embedding(max_features, embedding_size, weights=[embedding_matrix], input_length=window_size, name='lyrics_embedding')(lyrics_input)\n",
        "\n",
        "    concatenate_lyrics_melody = Concatenate(axis=2, name='concatenate')([lyrics_embedding, melody_input])\n",
        "    lstm = LSTM(64, dropout=0.5, return_sequences=True, name='lstm1')(concatenate_lyrics_melody)\n",
        "    lstm = LSTM(64, dropout=0.5, name='lstm2')(lstm)\n",
        "\n",
        "    X = Dense(128, activation='relu', name='dense')(lstm)\n",
        "    X = Dropout(0.5, name='dropout')(X)\n",
        "\n",
        "    output = Dense(max_features, activation='softmax', name='output')(X)\n",
        "\n",
        "    model = Model([lyrics_input, melody_input], output , name='lyrics_generator_model')\n",
        "    model.compile(loss='categorical_crossentropy', optimizer=Adam())\n",
        "\n",
        "    return model"
      ]
    },
    {
      "cell_type": "code",
      "execution_count": null,
      "metadata": {
        "colab": {
          "base_uri": "https://localhost:8080/"
        },
        "id": "X6nvsA1ptcVb",
        "outputId": "25b0aad0-ae1a-4122-f963-0b83c3745294"
      },
      "outputs": [
        {
          "name": "stderr",
          "output_type": "stream",
          "text": [
            "2022-06-09 18:07:00.323040: I tensorflow/stream_executor/platform/default/dso_loader.cc:44] Successfully opened dynamic library libcuda.so.1\n",
            "2022-06-09 18:07:00.517492: I tensorflow/core/common_runtime/gpu/gpu_device.cc:1561] Found device 0 with properties: \n",
            "pciBusID: 0000:8b:00.0 name: NVIDIA GeForce RTX 2080 Ti computeCapability: 7.5\n",
            "coreClock: 1.545GHz coreCount: 68 deviceMemorySize: 10.76GiB deviceMemoryBandwidth: 573.69GiB/s\n",
            "2022-06-09 18:07:00.527112: I tensorflow/stream_executor/platform/default/dso_loader.cc:44] Successfully opened dynamic library libcudart.so.10.1\n",
            "2022-06-09 18:07:00.601371: I tensorflow/stream_executor/platform/default/dso_loader.cc:44] Successfully opened dynamic library libcublas.so.10\n",
            "2022-06-09 18:07:00.642839: I tensorflow/stream_executor/platform/default/dso_loader.cc:44] Successfully opened dynamic library libcufft.so.10\n",
            "2022-06-09 18:07:00.666052: I tensorflow/stream_executor/platform/default/dso_loader.cc:44] Successfully opened dynamic library libcurand.so.10\n",
            "2022-06-09 18:07:00.757621: I tensorflow/stream_executor/platform/default/dso_loader.cc:44] Successfully opened dynamic library libcusolver.so.10\n",
            "2022-06-09 18:07:00.781999: I tensorflow/stream_executor/platform/default/dso_loader.cc:44] Successfully opened dynamic library libcusparse.so.10\n",
            "2022-06-09 18:07:01.021565: I tensorflow/stream_executor/platform/default/dso_loader.cc:44] Successfully opened dynamic library libcudnn.so.7\n",
            "2022-06-09 18:07:01.034497: I tensorflow/core/common_runtime/gpu/gpu_device.cc:1703] Adding visible gpu devices: 0\n",
            "2022-06-09 18:07:01.036155: I tensorflow/core/platform/cpu_feature_guard.cc:143] Your CPU supports instructions that this TensorFlow binary was not compiled to use: SSE4.1 SSE4.2 AVX AVX2 AVX512F FMA\n",
            "2022-06-09 18:07:01.069532: I tensorflow/core/platform/profile_utils/cpu_utils.cc:102] CPU Frequency: 2200000000 Hz\n",
            "2022-06-09 18:07:01.070196: I tensorflow/compiler/xla/service/service.cc:168] XLA service 0x55e112715aa0 initialized for platform Host (this does not guarantee that XLA will be used). Devices:\n",
            "2022-06-09 18:07:01.070235: I tensorflow/compiler/xla/service/service.cc:176]   StreamExecutor device (0): Host, Default Version\n",
            "2022-06-09 18:07:01.382647: I tensorflow/compiler/xla/service/service.cc:168] XLA service 0x55e1128ea370 initialized for platform CUDA (this does not guarantee that XLA will be used). Devices:\n",
            "2022-06-09 18:07:01.382707: I tensorflow/compiler/xla/service/service.cc:176]   StreamExecutor device (0): NVIDIA GeForce RTX 2080 Ti, Compute Capability 7.5\n",
            "2022-06-09 18:07:01.394208: I tensorflow/core/common_runtime/gpu/gpu_device.cc:1561] Found device 0 with properties: \n",
            "pciBusID: 0000:8b:00.0 name: NVIDIA GeForce RTX 2080 Ti computeCapability: 7.5\n",
            "coreClock: 1.545GHz coreCount: 68 deviceMemorySize: 10.76GiB deviceMemoryBandwidth: 573.69GiB/s\n",
            "2022-06-09 18:07:01.394376: I tensorflow/stream_executor/platform/default/dso_loader.cc:44] Successfully opened dynamic library libcudart.so.10.1\n",
            "2022-06-09 18:07:01.394444: I tensorflow/stream_executor/platform/default/dso_loader.cc:44] Successfully opened dynamic library libcublas.so.10\n",
            "2022-06-09 18:07:01.394487: I tensorflow/stream_executor/platform/default/dso_loader.cc:44] Successfully opened dynamic library libcufft.so.10\n",
            "2022-06-09 18:07:01.394547: I tensorflow/stream_executor/platform/default/dso_loader.cc:44] Successfully opened dynamic library libcurand.so.10\n",
            "2022-06-09 18:07:01.394589: I tensorflow/stream_executor/platform/default/dso_loader.cc:44] Successfully opened dynamic library libcusolver.so.10\n",
            "2022-06-09 18:07:01.394627: I tensorflow/stream_executor/platform/default/dso_loader.cc:44] Successfully opened dynamic library libcusparse.so.10\n",
            "2022-06-09 18:07:01.394665: I tensorflow/stream_executor/platform/default/dso_loader.cc:44] Successfully opened dynamic library libcudnn.so.7\n",
            "2022-06-09 18:07:01.400419: I tensorflow/core/common_runtime/gpu/gpu_device.cc:1703] Adding visible gpu devices: 0\n",
            "2022-06-09 18:07:01.405343: I tensorflow/stream_executor/platform/default/dso_loader.cc:44] Successfully opened dynamic library libcudart.so.10.1\n",
            "2022-06-09 18:07:01.413887: I tensorflow/core/common_runtime/gpu/gpu_device.cc:1102] Device interconnect StreamExecutor with strength 1 edge matrix:\n",
            "2022-06-09 18:07:01.413935: I tensorflow/core/common_runtime/gpu/gpu_device.cc:1108]      0 \n",
            "2022-06-09 18:07:01.413961: I tensorflow/core/common_runtime/gpu/gpu_device.cc:1121] 0:   N \n",
            "2022-06-09 18:07:01.422406: I tensorflow/core/common_runtime/gpu/gpu_device.cc:1247] Created TensorFlow device (/job:localhost/replica:0/task:0/device:GPU:0 with 10212 MB memory) -> physical GPU (device: 0, name: NVIDIA GeForce RTX 2080 Ti, pci bus id: 0000:8b:00.0, compute capability: 7.5)\n"
          ]
        },
        {
          "name": "stdout",
          "output_type": "stream",
          "text": [
            "Model: \"lyrics_generator_model\"\n",
            "__________________________________________________________________________________________________\n",
            "Layer (type)                    Output Shape         Param #     Connected to                     \n",
            "==================================================================================================\n",
            "lyrics (InputLayer)             [(None, 5)]          0                                            \n",
            "__________________________________________________________________________________________________\n",
            "lyrics_embedding (Embedding)    (None, 5, 300)       1949700     lyrics[0][0]                     \n",
            "__________________________________________________________________________________________________\n",
            "melody (InputLayer)             [(None, 5, 100)]     0                                            \n",
            "__________________________________________________________________________________________________\n",
            "concatenate (Concatenate)       (None, 5, 400)       0           lyrics_embedding[0][0]           \n",
            "                                                                 melody[0][0]                     \n",
            "__________________________________________________________________________________________________\n",
            "lstm1 (LSTM)                    (None, 5, 64)        119040      concatenate[0][0]                \n",
            "__________________________________________________________________________________________________\n",
            "lstm2 (LSTM)                    (None, 64)           33024       lstm1[0][0]                      \n",
            "__________________________________________________________________________________________________\n",
            "dense (Dense)                   (None, 128)          8320        lstm2[0][0]                      \n",
            "__________________________________________________________________________________________________\n",
            "dropout (Dropout)               (None, 128)          0           dense[0][0]                      \n",
            "__________________________________________________________________________________________________\n",
            "output (Dense)                  (None, 6499)         838371      dropout[0][0]                    \n",
            "==================================================================================================\n",
            "Total params: 2,948,455\n",
            "Trainable params: 2,948,455\n",
            "Non-trainable params: 0\n",
            "__________________________________________________________________________________________________\n"
          ]
        }
      ],
      "source": [
        "model = create_model(window_size=5, melody_fts=100)\n",
        "model.summary()"
      ]
    },
    {
      "cell_type": "markdown",
      "metadata": {
        "id": "n0g4rQa03ZGl"
      },
      "source": [
        "### Training"
      ]
    },
    {
      "cell_type": "code",
      "execution_count": null,
      "metadata": {
        "id": "sa-oQC6p3kl2"
      },
      "outputs": [],
      "source": [
        "def train(method_type, create_model, training_set, validation_set, params=None):\n",
        "    if params:\n",
        "        p = '_'.join(f'{key}_{value}' for key, value in params.items())\n",
        "        name = f'{method_type}' + f'_{p}'\n",
        "    else:\n",
        "        name = f'{method_type}'\n",
        "\n",
        "    if os.path.exists(fr'./{name}.h5') and os.path.exists(fr'./{name}_history.sav'):\n",
        "        model = load_model(fr'./{name}.h5')\n",
        "        model_history = joblib.load(fr'./{name}_history.sav')\n",
        "        \n",
        "    else:\n",
        "        checkpoint = ModelCheckpoint(fr'./{name}.h5', monitor='val_loss', save_best_only=True, mode='min')\n",
        "        earlystop = EarlyStopping(monitor='val_loss', mode='min', verbose=1, patience=6)\n",
        "        reduceLR = ReduceLROnPlateau(monitor = 'val_loss', mode = 'min', patience = 5, factor = 0.5, min_lr = 1e-6, verbose = 1)\n",
        "\n",
        "        X, Y = training_set\n",
        "        model = create_model(*X[1].shape[1:])\n",
        "        model_fit = model.fit(x=X, y=Y, batch_size=params['batch_size'], epochs=params['epochs'], validation_data=validation_set, callbacks=[checkpoint, earlystop,reduceLR], verbose=1)\n",
        "        model_history = model_fit.history\n",
        "        joblib.dump(model_history, fr'./{name}_history.sav')\n",
        "        model = load_model(fr'./{name}.h5')\n",
        "\n",
        "    return model, model_history"
      ]
    },
    {
      "cell_type": "markdown",
      "metadata": {
        "id": "b_zfUDlUHoYo"
      },
      "source": [
        "#### First Model - 'original'"
      ]
    },
    {
      "cell_type": "code",
      "execution_count": null,
      "metadata": {
        "id": "x7LIpGUA8Yk1",
        "outputId": "a44028a6-f648-48ef-903c-786102e1f24e"
      },
      "outputs": [
        {
          "name": "stderr",
          "output_type": "stream",
          "text": [
            "2022-06-09 18:07:12.492622: W tensorflow/core/framework/cpu_allocator_impl.cc:81] Allocation of 3982067280 exceeds 10% of free system memory.\n"
          ]
        },
        {
          "name": "stdout",
          "output_type": "stream",
          "text": [
            "Epoch 1/20\n"
          ]
        },
        {
          "name": "stderr",
          "output_type": "stream",
          "text": [
            "2022-06-09 18:07:21.202923: I tensorflow/stream_executor/platform/default/dso_loader.cc:44] Successfully opened dynamic library libcublas.so.10\n",
            "2022-06-09 18:07:22.335201: I tensorflow/stream_executor/platform/default/dso_loader.cc:44] Successfully opened dynamic library libcudnn.so.7\n"
          ]
        },
        {
          "name": "stdout",
          "output_type": "stream",
          "text": [
            "4787/4787 [==============================] - 75s 16ms/step - loss: 5.5734 - val_loss: 5.0671 - lr: 0.0010\n",
            "Epoch 2/20\n",
            "4787/4787 [==============================] - 80s 17ms/step - loss: 5.0953 - val_loss: 4.8425 - lr: 0.0010\n",
            "Epoch 3/20\n",
            "4787/4787 [==============================] - 75s 16ms/step - loss: 4.8665 - val_loss: 4.7877 - lr: 0.0010\n",
            "Epoch 4/20\n",
            "4787/4787 [==============================] - 78s 16ms/step - loss: 4.7297 - val_loss: 4.7682 - lr: 0.0010\n",
            "Epoch 5/20\n",
            "4787/4787 [==============================] - 73s 15ms/step - loss: 4.6285 - val_loss: 4.7815 - lr: 0.0010\n",
            "Epoch 6/20\n",
            "4787/4787 [==============================] - 79s 17ms/step - loss: 4.5608 - val_loss: 4.7938 - lr: 0.0010\n",
            "Epoch 7/20\n",
            "4787/4787 [==============================] - 79s 16ms/step - loss: 4.5036 - val_loss: 4.8081 - lr: 0.0010\n",
            "Epoch 8/20\n",
            "4787/4787 [==============================] - 73s 15ms/step - loss: 4.4614 - val_loss: 4.8135 - lr: 0.0010\n",
            "Epoch 9/20\n",
            "4787/4787 [==============================] - ETA: 0s - loss: 4.4230\n",
            "Epoch 00009: ReduceLROnPlateau reducing learning rate to 0.0005000000237487257.\n",
            "4787/4787 [==============================] - 78s 16ms/step - loss: 4.4230 - val_loss: 4.8261 - lr: 0.0010\n",
            "Epoch 10/20\n",
            "4787/4787 [==============================] - 72s 15ms/step - loss: 4.3603 - val_loss: 4.8167 - lr: 5.0000e-04\n",
            "Epoch 00010: early stopping\n"
          ]
        }
      ],
      "source": [
        "model_original, history_original = train('original', create_model, training_set=train_data, validation_set=validation_data, params={'batch_size': 32, 'epochs': 20})"
      ]
    },
    {
      "cell_type": "code",
      "execution_count": null,
      "metadata": {
        "id": "R5_RFZrWHoYq",
        "outputId": "dad3cfa6-a88e-4fe2-8c9c-4f08039ad6ac"
      },
      "outputs": [
        {
          "data": {
            "image/png": "[encoded data removed]",
            "text/plain": [
              "<Figure size 432x288 with 1 Axes>"
            ]
          },
          "metadata": {
            "needs_background": "light"
          },
          "output_type": "display_data"
        }
      ],
      "source": [
        "# Summarize history for loss - original\n",
        "plt.plot(history_original['loss'])\n",
        "plt.plot(history_original['val_loss'])\n",
        "plt.title('original model loss')\n",
        "plt.ylabel('loss')\n",
        "plt.xlabel('epoch')\n",
        "plt.legend(['train', 'validation'], loc='upper left')\n",
        "plt.show()"
      ]
    },
    {
      "cell_type": "markdown",
      "metadata": {
        "id": "ERUqusXvHoYr"
      },
      "source": [
        "#### Second Model - 'sliding'"
      ]
    },
    {
      "cell_type": "code",
      "execution_count": null,
      "metadata": {
        "id": "cJ7ywz-19keH",
        "outputId": "a88aef9e-17db-4f85-bdba-9e39b9966201"
      },
      "outputs": [
        {
          "name": "stderr",
          "output_type": "stream",
          "text": [
            "2022-06-09 18:20:11.134914: W tensorflow/core/framework/cpu_allocator_impl.cc:81] Allocation of 3007659212 exceeds 10% of free system memory.\n"
          ]
        },
        {
          "name": "stdout",
          "output_type": "stream",
          "text": [
            "Epoch 1/20\n",
            "3616/3616 [==============================] - 62s 17ms/step - loss: 5.6020 - val_loss: 5.1590 - lr: 0.0010\n",
            "Epoch 2/20\n",
            "3616/3616 [==============================] - 63s 17ms/step - loss: 5.1549 - val_loss: 4.9448 - lr: 0.0010\n",
            "Epoch 3/20\n",
            "3616/3616 [==============================] - 64s 18ms/step - loss: 4.9250 - val_loss: 4.8448 - lr: 0.0010\n",
            "Epoch 4/20\n",
            "3616/3616 [==============================] - 57s 16ms/step - loss: 4.7697 - val_loss: 4.8174 - lr: 0.0010\n",
            "Epoch 5/20\n",
            "3616/3616 [==============================] - 65s 18ms/step - loss: 4.6592 - val_loss: 4.7924 - lr: 0.0010\n",
            "Epoch 6/20\n",
            "3616/3616 [==============================] - 60s 17ms/step - loss: 4.5843 - val_loss: 4.8065 - lr: 0.0010\n",
            "Epoch 7/20\n",
            "3616/3616 [==============================] - 55s 15ms/step - loss: 4.5188 - val_loss: 4.8179 - lr: 0.0010\n",
            "Epoch 8/20\n",
            "3616/3616 [==============================] - 62s 17ms/step - loss: 4.4651 - val_loss: 4.8270 - lr: 0.0010\n",
            "Epoch 9/20\n",
            "3616/3616 [==============================] - 63s 17ms/step - loss: 4.4286 - val_loss: 4.8641 - lr: 0.0010\n",
            "Epoch 10/20\n",
            "3613/3616 [============================>.] - ETA: 0s - loss: 4.3919\n",
            "Epoch 00010: ReduceLROnPlateau reducing learning rate to 0.0005000000237487257.\n",
            "3616/3616 [==============================] - 62s 17ms/step - loss: 4.3921 - val_loss: 4.8303 - lr: 0.0010\n",
            "Epoch 11/20\n",
            "3616/3616 [==============================] - 54s 15ms/step - loss: 4.3336 - val_loss: 4.8943 - lr: 5.0000e-04\n",
            "Epoch 00011: early stopping\n"
          ]
        }
      ],
      "source": [
        "model_sliding, history_sliding = train('sliding_window_5', create_model, training_set=train_data_sliding, validation_set=val_data_sliding, params={'batch_size': 32, 'epochs': 20})"
      ]
    },
    {
      "cell_type": "code",
      "execution_count": null,
      "metadata": {
        "id": "kacjloWB_nh_",
        "outputId": "703349b3-f861-4d65-d3a4-ba45013257fc"
      },
      "outputs": [
        {
          "data": {
            "image/png": "[encoded data removed]",
            "text/plain": [
              "<Figure size 432x288 with 1 Axes>"
            ]
          },
          "metadata": {
            "needs_background": "light"
          },
          "output_type": "display_data"
        }
      ],
      "source": [
        "# Summarize history for loss - silding\n",
        "plt.plot(history_sliding['loss'])\n",
        "plt.plot(history_sliding['val_loss'])\n",
        "plt.title('sliding model loss')\n",
        "plt.ylabel('loss')\n",
        "plt.xlabel('epoch')\n",
        "plt.legend(['train', 'validation'], loc='upper left')\n",
        "plt.show()"
      ]
    },
    {
      "cell_type": "markdown",
      "metadata": {
        "id": "hmWLRnOR_3b9"
      },
      "source": [
        "### Testing and Generation"
      ]
    },
    {
      "cell_type": "code",
      "execution_count": null,
      "metadata": {
        "id": "5WHNBR6dHoYr",
        "outputId": "3ea44b04-543e-4e0b-badb-41cba3b93dc8"
      },
      "outputs": [
        {
          "data": {
            "text/html": [
              "<div>\n",
              "<style scoped>\n",
              "    .dataframe tbody tr th:only-of-type {\n",
              "        vertical-align: middle;\n",
              "    }\n",
              "\n",
              "    .dataframe tbody tr th {\n",
              "        vertical-align: top;\n",
              "    }\n",
              "\n",
              "    .dataframe thead th {\n",
              "        text-align: right;\n",
              "    }\n",
              "</style>\n",
              "<table border=\"1\" class=\"dataframe\">\n",
              "  <thead>\n",
              "    <tr style=\"text-align: right;\">\n",
              "      <th></th>\n",
              "      <th>Singer</th>\n",
              "      <th>Song Name</th>\n",
              "      <th>Lyrics</th>\n",
              "      <th>Midi Path</th>\n",
              "    </tr>\n",
              "  </thead>\n",
              "  <tbody>\n",
              "    <tr>\n",
              "      <th>0</th>\n",
              "      <td>the bangles</td>\n",
              "      <td>eternal flame</td>\n",
              "      <td>close your eyes give me your hand darling &amp; d...</td>\n",
              "      <td>./Archive/midi_files/The_Bangles_-_Eternal_Fla...</td>\n",
              "    </tr>\n",
              "    <tr>\n",
              "      <th>1</th>\n",
              "      <td>billy joel</td>\n",
              "      <td>honesty</td>\n",
              "      <td>if you search for tenderness &amp; it isn't hard ...</td>\n",
              "      <td>./Archive/midi_files/Billy_Joel_-_Honesty.mid</td>\n",
              "    </tr>\n",
              "    <tr>\n",
              "      <th>2</th>\n",
              "      <td>cardigans</td>\n",
              "      <td>lovefool</td>\n",
              "      <td>dear i fear we're facing a problem &amp; you love...</td>\n",
              "      <td>./Archive/midi_files/Cardigans_-_Lovefool.mid</td>\n",
              "    </tr>\n",
              "    <tr>\n",
              "      <th>3</th>\n",
              "      <td>aqua</td>\n",
              "      <td>barbie girl</td>\n",
              "      <td>hiya barbie &amp; hi ken! &amp; do you want to go for...</td>\n",
              "      <td>./Archive/midi_files/Aqua_-_Barbie_Girl.mid</td>\n",
              "    </tr>\n",
              "    <tr>\n",
              "      <th>4</th>\n",
              "      <td>blink 182</td>\n",
              "      <td>all the small things</td>\n",
              "      <td>all the small things &amp; true care truth brings...</td>\n",
              "      <td>./Archive/midi_files/Blink_182_-_All_the_Small...</td>\n",
              "    </tr>\n",
              "  </tbody>\n",
              "</table>\n",
              "</div>"
            ],
            "text/plain": [
              "        Singer             Song Name  \\\n",
              "0  the bangles         eternal flame   \n",
              "1   billy joel               honesty   \n",
              "2    cardigans              lovefool   \n",
              "3         aqua           barbie girl   \n",
              "4    blink 182  all the small things   \n",
              "\n",
              "                                              Lyrics  \\\n",
              "0   close your eyes give me your hand darling & d...   \n",
              "1   if you search for tenderness & it isn't hard ...   \n",
              "2   dear i fear we're facing a problem & you love...   \n",
              "3   hiya barbie & hi ken! & do you want to go for...   \n",
              "4   all the small things & true care truth brings...   \n",
              "\n",
              "                                           Midi Path  \n",
              "0  ./Archive/midi_files/The_Bangles_-_Eternal_Fla...  \n",
              "1      ./Archive/midi_files/Billy_Joel_-_Honesty.mid  \n",
              "2      ./Archive/midi_files/Cardigans_-_Lovefool.mid  \n",
              "3        ./Archive/midi_files/Aqua_-_Barbie_Girl.mid  \n",
              "4  ./Archive/midi_files/Blink_182_-_All_the_Small...  "
            ]
          },
          "execution_count": 52,
          "metadata": {},
          "output_type": "execute_result"
        }
      ],
      "source": [
        "df_test"
      ]
    },
    {
      "cell_type": "code",
      "execution_count": null,
      "metadata": {
        "id": "VDgKhI3g_6pO"
      },
      "outputs": [],
      "source": [
        "def get_melody_seed(melody, method_type, word_len, window_size, frames_in_word):\n",
        "    if method_type == 'original':\n",
        "        return melody\n",
        "\n",
        "    if melody.shape[0] <= word_len - window_size:\n",
        "        return None\n",
        "\n",
        "    if word_len < window_size:\n",
        "        melody_seed = np.concatenate([np.zeros((window_size - word_len, frames_in_word)), melody[0][:word_len, :frames_in_word]])\n",
        "    else:\n",
        "        if melody.shape[0] <= word_len - window_size:\n",
        "            return None\n",
        "\n",
        "        melody_seed = melody[word_len - window_size]\n",
        "\n",
        "    return np.expand_dims(melody_seed, axis=0)"
      ]
    },
    {
      "cell_type": "code",
      "execution_count": null,
      "metadata": {
        "id": "-reSCYc0HoYs"
      },
      "outputs": [],
      "source": [
        "def get_next_lyric_for_song_and_melody(model, lyrics_seed, melody_seed, stop_index, stop_token):\n",
        "    if melody_seed is None:\n",
        "        return stop_index, stop_token\n",
        "    try:\n",
        "        res = model((lyrics_seed, melody_seed), training=False)\n",
        "        res_val = np.array(res[0])\n",
        "        index = np.random.choice(range(0, max_features), p=res_val)\n",
        "        lyric = tokenizer.sequences_to_texts([[index]])[0]\n",
        "\n",
        "    except Exception as e:\n",
        "        print(e)\n",
        "        return stop_index, stop_token\n",
        "\n",
        "    return index, lyric"
      ]
    },
    {
      "cell_type": "code",
      "execution_count": null,
      "metadata": {
        "id": "pR30phNvHoYs"
      },
      "outputs": [],
      "source": [
        "def get_song_with_melody(model, method_type, seed, midi, window_size, tokenizer, length, frames_in_word=100, stop_token='$'):\n",
        "    \n",
        "    stop_index = tokenizer.word_index[stop_token]\n",
        "    if method_type == 'sliding':\n",
        "        melody = get_sliding_melody(midi, frequency_sample=100, max_piano_note=max_note, frames_in_word=frames_in_word,window_size=window_size)\n",
        "    else:\n",
        "        melody = get_melody(midi, frequency_sample=100, max_piano_note=max_note)\n",
        "        melody = np.repeat([melody], repeats=window_size, axis=0)\n",
        "        melody = np.expand_dims(melody, axis=0)\n",
        "\n",
        "    seed = decontracted(seed)\n",
        "    tokens = word_tokenize(seed)\n",
        "\n",
        "    song = tokens.copy()\n",
        "    my_seed = ' '.join(seed)\n",
        "    my_seed = tokenizer.texts_to_sequences([my_seed])\n",
        "    word_len = len(my_seed[0])\n",
        "    my_seed = pad_sequences(my_seed, maxlen=window_size)\n",
        "\n",
        "    my_melody_seed = get_melody_seed(melody, method_type, word_len, window_size, frames_in_word)\n",
        "    index, lyric = get_next_lyric_for_song_and_melody(model, my_seed, my_melody_seed, stop_index, stop_token)\n",
        "\n",
        "    while index != stop_index and word_len < length:\n",
        "        word_len += 1\n",
        "        song.append(lyric)\n",
        "        my_seed = np.concatenate([my_seed[:, 1:], [[index]]], axis=1)\n",
        "        my_melody_seed = get_melody_seed(melody, method_type, word_len, window_size, frames_in_word)\n",
        "        index, lyric = get_next_lyric_for_song_and_melody(model, my_seed, my_melody_seed, stop_index, stop_token)\n",
        "\n",
        "    return song"
      ]
    },
    {
      "cell_type": "code",
      "execution_count": null,
      "metadata": {
        "id": "yDJqg3mwHoYs"
      },
      "outputs": [],
      "source": [
        "def generate(song_name, midi, model, method_type, seed, window_size=5, length=100, frames_in_word=100):\n",
        "    print('\\n-------------------------------------')\n",
        "    print(f'Song: {song_name}\\nseed: {seed}\\n')\n",
        "    song_with_melody = get_song_with_melody(model, method_type, seed, midi, window_size, tokenizer, length, frames_in_word)\n",
        "    lyrics = ' '.join(song_with_melody).replace('& ', '\\n')\n",
        "    print('Generate Lyrics:\\n')\n",
        "    print(lyrics)"
      ]
    },
    {
      "cell_type": "markdown",
      "metadata": {
        "id": "q7psbLkaHoYs"
      },
      "source": [
        "#### First Model - 'original'"
      ]
    },
    {
      "cell_type": "markdown",
      "metadata": {
        "id": "eIJG-NSFHoYs"
      },
      "source": [
        "##### **First word** - song's original first word"
      ]
    },
    {
      "cell_type": "code",
      "execution_count": null,
      "metadata": {
        "id": "pMU7cOxKHoYt",
        "outputId": "8a8156d8-01fb-4c0b-eb04-6f44a17987b8"
      },
      "outputs": [
        {
          "name": "stdout",
          "output_type": "stream",
          "text": [
            "\n",
            "-------------------------------------\n",
            "Song: eternal flame\n",
            "seed: close\n",
            "\n",
            "Generate Lyrics:\n",
            "\n",
            "close coming this not round \n",
            "my every year \n",
            "of the church to you that they stand my song \n",
            "if i can i have not better way to so \n",
            "lido \n",
            "they belongs me to see you last \n",
            "so hold me again \n",
            "it is not like this love \n",
            "it is a tree to be along \n",
            "then it is a girl like i will get you and blaming up oh that \n",
            "kept me ya look home of now \n",
            "am this of on the road how i always feeling are\n",
            "\n",
            "-------------------------------------\n",
            "Song: honesty\n",
            "seed: if\n",
            "\n",
            "Generate Lyrics:\n",
            "\n",
            "if how they and \n",
            "when can me be it but my kiss she still came for \n",
            "heaven are us on a ways \n",
            "i said they just was the ride \n",
            "as i will never like your share \n",
            "i hear on your asshole it is lying about me but you used up and broken day \n",
            "i am the own runaway \n",
            "i need it \n",
            "play and face a person girl a white just stop a distance and let it rest \n",
            "you said on you asked \n",
            "this is going up her no say and\n",
            "\n",
            "-------------------------------------\n",
            "Song: lovefool\n",
            "seed: dear\n",
            "\n",
            "Generate Lyrics:\n",
            "\n",
            "dear yard \n",
            "and now daddy hear you \n",
            "loneliness why look upon me than you \n",
            "my game is an \n",
            "how is such crazy was your ones \n",
            "on the time through the past through here \n",
            "she you can would be talking \n",
            "how i do not let me love we should \n",
            "hoping yell we do not you loved you \n",
            "come \n",
            "and will taught you know of you \n",
            "go what had on the crying fair \n",
            "they know only not see i am wrong well are fine \n",
            "until i\n",
            "\n",
            "-------------------------------------\n",
            "Song: barbie girl\n",
            "seed: hiya\n",
            "\n",
            "Generate Lyrics:\n",
            "\n",
            "hi you knew deep songs i am a funky safe \n",
            "your reindeer is morning bright \n",
            "time all was been watching back if i think you am really left all and i do not be we are \n",
            "the is ad always suppper music \n",
            "it can get at enough \n",
            "be good dance go together \n",
            "i feel no re as people have a but i am never already quite into the fantasy \n",
            "oh three queen somewhere make myself far \n",
            "and whoa in the girl does not go to live \n",
            "when we knew i\n",
            "\n",
            "-------------------------------------\n",
            "Song: all the small things\n",
            "seed: all\n",
            "\n",
            "Generate Lyrics:\n",
            "\n",
            "all reading in \n",
            "beep animals this try \n",
            "but bad haunts one bout thick \n",
            "hooked down us wrong \n",
            "take her dear right \n",
            "am the now you say or how it is out what you will \n",
            "sometimes i got ta \n",
            "she like i i will it no past is \n",
            "i do not did \n",
            "lost honey and is coming all i will fun where i try you see to make \n",
            "i go to dance \n",
            "i like the face rain \n",
            "can i got you got time \n",
            "i do not wanted in\n"
          ]
        }
      ],
      "source": [
        "l = df_test.apply(lambda row: generate(row['Song Name'], row['Midi Path'], model_original, 'original', row['Lyrics'].strip().split(' ')[0]), axis=1)"
      ]
    },
    {
      "cell_type": "markdown",
      "metadata": {
        "id": "vQBeiALnHoYt"
      },
      "source": [
        "##### **First word** - hello"
      ]
    },
    {
      "cell_type": "code",
      "execution_count": null,
      "metadata": {
        "id": "KYj5j-9UHoYt",
        "outputId": "338e8af6-2b10-41df-ab75-f1f410dc6984"
      },
      "outputs": [
        {
          "name": "stdout",
          "output_type": "stream",
          "text": [
            "\n",
            "-------------------------------------\n",
            "Song: eternal flame\n",
            "seed: hello\n",
            "\n",
            "Generate Lyrics:\n",
            "\n",
            "hello granted up fuck my clouds the heart bag \n",
            "i am ticking to the then \n",
            "that good end \n",
            "the friend going down at a other times \n",
            "no is still on like it way \n",
            "\n",
            "i will not find the hurts in my way was ta not end \n",
            "tonight i hope is not the king of all lies to ronron \n",
            "stray chickens his many is lauryn anyway \n",
            "i and let you know i am bear than try it \n",
            "as it is too i need this \n",
            "a passion i not\n",
            "\n",
            "-------------------------------------\n",
            "Song: honesty\n",
            "seed: hello\n",
            "\n",
            "Generate Lyrics:\n",
            "\n",
            "hello hands i am got in to get me and with it \n",
            "trying about him that did you lose like face \n",
            "everybody her allow to and you would believe \n",
            "something breathe fades daylight oh yeah \n",
            "kick your world box of \n",
            "i never ever you say \n",
            "that divides the funk world sha hey they hear we everyone \n",
            "and was it through my heart \n",
            "and and just well the getting places \n",
            "as a lifetime have never sad \n",
            "i know now that it is telling you\n",
            "\n",
            "-------------------------------------\n",
            "Song: lovefool\n",
            "seed: hello\n",
            "\n",
            "Generate Lyrics:\n",
            "\n",
            "hello ticking \n",
            "yes i need it late \n",
            "but only they know \n",
            "i could dance baby and show me will be life \n",
            "or about a rest to starting to be wit dreams to work someone he did you underground and i have be and they look your man alright \n",
            "and how reminds me me no all that seems about me \n",
            "but is a house \n",
            "i mad guaranteed in calls watching wonders \n",
            "somebody gon na not see the picture \n",
            "\n",
            "can how i ever spend you \n",
            "it is not no\n",
            "\n",
            "-------------------------------------\n",
            "Song: barbie girl\n",
            "seed: hello\n",
            "\n",
            "Generate Lyrics:\n",
            "\n",
            "hello \n",
            "fooling and buy you together \n",
            "and who i have telling up and after old now \n",
            "dust through times \n",
            "you am got it past me too fashion \n",
            "i the laugh because i am deep right wait so girls \n",
            "right out you have all all i have gone reaching \n",
            "till we was no act back into the time and you are free and holding for they goodbye \n",
            "they will play hard to a brings back around \n",
            "what is on you baby \n",
            "no part yeah \n",
            "ooh people i have\n",
            "\n",
            "-------------------------------------\n",
            "Song: all the small things\n",
            "seed: hello\n",
            "\n",
            "Generate Lyrics:\n",
            "\n",
            "hello places \n",
            "its morning sleigh and ready to bring the as these way \n",
            "so oh open it is in the jose \n",
            "if i will not break you\n"
          ]
        }
      ],
      "source": [
        "l = df_test.apply(lambda row: generate(row['Song Name'], row['Midi Path'], model_original, 'original', 'hello'), axis=1)"
      ]
    },
    {
      "cell_type": "markdown",
      "metadata": {
        "id": "0EfyXkFdHoYt"
      },
      "source": [
        "##### **First word** - goodbye"
      ]
    },
    {
      "cell_type": "code",
      "execution_count": null,
      "metadata": {
        "id": "N0PtNvA0HoYt",
        "outputId": "df999de1-da0a-4448-d3ef-2a8e2462fdbf"
      },
      "outputs": [
        {
          "name": "stdout",
          "output_type": "stream",
          "text": [
            "\n",
            "-------------------------------------\n",
            "Song: eternal flame\n",
            "seed: goodbye\n",
            "\n",
            "Generate Lyrics:\n",
            "\n",
            "goodbye never pullman ride \n",
            "i am the fire up \n",
            "a of long suck my conscience\n",
            "\n",
            "-------------------------------------\n",
            "Song: honesty\n",
            "seed: goodbye\n",
            "\n",
            "Generate Lyrics:\n",
            "\n",
            "goodbye you we could not \n",
            "it is got to be always \n",
            "do not what can you me please \n",
            "if i teach me for back \n",
            "because i would forget it \n",
            "for it i got to still heart \n",
            "do not have the mom better how right apart \n",
            "so time so it is like me \n",
            "and do not find this \n",
            "looking to bag you you have high and box \n",
            "love it ever wasting \n",
            "but you give on ta cried to once \n",
            "and if i wanted on\n",
            "\n",
            "-------------------------------------\n",
            "Song: lovefool\n",
            "seed: goodbye\n",
            "\n",
            "Generate Lyrics:\n",
            "\n",
            "goodbye class pum reaching all \n",
            "i love you talk \n",
            "but somewhere fernando \n",
            "for love and why \n",
            "so to darling \n",
            "get away \n",
            "you call up dead high she just timing \n",
            "you can not come into on me we am so near or tell the bag some good because i really come \n",
            "you forget me \n",
            "till i i \n",
            "i will be on my seeing up man to did to you \n",
            "i would be bag you wait beside a sleigh \n",
            "i still am war back &\n",
            "\n",
            "-------------------------------------\n",
            "Song: barbie girl\n",
            "seed: goodbye\n",
            "\n",
            "Generate Lyrics:\n",
            "\n",
            "goodbye two fly \n",
            "with it takes nobody close to by out \n",
            "i am in ta swear \n",
            "because did not say they will follow \n",
            "it is take the if be my superman \n",
            "you look on some bit love \n",
            "how is that \n",
            "that i am never your vibes to just changed all home \n",
            "and somebody yak taught me and and who is these dick are the very moonlit jet hair of me \n",
            "could i will not throw \n",
            "hug the way it for a color \n",
            "all this\n",
            "\n",
            "-------------------------------------\n",
            "Song: all the small things\n",
            "seed: goodbye\n",
            "\n",
            "Generate Lyrics:\n",
            "\n",
            "goodbye he spoke alone \n",
            "and stay true down this life is at the bitter heart\n"
          ]
        }
      ],
      "source": [
        "l = df_test.apply(lambda row: generate(row['Song Name'], row['Midi Path'], model_original, 'original', 'goodbye'), axis=1)"
      ]
    },
    {
      "cell_type": "markdown",
      "metadata": {
        "id": "KlbP4dScHoYt"
      },
      "source": [
        "##### **First word** - love"
      ]
    },
    {
      "cell_type": "code",
      "execution_count": null,
      "metadata": {
        "id": "Wnf2aHv6HoYt",
        "outputId": "f8fcb4c1-6f87-43e1-ae14-8f37c0d9cf91"
      },
      "outputs": [
        {
          "name": "stdout",
          "output_type": "stream",
          "text": [
            "\n",
            "-------------------------------------\n",
            "Song: eternal flame\n",
            "seed: love\n",
            "\n",
            "Generate Lyrics:\n",
            "\n",
            "love a city into dre \n",
            "she are thy passion teach am \n",
            "like loving \n",
            "as soda game do is everything i will na go me together \n",
            "three there cry call it are my man \n",
            "i am gon na go now your nights in what oh it is who \n",
            "they better dance \n",
            "if if i never \n",
            "come whoa \n",
            "that looks a original turning \n",
            "sometimes you roll away they just follow your chance \n",
            "i know i would not all \n",
            "because you hear ta be than seem everything again \n",
            "please\n",
            "\n",
            "-------------------------------------\n",
            "Song: honesty\n",
            "seed: love\n",
            "\n",
            "Generate Lyrics:\n",
            "\n",
            "love woman think \n",
            "i will not you succeed \n",
            "oh do not mean is fun \n",
            "to show i would runaway \n",
            "and beware away \n",
            "should were of play through \n",
            "i without the different place around \n",
            "oh see it was behind \n",
            "i am times when the things baby \n",
            "i fight you do not like this hair brown here \n",
            "blue really show him is goodbye for in a go through the teacher of your one rain again \n",
            "and hold to mine \n",
            "my gon na believe he is my heart now bitch\n",
            "\n",
            "-------------------------------------\n",
            "Song: lovefool\n",
            "seed: love\n",
            "\n",
            "Generate Lyrics:\n",
            "\n",
            "love from free \n",
            "got it found it a word \n",
            "it is around of time \n",
            "oh without me wishing for you \n",
            "if you still all kick up \n",
            "get broadway again \n",
            "feeling something \n",
            "can makes me you have gon na go say we may get your inside \n",
            "you will \n",
            "that sing \n",
            "some hopes another reason and no more \n",
            "so my levee is be who and just all this \n",
            "their heat is a road \n",
            "it is your far social free \n",
            "oh you am and the only hand &\n",
            "\n",
            "-------------------------------------\n",
            "Song: barbie girl\n",
            "seed: love\n",
            "\n",
            "Generate Lyrics:\n",
            "\n",
            "love sign we packing right lost more come in in get keep another memory \n",
            "how not once last no good and you look her thank you \n",
            "that deep leads it lying \n",
            "lived me we as is confused i let you go \n",
            "you was not there to trying me \n",
            "and that life i want \n",
            "when she is it all \n",
            "i am start blue thirty when i really suck a man at the one words \n",
            "i part what spread us \n",
            "in the piece die till when that is heavy \n",
            "it is\n",
            "\n",
            "-------------------------------------\n",
            "Song: all the small things\n",
            "seed: love\n",
            "\n",
            "Generate Lyrics:\n",
            "\n",
            "love burn \n",
            "anywhere that drinking banana \n",
            "really tear me into \n",
            "i know you will not but you find you out \n",
            "let you let me love him \n",
            "sherry can not you matter \n",
            "i will be confused \n",
            "if i forget me that i needed that forever \n",
            "will you \n",
            "we like to say to be fast \n",
            "it is living down you can you got em \n",
            "kick your \n",
            "like a times who went into over day \n",
            "all there is a sun dry \n",
            "i be between this tree \n",
            "if\n"
          ]
        }
      ],
      "source": [
        "l = df_test.apply(lambda row: generate(row['Song Name'], row['Midi Path'], model_original, 'original', 'love'), axis=1)"
      ]
    },
    {
      "cell_type": "markdown",
      "metadata": {
        "id": "dZDciUS2HoYu"
      },
      "source": [
        "#### Second Model - 'sliding'"
      ]
    },
    {
      "cell_type": "markdown",
      "metadata": {
        "id": "QHmzF3UhHoYu"
      },
      "source": [
        "##### **First word** - song's original first word"
      ]
    },
    {
      "cell_type": "code",
      "execution_count": null,
      "metadata": {
        "id": "Dokgr8rLHoYu",
        "outputId": "84c7be1a-744c-40a6-a0aa-02dd772209bb"
      },
      "outputs": [
        {
          "name": "stdout",
          "output_type": "stream",
          "text": [
            "\n",
            "-------------------------------------\n",
            "Song: eternal flame\n",
            "seed: close\n",
            "\n",
            "Generate Lyrics:\n",
            "\n",
            "close way and in lonely \n",
            "do you live and the fire \n",
            "she is feel in oh young \n",
            "through \n",
            "i am a flatbed there like smoking night \n",
            "where your thank around so sin \n",
            "all i miss every brand other eyes \n",
            "filled right our and circumstance only very wrong to always \n",
            "i want to what long \n",
            "and for you \n",
            "wolf can not let me the joke that i do you know bout cause of another star \n",
            "stand it around the green at your one that town in my\n",
            "\n",
            "-------------------------------------\n",
            "Song: honesty\n",
            "seed: if\n",
            "\n",
            "Generate Lyrics:\n",
            "\n",
            "if heal myself \n",
            "when the pink won but i be going \n",
            "let me gon na be intention way who you are white day for you \n",
            "because you understand to it \n",
            "do you want that get this thing about my best will do \n",
            "loved to paint the toast \n",
            "here \n",
            "closer til the face in you \n",
            "i am the own town i have heard \n",
            "but i wan na forgotten \n",
            "i understand i fly down \n",
            "walk \n",
            "gon na want not go every \n",
            "like let and school mistletoe heart \n",
            "i\n",
            "\n",
            "-------------------------------------\n",
            "Song: lovefool\n",
            "seed: dear\n",
            "\n",
            "Generate Lyrics:\n",
            "\n",
            "dear crocodiles else down \n",
            "kick in the right road \n",
            "it will make me fade me \n",
            "walking \n",
            "how one time the music true\n",
            "\n",
            "-------------------------------------\n",
            "Song: barbie girl\n",
            "seed: hiya\n",
            "\n",
            "Generate Lyrics:\n",
            "\n",
            "hi you trouble never no key on golden heartache love \n",
            "but love i can what not \n",
            "i will be you i will met kungfu home after piece \n",
            "everyone is your \n",
            "am find to wrong it is it on another life \n",
            "goes sit the alien \n",
            "time such the magic girl \n",
            "oh i fly \n",
            "you are got real bright baby oh this she is not all and i fall \n",
            "when you should been your dad oh \n",
            "and i do not go to \n",
            "then you better stayin all as you turn\n",
            "\n",
            "-------------------------------------\n",
            "Song: all the small things\n",
            "seed: all\n",
            "\n",
            "Generate Lyrics:\n",
            "\n",
            "all mockingbird rich the children place \n",
            "can i got because to fade in \n",
            "here \n",
            "and it is been beyond me \n",
            "kind you more the but take you \n",
            "while i get i used \n",
            "the sunday cry i have like no sad \n",
            "sweet good is red heart \n",
            "check me down it just the blood thin to highway with em little twisting way \n",
            "sure it is only be on a mind \n",
            "she the home been mean \n",
            "it is you a moon hey as my magic mind \n",
            "i do you could take\n"
          ]
        }
      ],
      "source": [
        "l = df_test.apply(lambda row: generate(row['Song Name'], row['Midi Path'], model_sliding, 'sliding', row['Lyrics'].strip().split(' ')[0]), axis=1)"
      ]
    },
    {
      "cell_type": "markdown",
      "metadata": {
        "id": "0Y4EjP5bHoYu"
      },
      "source": [
        "##### **First word** - hello"
      ]
    },
    {
      "cell_type": "code",
      "execution_count": null,
      "metadata": {
        "id": "kuoylbNRHoYu",
        "outputId": "36987e56-6153-4211-e2f5-aace166e02cb"
      },
      "outputs": [
        {
          "name": "stdout",
          "output_type": "stream",
          "text": [
            "\n",
            "-------------------------------------\n",
            "Song: eternal flame\n",
            "seed: hello\n",
            "\n",
            "Generate Lyrics:\n",
            "\n",
            "hello plan \n",
            "because you break to sure\n",
            "\n",
            "-------------------------------------\n",
            "Song: honesty\n",
            "seed: hello\n",
            "\n",
            "Generate Lyrics:\n",
            "\n",
            "hello c lineman another beat \n",
            "should do i think while you are for first \n",
            "i will be me \n",
            "if you want it know and you see you say please go and the so clinic from our kids \n",
            "days cold are fool \n",
            "inside not three little guns \n",
            "me it is feeling here \n",
            "that that i have wake business \n",
            "and the king the march \n",
            "eyes oh he is your voice in some times you you can felt \n",
            "the was boardwalk for a place of what of no on i wan\n",
            "\n",
            "-------------------------------------\n",
            "Song: lovefool\n",
            "seed: hello\n",
            "\n",
            "Generate Lyrics:\n",
            "\n",
            "hello \n",
            "ya whole song is lovely land \n",
            "let around a dress \n",
            "i would \n",
            "did not know how if you was ta somebody not be boy \n",
            "i drank in the fittest way now tight now \n",
            "a surprise of your blues \n",
            "tomorrow repeat \n",
            "this sweet girls showed back \n",
            "but the past just we believe \n",
            "there is of you with you \n",
            "it is a air and when you never heal your turn \n",
            "of him you will you into my child \n",
            "am your tie by you \n",
            "tonight warm\n",
            "\n",
            "-------------------------------------\n",
            "Song: barbie girl\n",
            "seed: hello\n",
            "\n",
            "Generate Lyrics:\n",
            "\n",
            "hello wei as and you well this son \n",
            "with i says you used to say \n",
            "they will what you give your ground for \n",
            "tell me every day on you \n",
            "kick my you touch to find on by still \n",
            "down to my water strikes it just things voice \n",
            "oh i stop for up so known \n",
            "pa i you \n",
            "makes me fight \n",
            "just come up about your run \n",
            "is them glad a fellow star \n",
            "if the room came just within my game \n",
            "show me them around in time\n",
            "\n",
            "-------------------------------------\n",
            "Song: all the small things\n",
            "seed: hello\n",
            "\n",
            "Generate Lyrics:\n",
            "\n",
            "hello blues \n",
            "i need it \n",
            "you really happy words what you made her slowly \n",
            "i want you your darling thinking right \n",
            "take you me come part\n"
          ]
        }
      ],
      "source": [
        "l = df_test.apply(lambda row: generate(row['Song Name'], row['Midi Path'], model_sliding, 'sliding', 'hello'), axis=1)"
      ]
    },
    {
      "cell_type": "markdown",
      "metadata": {
        "id": "0T60qUU-HoYu"
      },
      "source": [
        "##### **First word** - goodbye"
      ]
    },
    {
      "cell_type": "code",
      "execution_count": null,
      "metadata": {
        "id": "nNSgK3auHoYu",
        "outputId": "6b27450d-6555-416a-e6bf-b27eb1334987"
      },
      "outputs": [
        {
          "name": "stdout",
          "output_type": "stream",
          "text": [
            "\n",
            "-------------------------------------\n",
            "Song: eternal flame\n",
            "seed: goodbye\n",
            "\n",
            "Generate Lyrics:\n",
            "\n",
            "goodbye why \n",
            "gim your city came i be \n",
            "when we want to say \n",
            "you are gone high is my balloon but help your past room by out \n",
            "i give the time you \n",
            "oh \n",
            "ready at a cries their that \n",
            "there is been place \n",
            "can it is unlimited from my one word \n",
            "i am me \n",
            "you do not live will nothing him alone \n",
            "do not you could talk you \n",
            "no line down \n",
            "him something true is beyond my way to was could a\n",
            "\n",
            "-------------------------------------\n",
            "Song: honesty\n",
            "seed: goodbye\n",
            "\n",
            "Generate Lyrics:\n",
            "\n",
            "goodbye must turn \n",
            "there will you am standing \n",
            "there is last smile needs for long \n",
            "put me me flies inside in waiting \n",
            "hit the babies kid into \n",
            "you photograph you do not get that why nobody will not be before \n",
            "you roll it has everyone you call each attention and i go \n",
            "your breath too wanted \n",
            "i do not love anybody too have we be girls \n",
            "only was me copacabana \n",
            "dee do i help i will be give to go \n",
            "someday you feel to\n",
            "\n",
            "-------------------------------------\n",
            "Song: lovefool\n",
            "seed: goodbye\n",
            "\n",
            "Generate Lyrics:\n",
            "\n",
            "goodbye tired with for touch go \n",
            "they really did not just feel from \n",
            "i am familiar to fair right \n",
            "gon na love too my summer a change of knowing the are way \n",
            "that i know you will you be now \n",
            "i only realize \n",
            "i never say you will \n",
            "all wants ta night my light in a powder length i go in a first price \n",
            "as did not \n",
            "be this kid \n",
            "he better dif price here my own move \n",
            "if you could some foolish you\n",
            "\n",
            "-------------------------------------\n",
            "Song: barbie girl\n",
            "seed: goodbye\n",
            "\n",
            "Generate Lyrics:\n",
            "\n",
            "goodbye that then i want you too up and the man back \n",
            "from home \n",
            "whenever she seems to a sunday tears there is the copacabana in a cloud of you \n",
            "the shadows these tiled whatever \n",
            "its thrown the eye but you will for me but \n",
            "when we tried me now \n",
            "you got no makes behind wine \n",
            "i go with somewhere of a smart oh running this closer \n",
            "it is on them baby \n",
            "er little che clouds why \n",
            "da da ba pum ba da oh and\n",
            "\n",
            "-------------------------------------\n",
            "Song: all the small things\n",
            "seed: goodbye\n",
            "\n",
            "Generate Lyrics:\n",
            "\n",
            "goodbye my there \n",
            "you guess you know what is look from the let me sink there be the and what we are would yours would shine \n",
            "let me be nobody this top \n",
            "often take you around \n",
            "maybe \n",
            "i do not be \n",
            "there is everything \n",
            "i feel fed tired \n",
            "up up back \n",
            "what i matter she feels \n",
            "let me say to you \n",
            "it will \n",
            "with myself \n",
            "why i am a price by god \n",
            "think it is this road \n",
            "that i am\n"
          ]
        }
      ],
      "source": [
        "l = df_test.apply(lambda row: generate(row['Song Name'], row['Midi Path'], model_sliding, 'sliding', 'goodbye'), axis=1)"
      ]
    },
    {
      "cell_type": "markdown",
      "metadata": {
        "id": "ctMNaS3vHoYv"
      },
      "source": [
        "##### **First word** - love"
      ]
    },
    {
      "cell_type": "code",
      "execution_count": null,
      "metadata": {
        "id": "mZg61_XiHoYv",
        "outputId": "a7334049-bd51-4143-f719-2052a1dfa00d"
      },
      "outputs": [
        {
          "name": "stdout",
          "output_type": "stream",
          "text": [
            "\n",
            "-------------------------------------\n",
            "Song: eternal flame\n",
            "seed: love\n",
            "\n",
            "Generate Lyrics:\n",
            "\n",
            "love rum \n",
            "\n",
            "walk in the local air \n",
            "you dream i got the my late who the bunch in the talking now my invisible passion tell the other forever is \n",
            "lost in night \n",
            "and i tried them of a real door \n",
            "do not let me swing me now \n",
            "the much hip than burns \n",
            "\n",
            "hear you get for mind \n",
            "and i hear the body says far \n",
            "i do not do not care to not as \n",
            "i was gon na think please\n",
            "\n",
            "-------------------------------------\n",
            "Song: honesty\n",
            "seed: love\n",
            "\n",
            "Generate Lyrics:\n",
            "\n",
            "love da i dancing glass for days \n",
            "mmm charlie whole mood \n",
            "from a ooo now \n",
            "\n",
            "baby you come love for you\n",
            "\n",
            "-------------------------------------\n",
            "Song: lovefool\n",
            "seed: love\n",
            "\n",
            "Generate Lyrics:\n",
            "\n",
            "love sights\n",
            "\n",
            "-------------------------------------\n",
            "Song: barbie girl\n",
            "seed: love\n",
            "\n",
            "Generate Lyrics:\n",
            "\n",
            "love whoopityayeyay \n",
            "and you heard \n",
            "well that we said \n",
            "rock the equality to play \n",
            "we said where me \n",
            "why \n",
            "last bill well over to stay \n",
            "ooh here because we needed me in life \n",
            "do you might stand cold a for bright \n",
            "tragedy \n",
            "talk of let a burn into his view \n",
            "such a booty rain for roll \n",
            "her time of is uh in the is \n",
            "and i would say \n",
            "i am like this life has on every world \n",
            "say of the own that \n",
            "the\n",
            "\n",
            "-------------------------------------\n",
            "Song: all the small things\n",
            "seed: love\n",
            "\n",
            "Generate Lyrics:\n",
            "\n",
            "love \n",
            "space baby oh come \n",
            "and we to call the attitude \n",
            "i say what is move out and fun to let the lands never am wait \n",
            "wrap nowhere of no who trouppper \n",
            "cross \n",
            "my christ up copacabana\n"
          ]
        }
      ],
      "source": [
        "l = df_test.apply(lambda row: generate(row['Song Name'], row['Midi Path'], model_sliding, 'sliding', 'love'), axis=1)"
      ]
    }
  ],
  "metadata": {
    "accelerator": "GPU",
    "colab": {
      "collapsed_sections": [],
      "name": "Assignment_3 (2).ipynb",
      "provenance": []
    },
    "kernelspec": {
      "display_name": "Python (dl-env)",
      "language": "python",
      "name": "dl-env"
    },
    "language_info": {
      "codemirror_mode": {
        "name": "ipython",
        "version": 3
      },
      "file_extension": ".py",
      "mimetype": "text/x-python",
      "name": "python",
      "nbconvert_exporter": "python",
      "pygments_lexer": "ipython3",
      "version": "3.8.6"
    }
  },
  "nbformat": 4,
  "nbformat_minor": 0
}