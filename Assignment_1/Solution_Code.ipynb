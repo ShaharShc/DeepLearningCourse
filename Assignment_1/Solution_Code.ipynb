{
  "nbformat": 4,
  "nbformat_minor": 0,
  "metadata": {
    "colab": {
      "name": "313326985_206172686.ipynb",
      "provenance": []
    },
    "kernelspec": {
      "name": "python3",
      "display_name": "Python 3"
    },
    "language_info": {
      "name": "python"
    }
  },
  "cells": [
    {
      "cell_type": "markdown",
      "source": [
        "# Assignment 1"
      ],
      "metadata": {
        "id": "JYjt1AkdZkP9"
      }
    },
    {
      "cell_type": "markdown",
      "source": [
        "## Id numbers and names\n",
        "\n",
        "\n",
        "1.   313326985 Shahar Shcheranski\n",
        "2.   206172686 Sarit Hollander"
      ],
      "metadata": {
        "id": "quyaTwTGZufW"
      }
    },
    {
      "cell_type": "markdown",
      "source": [
        "## 1. forward propagation process:"
      ],
      "metadata": {
        "id": "a2-UoCdB-eHE"
      }
    },
    {
      "cell_type": "code",
      "source": [
        "import numpy as np\n",
        "from time import time"
      ],
      "metadata": {
        "id": "69Jd_rpDHV-w"
      },
      "execution_count": null,
      "outputs": []
    },
    {
      "cell_type": "code",
      "execution_count": null,
      "metadata": {
        "id": "i5KekURS9h6m"
      },
      "outputs": [],
      "source": [
        "def initialize_parameters(layer_dims):\n",
        "    \"\"\"\n",
        "\n",
        "    :param layer_dims: an array of the dimensions of each layer in the network\n",
        "    (layer 0 is the size of the flattened input, layer L is the output softmax\n",
        "    :return: a dictionary containing the initialized W and b parameters of each layer (W1…WL, b1…bL)\n",
        "    \"\"\"\n",
        "    parameters = {}\n",
        "    for i in range(1, len(layer_dims)):\n",
        "        parameters['W' + str(i)] = np.random.randn(layer_dims[i], layer_dims[i - 1]) * np.sqrt(2/layer_dims[i-1])\n",
        "        parameters['b' + str(i)] = np.zeros((layer_dims[i], 1))\n",
        "\n",
        "    return parameters"
      ]
    },
    {
      "cell_type": "code",
      "source": [
        "def linear_forward(A, W, b):\n",
        "    \"\"\"\n",
        "    Implement the linear part of a layer's forward propagation\n",
        "    :param A: the activations of the previous layer\n",
        "    :param W: the weight matrix of the current layer (of shape [size of current layer, size of previous layer])\n",
        "    :param b: the bias vector of the current layer (of shape [size of current layer, 1])\n",
        "    :return: Z – the linear component of the activation function (i.e., the value before applying the non-linear function)\n",
        "    linear_cache – a dictionary containing A, W, b (stored for making the backpropagation easier to compute)\n",
        "    \"\"\"\n",
        "    Z = np.dot(W, A) + b\n",
        "    linear_cache = {'A': A, 'W': W, 'b': b}\n",
        "    \n",
        "    return Z, linear_cache"
      ],
      "metadata": {
        "id": "5Jeuxzpc2ydC"
      },
      "execution_count": null,
      "outputs": []
    },
    {
      "cell_type": "code",
      "source": [
        "def softmax(Z):\n",
        "    \"\"\"\n",
        "    :param Z: the linear component of the activation function\n",
        "    :return: A – the activations of the layer\n",
        "    activation_cache – returns Z, which will be useful for the backpropagation\n",
        "    \"\"\"\n",
        "    z_exp = np.exp(Z)\n",
        "    A = z_exp / np.sum(z_exp, axis=0)\n",
        "    activation_cache = {'Z': Z}\n",
        "\n",
        "    return A, activation_cache"
      ],
      "metadata": {
        "id": "O5v3bkwz9mhi"
      },
      "execution_count": null,
      "outputs": []
    },
    {
      "cell_type": "code",
      "source": [
        "def relu(Z):\n",
        "    \"\"\"\n",
        "    :param Z: the linear component of the activation function\n",
        "    :return: A – the activations of the layer\n",
        "    activation_cache – returns Z, which will be useful for the backpropagation\n",
        "    \"\"\"\n",
        "    def relu_return_max(z):\n",
        "        return np.maximum(0., z)\n",
        "\n",
        "    activation_cache = {'Z': Z}\n",
        "    relu_return_max = np.vectorize(relu_return_max)\n",
        "    A = relu_return_max(Z)\n",
        "    \n",
        "    return A, activation_cache"
      ],
      "metadata": {
        "id": "LV5ihfc6Q9u2"
      },
      "execution_count": null,
      "outputs": []
    },
    {
      "cell_type": "code",
      "source": [
        "def relu_dropout(Z,prob):\n",
        "    \"\"\"\n",
        "    :param Z: the linear component of the activation function\n",
        "    :param prob: the probability of keeping a node in each layer\n",
        "    :return: A – the activations of the layer\n",
        "    activation_cache – returns Z, D, prob, which will be useful for the backpropagation\n",
        "    \"\"\"\n",
        "\n",
        "    A, relue_cache = relu(Z)\n",
        "    A, dropout_cache = dropout(A, prob)\n",
        "    activation_cache = {**relue_cache, **dropout_cache}\n",
        "    return A, activation_cache"
      ],
      "metadata": {
        "id": "Mr9kSwelOEut"
      },
      "execution_count": null,
      "outputs": []
    },
    {
      "cell_type": "code",
      "source": [
        "def dropout(A, prob):\n",
        "    \"\"\"\n",
        "    :param A: the activations of the layer\n",
        "    :param prob: the probability of keeping a node in each layer\n",
        "    :return: A – the activations of the layer\n",
        "    dropout_cache – returns Z, D, prob, which will be useful for the backpropagation\n",
        "    \"\"\"\n",
        "    D = np.random.rand(A.shape[0],A.shape[1]) < prob\n",
        "    A = A*D\n",
        "    A = A/prob\n",
        "    dropout_cache = {'D': D, 'prob' : prob}\n",
        "    return A, dropout_cache"
      ],
      "metadata": {
        "id": "C2IO_vQiO0Gg"
      },
      "execution_count": null,
      "outputs": []
    },
    {
      "cell_type": "code",
      "source": [
        "def linear_activation_forward(A_prev, W, B, activation):\n",
        "    \"\"\"\n",
        "    Implement the forward propagation for the LINEAR->ACTIVATION layer\n",
        "    :param A_prev: activations of the previous layer\n",
        "    :param W: the weights matrix of the current layer\n",
        "    :param B: the bias vector of the current layer\n",
        "    :param activation: the activation function to be used (a string, either “softmax” or “relu”)\n",
        "    :return: A – the activations of the current layer\n",
        "    cache – a joint dictionary containing both linear_cache and activation_cache\n",
        "    \"\"\"\n",
        "    Z, linear_cache = linear_forward(A_prev, W, B)\n",
        "    if activation == \"softmax\":\n",
        "        A, activation_cache = softmax(Z)\n",
        "    elif activation == \"relu\":\n",
        "        if use_dropout:\n",
        "          A, activation_cache = relu_dropout(Z, prob=prob_dropout)\n",
        "        else:\n",
        "          A, activation_cache = relu(Z)\n",
        "\n",
        "\n",
        "    cache = {**linear_cache, **activation_cache}\n",
        "\n",
        "    return A, cache"
      ],
      "metadata": {
        "id": "QCg75qndyk4v"
      },
      "execution_count": null,
      "outputs": []
    },
    {
      "cell_type": "code",
      "source": [
        "def L_model_forward(X, parameters, use_batchnorm):\n",
        "    \"\"\"\n",
        "    Implement forward propagation for the [LINEAR->RELU]*(L-1)->LINEAR->SOFTMAX\n",
        "    :param X: the data, numpy array of shape (input size, number of examples)\n",
        "    :param parameters: the initialized W and b parameters of each layer\n",
        "    :param use_batchnorm: - a boolean flag used to determine whether to apply batchnorm after the activation\n",
        "    (note that this option needs to be set to “false” in Section 3 and “true” in Section 4).\n",
        "    :return: AL – the last post-activation value\n",
        "    caches – a list of all the cache objects generated by the linear_forward function\n",
        "    \"\"\"\n",
        "    layers = len(parameters) // 2\n",
        "    A_prev = X\n",
        "    caches = []\n",
        "\n",
        "    for i in range(1, layers):\n",
        "        W = parameters['W' + str(i)]\n",
        "        b = parameters['b' + str(i)]\n",
        "        A, cache = linear_activation_forward(A_prev, W, b, 'relu')\n",
        "        caches.append(cache)\n",
        "        if use_batchnorm:\n",
        "            A = apply_batchnorm(A)\n",
        "\n",
        "        A_prev = A\n",
        "\n",
        "    W = parameters['W' + str(layers)]\n",
        "    b = parameters['b' + str(layers)]\n",
        "    AL, cache = linear_activation_forward(A_prev, W, b, 'softmax')\n",
        "    caches.append(cache)\n",
        "\n",
        "    return AL, caches"
      ],
      "metadata": {
        "id": "1Ygt8uXhRYrm"
      },
      "execution_count": null,
      "outputs": []
    },
    {
      "cell_type": "code",
      "source": [
        "def compute_cost(AL, Y):\n",
        "    \"\"\"\n",
        "    Implement the cost function defined by equation. The requested cost function is categorical cross-entropy loss.\n",
        "    :param AL: probability vector corresponding to your label predictions, shape (num_of_classes, number of examples)\n",
        "    :param Y: the labels vector (i.e. the ground truth)\n",
        "    :return: cost – the cross-entropy cost\n",
        "    \"\"\"\n",
        "    m = AL.shape[1]\n",
        "    cost = -(1/m) * np.sum(Y * np.log(AL))\n",
        "    return cost"
      ],
      "metadata": {
        "id": "AEdzwb5BRcZa"
      },
      "execution_count": null,
      "outputs": []
    },
    {
      "cell_type": "code",
      "source": [
        "def apply_batchnorm(A):\n",
        "    \"\"\"\n",
        "    performs batchnorm on the received activation values of a given layer.\n",
        "    :param A: the activation values of a given layer\n",
        "    :return: NA - the normalized activation values, based on the formula learned in class\n",
        "    \"\"\"\n",
        "    mu = np.mean(A, axis=1, keepdims=True)\n",
        "    eps = 0.00000001\n",
        "    var = np.var(A, axis=1, keepdims=True)\n",
        "    NA = (A - mu) / np.sqrt(var + eps)\n",
        "\n",
        "    return NA"
      ],
      "metadata": {
        "id": "Vll6_lI3ReFT"
      },
      "execution_count": null,
      "outputs": []
    },
    {
      "cell_type": "markdown",
      "source": [
        "## 2. backward propagation process"
      ],
      "metadata": {
        "id": "sYC13hyMZW3o"
      }
    },
    {
      "cell_type": "code",
      "source": [
        "def Linear_backward(dZ, cache):\n",
        "  \"\"\"\n",
        "  Description:\n",
        "    Implements the linear part of the backward propagation process for a single layer\n",
        "\n",
        "  Inputs:\n",
        "    dZ - the gradient of the cost with respect to the linear output of the current layer (layer l)\n",
        "    cache - tuple of values (A_prev, W, b) coming from the forward propagation in the current layer \n",
        "\n",
        "  Output: \n",
        "    dA_prev -- Gradient of the cost with respect to the activation (of the previous layer l-1), same shape as A_prev\n",
        "    dW -- Gradient of the cost with respect to W (current layer l), same shape as W\n",
        "    db -- Gradient of the cost with respect to b (current layer l), same shape as b\n",
        "  \"\"\"\n",
        "\n",
        "  A_prev = cache['A']\n",
        "  W = cache['W']\n",
        "  b = cache['b']\n",
        "\n",
        "  m = A_prev.shape[1]\n",
        "\n",
        "  dA_prev = np.dot(W.T, dZ)\n",
        "  dW = np.dot(dZ, A_prev.T)/m\n",
        "  db = np.sum(dZ, axis=1, keepdims=True)/m\n",
        "\n",
        "  return dA_prev, dW, db"
      ],
      "metadata": {
        "id": "jsA9YgQXZdSt"
      },
      "execution_count": null,
      "outputs": []
    },
    {
      "cell_type": "code",
      "source": [
        "def linear_activation_backward(dA, cache, activation):\n",
        "  \"\"\" \n",
        "  Description:\n",
        "    Implements the backward propagation for the LINEAR->ACTIVATION layer. The function first computes dZ and then applies the linear_backward function.\n",
        "\n",
        "  Input:\n",
        "    dA – post activation gradient of the current layer\n",
        "    cache – contains both the linear cache and the activations cache\n",
        "\n",
        "  Output:\n",
        "    dA_prev – Gradient of the cost with respect to the activation (of the previous layer l-1), same shape as A_prev\n",
        "    dW – Gradient of the cost with respect to W (current layer l), same shape as W\n",
        "    db – Gradient of the cost with respect to b (current layer l), same shape as b\n",
        "  \"\"\"\n",
        "\n",
        "  if activation == 'relu':\n",
        "    if use_dropout:\n",
        "      dZ = relu_dropout_backward(dA, cache)\n",
        "    else:\n",
        "      dZ = relu_backward(dA, cache)\n",
        "  elif activation == 'softmax':\n",
        "      dZ = softmax_backward(dA, cache)\n",
        "\n",
        "  dA_prev, dW, db = Linear_backward(dZ, cache)\n",
        "\n",
        "  return dA_prev, dW, db"
      ],
      "metadata": {
        "id": "dAikVqWCczp1"
      },
      "execution_count": null,
      "outputs": []
    },
    {
      "cell_type": "code",
      "source": [
        "def relu_backward (dA, activation_cache):\n",
        "  \"\"\"\n",
        "  Description:\n",
        "    Implements backward propagation for a ReLU unit\n",
        "\n",
        "  Input:\n",
        "    dA – the post-activation gradient\n",
        "    activation_cache – contains Z (stored during the forward propagation)\n",
        "\n",
        "  Output:\n",
        "    dZ – gradient of the cost with respect to Z\n",
        "  \"\"\"\n",
        "  \n",
        "  Z = activation_cache['Z']\n",
        "\n",
        "  dZ = dA\n",
        "  dZ[Z < 0] = 0\n",
        "\n",
        "  return dZ\n"
      ],
      "metadata": {
        "id": "ewmS4jlkdET_"
      },
      "execution_count": null,
      "outputs": []
    },
    {
      "cell_type": "code",
      "source": [
        "def relu_dropout_backward(dA, activation_cache):\n",
        "  \"\"\"\n",
        "  Description:\n",
        "    Implements backward propagation for a dropout ReLU unit\n",
        "\n",
        "  Input:\n",
        "    dA – the post-activation gradient\n",
        "    activation_cache – contains Z (stored during the forward propagation)\n",
        "\n",
        "  Output:\n",
        "    dZ – gradient of the cost with respect to Z\n",
        "  \"\"\"\n",
        "\n",
        "  dA = dropout_backward(dA, activation_cache)\n",
        "  dZ = relu_backward (dA, activation_cache)\n",
        "\n",
        "  return dZ\n"
      ],
      "metadata": {
        "id": "VoZBxSwvOrvI"
      },
      "execution_count": null,
      "outputs": []
    },
    {
      "cell_type": "code",
      "source": [
        "def softmax_backward (dA, activation_cache):\n",
        "  \"\"\"\n",
        "  Description:\n",
        "    Implements backward propagation for a softmax unit\n",
        "\n",
        "  Input:\n",
        "    dA – the post-activation gradient\n",
        "    activation_cache – contains: \n",
        "      Z (stored during the forward propagation)\n",
        "      AL - the probabilities vector, the output of the forward propagation (L_model_forward)\n",
        "      Y - the true labels vector (the \"ground truth\" - true classifications)\n",
        "\n",
        "  Output:\n",
        "    dZ – gradient of the cost with respect to Z\n",
        "  \"\"\"\n",
        "\n",
        "  Z = activation_cache['Z']\n",
        "  AL = activation_cache['AL']\n",
        "  Y = activation_cache['Y']\n",
        "\n",
        "  dZ = AL - Y\n",
        "\n",
        "  return dZ\n"
      ],
      "metadata": {
        "id": "kKWLRiwEdOUn"
      },
      "execution_count": null,
      "outputs": []
    },
    {
      "cell_type": "code",
      "source": [
        "def dropout_backward(dA, dropout_cache):\n",
        "\n",
        "  D = dropout_cache['D']\n",
        "  prob = dropout_cache['prob']\n",
        "\n",
        "  dA = dA*D\n",
        "  dA = dA/prob\n",
        "\n",
        "  return dA\n"
      ],
      "metadata": {
        "id": "YeCxuji6P9T_"
      },
      "execution_count": null,
      "outputs": []
    },
    {
      "cell_type": "code",
      "source": [
        "def L_model_backward(AL, Y, caches):\n",
        "  \"\"\"\n",
        "  Description:\n",
        "    Implement the backward propagation process for the entire network.\n",
        "\n",
        "  Input:\n",
        "    AL - the probabilities vector, the output of the forward propagation (L_model_forward)\n",
        "    Y - the true labels vector (the \"ground truth\" - true classifications)\n",
        "    Caches - list of caches containing for each layer: a) the linear cache; b) the activation cache\n",
        "\n",
        "  Output:\n",
        "    Grads - a dictionary with the gradients\n",
        "             grads[\"dA\" + str(l)] = ... \n",
        "             grads[\"dW\" + str(l)] = ...\n",
        "             grads[\"db\" + str(l)] = ...\n",
        "  \"\"\"\n",
        "    \n",
        "  layers = len(caches)\n",
        "  grads = {}\n",
        "\n",
        "  # Initializing the backpropagation\n",
        "  dAL = - (Y/AL) + (1 - Y)/(1 - AL)\n",
        "\n",
        "  # Lth layer (ACTIVATION -> LINEAR) gradients. \n",
        "  current_cache = caches[layers - 1]\n",
        "  current_cache['AL'] = AL\n",
        "  current_cache['Y'] = Y\n",
        "  grads['dA' + str(layers)], grads['dW' + str(layers)], grads['db' + str(layers)] = linear_activation_backward(dAL, current_cache, activation = 'softmax')\n",
        "\n",
        "  for i in range(layers - 1, 0, -1):\n",
        "      previous_layer = i + 1\n",
        "      curreny_layer = i\n",
        "      current_cache = caches[i - 1]\n",
        "      grads['dA' + str(curreny_layer)], grads['dW' + str(curreny_layer)], grads['db' + str(curreny_layer)] = linear_activation_backward(grads['dA' + str(previous_layer)], current_cache, activation = 'relu')\n",
        "\n",
        "  return grads\n",
        "\n"
      ],
      "metadata": {
        "id": "9nlsKYzgdZUs"
      },
      "execution_count": null,
      "outputs": []
    },
    {
      "cell_type": "code",
      "source": [
        "def Update_parameters(parameters, grads, learning_rate):\n",
        "  \"\"\"\n",
        "  Description:\n",
        "    Updates parameters using gradient descent\n",
        "\n",
        "  Input:\n",
        "    parameters – a python dictionary containing the DNN architecture’s parameters\n",
        "    grads – a python dictionary containing the gradients (generated by L_model_backward)\n",
        "    learning_rate – the learning rate used to update the parameters (the “alpha”)\n",
        "\n",
        "  Output:\n",
        "    parameters – the updated values of the parameters object provided as input\n",
        "  \"\"\"\n",
        "\n",
        "  layers = len(parameters) // 2\n",
        "\n",
        "  for i in range(1, layers + 1):\n",
        "    parameters['W' + str(i)] = parameters['W' + str(i)] - (learning_rate * grads['dW' + str(i)])\n",
        "    parameters['b' + str(i)] = parameters['b' + str(i)] - (learning_rate * grads['db' + str(i)])\n",
        "                                                           \n",
        "  return parameters"
      ],
      "metadata": {
        "id": "tVwcc8O7dlKU"
      },
      "execution_count": null,
      "outputs": []
    },
    {
      "cell_type": "markdown",
      "source": [
        "## 3. train the network and produce predictions"
      ],
      "metadata": {
        "id": "Hs6AlxqWytxB"
      }
    },
    {
      "cell_type": "code",
      "source": [
        "import math"
      ],
      "metadata": {
        "id": "6HrUViQdElPJ"
      },
      "execution_count": null,
      "outputs": []
    },
    {
      "cell_type": "code",
      "source": [
        "# global parameters\n",
        "use_batchnorm = False\n",
        "stopping_rate = 0.001\n",
        "splitting_factor = 0.2\n",
        "use_dropout = False\n",
        "prob_dropout = 0.8"
      ],
      "metadata": {
        "id": "oiONE2U47yRs"
      },
      "execution_count": null,
      "outputs": []
    },
    {
      "cell_type": "code",
      "source": [
        "def L_layer_model(X, Y, layers_dims, learning_rate, num_iterations, batch_size):\n",
        "  \"\"\"\n",
        "  Description:\n",
        "    Implements a L-layer neural network. All layers but the last should have the ReLU activation function, and the final layer will apply the softmax activation function. The size of the output layer should be equal to the number of labels in the data. Please select a batch size that enables your code to run well (i.e. no memory overflows while still running relatively fast).\n",
        "\n",
        "    Hint: the function should use the earlier functions in the following order: initialize -> L_model_forward -> compute_cost -> L_model_backward -> update parameters\n",
        "\n",
        "  Input:\n",
        "    X – the input data, a numpy array of shape (height*width , number_of_examples) \n",
        "    Comment: since the input is in grayscale we only have height and width, otherwise it would have been height*width*3\n",
        "    Y – the “real” labels of the data, a vector of shape (num_of_classes, number of examples)\n",
        "    Layer_dims – a list containing the dimensions of each layer, including the input\n",
        "    batch_size – the number of examples in a single training batch.\n",
        "\n",
        "  Output:\n",
        "    parameters – the parameters learnt by the system during the training (the same parameters that were updated in the update_parameters function).\n",
        "    costs – the values of the cost function (calculated by the compute_cost function). One value is to be saved after each 100 training iterations (e.g. 3000 iterations -> 30 values)\n",
        "  \"\"\"\n",
        "  num_of_classes = Y.shape[0]\n",
        "  data = np.concatenate([X, Y], axis=0)\n",
        "  np.random.shuffle(data.T)\n",
        "  samples = int(splitting_factor * data.shape[1])\n",
        "  train = data[:, samples:]\n",
        "  x_train, y_train = train[:-num_of_classes, :], train[-num_of_classes:, :]\n",
        "  test = data[:, :samples]\n",
        "  x_test, y_test = test[:-num_of_classes, :], test[-num_of_classes:, :]\n",
        "\n",
        "  data = np.concatenate([x_train, y_train], axis=0)\n",
        "  number_of_examples = x_train.shape[1]\n",
        "\n",
        "  num_of_batches = math.ceil(number_of_examples / batch_size)\n",
        "\n",
        "  parameters = initialize_parameters(layers_dims)\n",
        "  costs = []\n",
        "\n",
        "  iter = 0\n",
        "  while len(costs) < 2 or np.abs(costs[-2] - costs[-1]) > stopping_rate:\n",
        "      if iter % num_of_batches == 0:\n",
        "          np.random.shuffle(data.T)\n",
        "          all_batches = np.array_split(data, indices_or_sections=num_of_batches, axis=1)\n",
        "      batch_divided = iter % num_of_batches\n",
        "      curr_x_batch = all_batches[batch_divided][0:x_train.shape[0], :]\n",
        "      curr_y_batch = all_batches[batch_divided][x_train.shape[0]:, :]\n",
        "\n",
        "      AL, caches = L_model_forward(curr_x_batch, parameters,use_batchnorm=use_batchnorm)\n",
        "      grads = L_model_backward(AL, curr_y_batch, caches)\n",
        "      parameters = Update_parameters(parameters, grads, learning_rate)\n",
        "\n",
        "      iter += 1\n",
        "\n",
        "      if iter % num_iterations == 0:\n",
        "          AL = L_model_forward(x_test, parameters,use_batchnorm=use_batchnorm)[0]\n",
        "          cost = compute_cost(AL, y_test)\n",
        "          costs.append(cost)\n",
        "          print('Iteration number: ' + str(iter) + ', cost: ' + str(cost))\n",
        "\n",
        "  if iter % num_of_batches == 0:\n",
        "        print('iterated on ' + str(iter // num_of_batches) + ' epochs')\n",
        "  else:\n",
        "        print('iterated on ' + str(iter // num_of_batches) + ' epochs and ' + str(iter % num_of_batches) + ' iterations')\n",
        "\n",
        "  train_accuracy = Predict(X=x_train, Y=y_train, parameters=parameters) * 100\n",
        "  test_accuracy = Predict(X=x_test, Y=y_test, parameters=parameters) * 100\n",
        "\n",
        "  print('Train accuracy: ' + str(train_accuracy) + '%')\n",
        "  print('Validation accuracy: ' + str(test_accuracy) + '%')\n",
        "\n",
        "  return parameters, costs"
      ],
      "metadata": {
        "id": "xZ2EhJFuyw2Q"
      },
      "execution_count": null,
      "outputs": []
    },
    {
      "cell_type": "code",
      "source": [
        "def Predict(X, Y, parameters):\n",
        "  \"\"\"\n",
        "  Description:\n",
        "    The function receives an input data and the true labels and calculates the accuracy of the trained neural network on the data.\n",
        "\n",
        "  Input:\n",
        "    X – the input data, a numpy array of shape (height*width, number_of_examples)\n",
        "    Y – the “real” labels of the data, a vector of shape (num_of_classes, number of examples)\n",
        "    Parameters – a python dictionary containing the DNN architecture’s parameters\n",
        "\n",
        "  Output:\n",
        "    accuracy – the accuracy measure of the neural net on the provided data (i.e. the percentage of the samples for which the correct label receives the hughest confidence score). Use the softmax function to normalize the output values.\n",
        "  \"\"\"\n",
        "  number_of_examples = X.shape[1]\n",
        "\n",
        "  AL, caches = L_model_forward(X, parameters, use_batchnorm)\n",
        "\n",
        "  y_pred = np.argmax(AL, axis=0)\n",
        "  y_true = np.argmax(Y, axis=0)\n",
        "\n",
        "  correct = np.sum(y_pred == y_true)\n",
        "\n",
        "  return correct/number_of_examples\n"
      ],
      "metadata": {
        "id": "f8gicYu3zVLC"
      },
      "execution_count": null,
      "outputs": []
    },
    {
      "cell_type": "markdown",
      "source": [
        "## 4. classify the MNIST dataset"
      ],
      "metadata": {
        "id": "Z5Oon-IDPZf0"
      }
    },
    {
      "cell_type": "markdown",
      "source": [
        "### a.\tLoad the dataset using the Keras code"
      ],
      "metadata": {
        "id": "xwGr85MZPn_s"
      }
    },
    {
      "cell_type": "markdown",
      "source": [
        "Note that there is a predefined division between the train and test set. Use 20% of the training set as a validation set (samples need to be randomly chosen)."
      ],
      "metadata": {
        "id": "geUVy0asXrLf"
      }
    },
    {
      "cell_type": "code",
      "source": [
        "from tensorflow import keras\n",
        "\n",
        "# the data, split between train and test sets\n",
        "(x_train, y_train), (x_test, y_test) = keras.datasets.mnist.load_data()"
      ],
      "metadata": {
        "id": "mCmzIYHWQwy2",
        "colab": {
          "base_uri": "https://localhost:8080/"
        },
        "outputId": "13a209bb-ece7-4d96-f2f3-0fbaabe434c2"
      },
      "execution_count": null,
      "outputs": [
        {
          "output_type": "stream",
          "name": "stdout",
          "text": [
            "Downloading data from https://storage.googleapis.com/tensorflow/tf-keras-datasets/mnist.npz\n",
            "11493376/11490434 [==============================] - 0s 0us/step\n",
            "11501568/11490434 [==============================] - 0s 0us/step\n"
          ]
        }
      ]
    },
    {
      "cell_type": "code",
      "source": [
        "# The input at each iteration needs to be “flattened” to a matrix of [m,784] where m is the number of samples\n",
        "\n",
        "x_train = x_train.reshape(x_train.shape[0],x_train.shape[1]*x_train.shape[2])\n",
        "x_test = x_test.reshape(x_test.shape[0],x_test.shape[1]*x_test.shape[2]) "
      ],
      "metadata": {
        "id": "Qif6kvKWyABD"
      },
      "execution_count": null,
      "outputs": []
    },
    {
      "cell_type": "code",
      "source": [
        "# Transform the labeles into one-hot encoded matrix\n",
        "\n",
        "one_hot_train = np.zeros((y_train.size, 10))\n",
        "one_hot_train[np.arange(y_train.size), y_train] = 1\n",
        "\n",
        "y_train = one_hot_train\n",
        "\n",
        "one_hot_test = np.zeros((y_test.size, 10))\n",
        "one_hot_test[np.arange(y_test.size), y_test] = 1\n",
        "\n",
        "y_test = one_hot_test"
      ],
      "metadata": {
        "id": "Xt8ApBObzMVh"
      },
      "execution_count": null,
      "outputs": []
    },
    {
      "cell_type": "code",
      "source": [
        "# Normalize\n",
        "\n",
        "x_train = x_train/255\n",
        "x_test = x_test/255"
      ],
      "metadata": {
        "id": "hCmAo1m64rI7"
      },
      "execution_count": null,
      "outputs": []
    },
    {
      "cell_type": "markdown",
      "source": [
        "### b.\tRun your network"
      ],
      "metadata": {
        "id": "3LyegeVvXwLF"
      }
    },
    {
      "cell_type": "markdown",
      "source": [
        "using the following configuration:\n",
        "*   4 layers (aside from the input layer), with the following sizes: 20,7,5,10\n",
        "*   Do not activate the batchnorm option at this point\n",
        "*   The input at each iteration needs to be “flattened” to a matrix of [m,784]  where m is the number of samples\n",
        "*   Use a learning rate of 0.009\n",
        "*   Train the network until there is no improvement on the validation set (or the improvement is very small) for 100 training steps (this is the stopping criterion). Please include in the report the number of iterations and epochs needed to train your network. Also, specify the batch size."
      ],
      "metadata": {
        "id": "yXzXHycfP2yp"
      }
    },
    {
      "cell_type": "code",
      "source": [
        "np.random.seed(10)\n",
        "\n",
        "start_time = time()\n",
        "params, costs = L_layer_model(X=x_train.T, Y=y_train.T, layers_dims=[784,20,7,5,10],learning_rate=0.009, num_iterations=100, batch_size=256)\n",
        "end_time = time()"
      ],
      "metadata": {
        "id": "EVP_garWPkEl",
        "colab": {
          "base_uri": "https://localhost:8080/"
        },
        "outputId": "031f660f-c3b2-4759-d89f-003534ebe9e3"
      },
      "execution_count": null,
      "outputs": [
        {
          "output_type": "stream",
          "name": "stdout",
          "text": [
            "Iteration number: 100, cost: 2.140946214501379\n",
            "Iteration number: 200, cost: 1.9282392544680587\n",
            "Iteration number: 300, cost: 1.8262511902216816\n",
            "Iteration number: 400, cost: 1.7443139537360717\n",
            "Iteration number: 500, cost: 1.6697881141018145\n",
            "Iteration number: 600, cost: 1.6033084415963446\n",
            "Iteration number: 700, cost: 1.541559816856163\n",
            "Iteration number: 800, cost: 1.4824780348323399\n",
            "Iteration number: 900, cost: 1.4259559134060302\n",
            "Iteration number: 1000, cost: 1.362867431396588\n",
            "Iteration number: 1100, cost: 1.3004780078546945\n",
            "Iteration number: 1200, cost: 1.2395499622190367\n",
            "Iteration number: 1300, cost: 1.1817233768434643\n",
            "Iteration number: 1400, cost: 1.1337055897849624\n",
            "Iteration number: 1500, cost: 1.0875369181915069\n",
            "Iteration number: 1600, cost: 1.047555406162395\n",
            "Iteration number: 1700, cost: 1.0111468431220292\n",
            "Iteration number: 1800, cost: 0.9785508219333166\n",
            "Iteration number: 1900, cost: 0.9458758377839221\n",
            "Iteration number: 2000, cost: 0.915823171619826\n",
            "Iteration number: 2100, cost: 0.8881098958037275\n",
            "Iteration number: 2200, cost: 0.8622339483350229\n",
            "Iteration number: 2300, cost: 0.8359291959613631\n",
            "Iteration number: 2400, cost: 0.814507678164633\n",
            "Iteration number: 2500, cost: 0.7895218309460448\n",
            "Iteration number: 2600, cost: 0.7696193435413166\n",
            "Iteration number: 2700, cost: 0.7497697632674469\n",
            "Iteration number: 2800, cost: 0.7306862941652141\n",
            "Iteration number: 2900, cost: 0.7131150659282312\n",
            "Iteration number: 3000, cost: 0.6968269874137512\n",
            "Iteration number: 3100, cost: 0.67975896609376\n",
            "Iteration number: 3200, cost: 0.6687962742888642\n",
            "Iteration number: 3300, cost: 0.650652735925788\n",
            "Iteration number: 3400, cost: 0.6365928445101074\n",
            "Iteration number: 3500, cost: 0.6233928740454108\n",
            "Iteration number: 3600, cost: 0.6099372628954749\n",
            "Iteration number: 3700, cost: 0.596479591508238\n",
            "Iteration number: 3800, cost: 0.5870624584140866\n",
            "Iteration number: 3900, cost: 0.5753461054067305\n",
            "Iteration number: 4000, cost: 0.5629096685775207\n",
            "Iteration number: 4100, cost: 0.551938145449247\n",
            "Iteration number: 4200, cost: 0.541514294789849\n",
            "Iteration number: 4300, cost: 0.5343991426162341\n",
            "Iteration number: 4400, cost: 0.5244493116814352\n",
            "Iteration number: 4500, cost: 0.5173031618784693\n",
            "Iteration number: 4600, cost: 0.5070486289296179\n",
            "Iteration number: 4700, cost: 0.49974422240475586\n",
            "Iteration number: 4800, cost: 0.49198507160400207\n",
            "Iteration number: 4900, cost: 0.48423376653197214\n",
            "Iteration number: 5000, cost: 0.4780934979601695\n",
            "Iteration number: 5100, cost: 0.47153027651236523\n",
            "Iteration number: 5200, cost: 0.4651456680461357\n",
            "Iteration number: 5300, cost: 0.45962693932142845\n",
            "Iteration number: 5400, cost: 0.4525108433532482\n",
            "Iteration number: 5500, cost: 0.4465930333862986\n",
            "Iteration number: 5600, cost: 0.4425093683918676\n",
            "Iteration number: 5700, cost: 0.4390967053724533\n",
            "Iteration number: 5800, cost: 0.4311777086449862\n",
            "Iteration number: 5900, cost: 0.4292353802350941\n",
            "Iteration number: 6000, cost: 0.4224796028107828\n",
            "Iteration number: 6100, cost: 0.41918243085703094\n",
            "Iteration number: 6200, cost: 0.4151820054506626\n",
            "Iteration number: 6300, cost: 0.4105078575130202\n",
            "Iteration number: 6400, cost: 0.4057179597426831\n",
            "Iteration number: 6500, cost: 0.4027647399106966\n",
            "Iteration number: 6600, cost: 0.39879185177602505\n",
            "Iteration number: 6700, cost: 0.3965269198446305\n",
            "Iteration number: 6800, cost: 0.39152069015754143\n",
            "Iteration number: 6900, cost: 0.3885366742618927\n",
            "Iteration number: 7000, cost: 0.3881308507047243\n",
            "iterated on 37 epochs and 44 iterations\n",
            "Train accuracy: 90.95625000000001%\n",
            "Validation accuracy: 90.46666666666667%\n"
          ]
        }
      ]
    },
    {
      "cell_type": "code",
      "source": [
        "print('Test accuracy: '+ str(Predict(X=x_test.T, Y=y_test.T, parameters=params) * 100) + '%')\n",
        "print('Running Time: ' + str(end_time - start_time))"
      ],
      "metadata": {
        "colab": {
          "base_uri": "https://localhost:8080/"
        },
        "id": "WxTSr83xGAUk",
        "outputId": "8211ff03-620c-4a9a-b8b4-1cf56262f96e"
      },
      "execution_count": null,
      "outputs": [
        {
          "output_type": "stream",
          "name": "stdout",
          "text": [
            "Test accuracy: 90.49000000000001%\n",
            "Running Time: 228.07242965698242\n"
          ]
        }
      ]
    },
    {
      "cell_type": "code",
      "source": [
        "import matplotlib.pyplot as plt\n",
        "\n",
        "# Plot costs\n",
        "plt.plot(costs)\n",
        "plt.title('Validation Costs')\n",
        "plt.xlabel('Training Steps')\n",
        "plt.ylabel('Cost')"
      ],
      "metadata": {
        "colab": {
          "base_uri": "https://localhost:8080/",
          "height": 313
        },
        "id": "3KxHEpaQwCuA",
        "outputId": "4b36f6e3-6e37-49c6-91a4-5a2d8a5f41f2"
      },
      "execution_count": null,
      "outputs": [
        {
          "output_type": "execute_result",
          "data": {
            "text/plain": [
              "Text(0, 0.5, 'Cost')"
            ]
          },
          "metadata": {},
          "execution_count": 33
        },
        {
          "output_type": "display_data",
          "data": {
            "text/plain": [
              "<Figure size 432x288 with 1 Axes>"
            ],
            "image/png": "[encoded data removed]"
          },
          "metadata": {
            "needs_background": "light"
          }
        }
      ]
    },
    {
      "cell_type": "markdown",
      "source": [
        "## 5. Repeat section 4 when the batchnorm function is “on”"
      ],
      "metadata": {
        "id": "uDNltoVGoXl4"
      }
    },
    {
      "cell_type": "markdown",
      "source": [
        "Analyze and compare this experiment to the previous one (performance, running time, number of training steps etc.). There is no need to update the parameters of the batchnorm in the way described in the lecture."
      ],
      "metadata": {
        "id": "pymxIw9VYetk"
      }
    },
    {
      "cell_type": "code",
      "source": [
        "use_batchnorm = True"
      ],
      "metadata": {
        "id": "3DcEH9eTgWJ1"
      },
      "execution_count": null,
      "outputs": []
    },
    {
      "cell_type": "code",
      "source": [
        "np.random.seed(10)\n",
        "\n",
        "start_time = time()\n",
        "params, costs = L_layer_model(X=x_train.T, Y=y_train.T, layers_dims=[784,20,7,5,10],learning_rate=0.009, num_iterations=100, batch_size=256)\n",
        "end_time = time()"
      ],
      "metadata": {
        "colab": {
          "base_uri": "https://localhost:8080/"
        },
        "id": "Jfs5zzIfo_qI",
        "outputId": "ca521642-53f6-4549-d46d-4b3e71676060"
      },
      "execution_count": null,
      "outputs": [
        {
          "output_type": "stream",
          "name": "stdout",
          "text": [
            "Iteration number: 100, cost: 2.2012278531596743\n",
            "Iteration number: 200, cost: 1.9723635312106331\n",
            "Iteration number: 300, cost: 1.8562567317757954\n",
            "Iteration number: 400, cost: 1.7840242202723242\n",
            "Iteration number: 500, cost: 1.7265812033319434\n",
            "Iteration number: 600, cost: 1.6805266338522304\n",
            "Iteration number: 700, cost: 1.6355338111530555\n",
            "Iteration number: 800, cost: 1.597995272916762\n",
            "Iteration number: 900, cost: 1.562978667214431\n",
            "Iteration number: 1000, cost: 1.5185826871161359\n",
            "Iteration number: 1100, cost: 1.478213410015933\n",
            "Iteration number: 1200, cost: 1.4383942774564014\n",
            "Iteration number: 1300, cost: 1.4005104012056933\n",
            "Iteration number: 1400, cost: 1.3646312815725588\n",
            "Iteration number: 1500, cost: 1.3270451529345477\n",
            "Iteration number: 1600, cost: 1.2957736602322956\n",
            "Iteration number: 1700, cost: 1.2652590521421385\n",
            "Iteration number: 1800, cost: 1.2335901961084477\n",
            "Iteration number: 1900, cost: 1.204258592515176\n",
            "Iteration number: 2000, cost: 1.1807007113964378\n",
            "Iteration number: 2100, cost: 1.1563338836673205\n",
            "Iteration number: 2200, cost: 1.1343392553255076\n",
            "Iteration number: 2300, cost: 1.1140604042047595\n",
            "Iteration number: 2400, cost: 1.093955091918993\n",
            "Iteration number: 2500, cost: 1.0786855698865534\n",
            "Iteration number: 2600, cost: 1.0604497077878923\n",
            "Iteration number: 2700, cost: 1.04545940221494\n",
            "Iteration number: 2800, cost: 1.0312857399880124\n",
            "Iteration number: 2900, cost: 1.0208278113024847\n",
            "Iteration number: 3000, cost: 1.0063859711051766\n",
            "Iteration number: 3100, cost: 0.9941363789256503\n",
            "Iteration number: 3200, cost: 0.9780565578083633\n",
            "Iteration number: 3300, cost: 0.9627516915382034\n",
            "Iteration number: 3400, cost: 0.9452052271117289\n",
            "Iteration number: 3500, cost: 0.9295311780232713\n",
            "Iteration number: 3600, cost: 0.9171890340532217\n",
            "Iteration number: 3700, cost: 0.9119773443935209\n",
            "Iteration number: 3800, cost: 0.8929551422485389\n",
            "Iteration number: 3900, cost: 0.875887449474503\n",
            "Iteration number: 4000, cost: 0.8622328577098374\n",
            "Iteration number: 4100, cost: 0.8446294724402273\n",
            "Iteration number: 4200, cost: 0.8332054210715893\n",
            "Iteration number: 4300, cost: 0.8228644182485908\n",
            "Iteration number: 4400, cost: 0.8134084663334508\n",
            "Iteration number: 4500, cost: 0.8022432831215597\n",
            "Iteration number: 4600, cost: 0.7918295230286037\n",
            "Iteration number: 4700, cost: 0.7826486971136384\n",
            "Iteration number: 4800, cost: 0.7745731043449683\n",
            "Iteration number: 4900, cost: 0.767005367456855\n",
            "Iteration number: 5000, cost: 0.7552441918740863\n",
            "Iteration number: 5100, cost: 0.748073319647438\n",
            "Iteration number: 5200, cost: 0.7389631282248197\n",
            "Iteration number: 5300, cost: 0.7312392140476976\n",
            "Iteration number: 5400, cost: 0.721227339680446\n",
            "Iteration number: 5500, cost: 0.7133637332320453\n",
            "Iteration number: 5600, cost: 0.7042378881358987\n",
            "Iteration number: 5700, cost: 0.7020284468020062\n",
            "Iteration number: 5800, cost: 0.6912958405619333\n",
            "Iteration number: 5900, cost: 0.6858977919024235\n",
            "Iteration number: 6000, cost: 0.6767139173321106\n",
            "Iteration number: 6100, cost: 0.6678564541489809\n",
            "Iteration number: 6200, cost: 0.6608686178985014\n",
            "Iteration number: 6300, cost: 0.6526403287689498\n",
            "Iteration number: 6400, cost: 0.647112951626875\n",
            "Iteration number: 6500, cost: 0.6423062081241517\n",
            "Iteration number: 6600, cost: 0.6310260157114729\n",
            "Iteration number: 6700, cost: 0.629455166423961\n",
            "Iteration number: 6800, cost: 0.62198538883232\n",
            "Iteration number: 6900, cost: 0.6103820464776165\n",
            "Iteration number: 7000, cost: 0.607281554237909\n",
            "Iteration number: 7100, cost: 0.5990747394272798\n",
            "Iteration number: 7200, cost: 0.5939245214536027\n",
            "Iteration number: 7300, cost: 0.5896299448934709\n",
            "Iteration number: 7400, cost: 0.5818873197887843\n",
            "Iteration number: 7500, cost: 0.575909353142628\n",
            "Iteration number: 7600, cost: 0.5701044951253618\n",
            "Iteration number: 7700, cost: 0.5651291051354217\n",
            "Iteration number: 7800, cost: 0.5562866061351669\n",
            "Iteration number: 7900, cost: 0.5476540975575569\n",
            "Iteration number: 8000, cost: 0.542663947733778\n",
            "Iteration number: 8100, cost: 0.5355782166248453\n",
            "Iteration number: 8200, cost: 0.5332134804887978\n",
            "Iteration number: 8300, cost: 0.5243086176674367\n",
            "Iteration number: 8400, cost: 0.5181606358200853\n",
            "Iteration number: 8500, cost: 0.511222212434174\n",
            "Iteration number: 8600, cost: 0.5073660610944509\n",
            "Iteration number: 8700, cost: 0.5027584781448433\n",
            "Iteration number: 8800, cost: 0.4984837889460663\n",
            "Iteration number: 8900, cost: 0.4922983652412116\n",
            "Iteration number: 9000, cost: 0.48657160431764185\n",
            "Iteration number: 9100, cost: 0.48377381021774235\n",
            "Iteration number: 9200, cost: 0.47790399744734\n",
            "Iteration number: 9300, cost: 0.47467413489595983\n",
            "Iteration number: 9400, cost: 0.47352674797224503\n",
            "Iteration number: 9500, cost: 0.4683434152263779\n",
            "Iteration number: 9600, cost: 0.4632670765363427\n",
            "Iteration number: 9700, cost: 0.4638403642984444\n",
            "iterated on 51 epochs and 112 iterations\n",
            "Train accuracy: 89.57083333333333%\n",
            "Validation accuracy: 88.84166666666667%\n"
          ]
        }
      ]
    },
    {
      "cell_type": "code",
      "source": [
        "print('Test accuracy: '+ str(Predict(X=x_test.T, Y=y_test.T, parameters=params) * 100) + '%')\n",
        "print('Running Time: ' + str(end_time - start_time))"
      ],
      "metadata": {
        "colab": {
          "base_uri": "https://localhost:8080/"
        },
        "id": "cXBgeQiWpC7C",
        "outputId": "a9066f14-c62e-4881-9646-2cccf0d7631b"
      },
      "execution_count": null,
      "outputs": [
        {
          "output_type": "stream",
          "name": "stdout",
          "text": [
            "Test accuracy: 89.13%\n",
            "Running Time: 326.4042909145355\n"
          ]
        }
      ]
    },
    {
      "cell_type": "code",
      "source": [
        "# Plot costs\n",
        "plt.plot(costs)\n",
        "plt.title('Validation Costs')\n",
        "plt.xlabel('Training Steps')\n",
        "plt.ylabel('Cost')"
      ],
      "metadata": {
        "colab": {
          "base_uri": "https://localhost:8080/",
          "height": 313
        },
        "id": "NAcGHAZfz3z7",
        "outputId": "583b9bbf-8913-470c-e9c0-b613484c47ea"
      },
      "execution_count": null,
      "outputs": [
        {
          "output_type": "execute_result",
          "data": {
            "text/plain": [
              "Text(0, 0.5, 'Cost')"
            ]
          },
          "metadata": {},
          "execution_count": 37
        },
        {
          "output_type": "display_data",
          "data": {
            "text/plain": [
              "<Figure size 432x288 with 1 Axes>"
            ],
            "image/png": "[encoded data removed]"
          },
          "metadata": {
            "needs_background": "light"
          }
        }
      ]
    },
    {
      "cell_type": "markdown",
      "source": [
        "## 6. Bonus"
      ],
      "metadata": {
        "id": "AqR5I6ruXQsG"
      }
    },
    {
      "cell_type": "code",
      "source": [
        "use_batchnorm = False\n",
        "use_dropout = True"
      ],
      "metadata": {
        "id": "-9zsXaCKgayZ"
      },
      "execution_count": null,
      "outputs": []
    },
    {
      "cell_type": "code",
      "source": [
        "np.random.seed(10)\n",
        "\n",
        "start_time = time()\n",
        "params, costs = L_layer_model(X=x_train.T, Y=y_train.T, layers_dims=[784,20,7,5,10],learning_rate=0.009, num_iterations=100, batch_size=256)\n",
        "end_time = time()"
      ],
      "metadata": {
        "colab": {
          "base_uri": "https://localhost:8080/"
        },
        "id": "dH4DUJb9ZH8Q",
        "outputId": "a0db0b42-e6f1-4d42-a276-45b9000742d8"
      },
      "execution_count": null,
      "outputs": [
        {
          "output_type": "stream",
          "name": "stdout",
          "text": [
            "Iteration number: 100, cost: 2.246695790756403\n",
            "Iteration number: 200, cost: 2.1435621090139314\n",
            "Iteration number: 300, cost: 2.081946471816097\n",
            "Iteration number: 400, cost: 2.038807944302734\n",
            "Iteration number: 500, cost: 2.0014975743742096\n",
            "Iteration number: 600, cost: 1.973300636006961\n",
            "Iteration number: 700, cost: 1.9595073146223945\n",
            "Iteration number: 800, cost: 1.9261571135035236\n",
            "Iteration number: 900, cost: 1.9105179394538454\n",
            "Iteration number: 1000, cost: 1.8958746284904997\n",
            "Iteration number: 1100, cost: 1.8751713563876031\n",
            "Iteration number: 1200, cost: 1.8494006635671685\n",
            "Iteration number: 1300, cost: 1.8456589255726739\n",
            "Iteration number: 1400, cost: 1.8338710894658998\n",
            "Iteration number: 1500, cost: 1.8075060605401043\n",
            "Iteration number: 1600, cost: 1.8029754517043186\n",
            "Iteration number: 1700, cost: 1.7934663895122078\n",
            "Iteration number: 1800, cost: 1.7804894354446301\n",
            "Iteration number: 1900, cost: 1.7628209553653589\n",
            "Iteration number: 2000, cost: 1.7554717542428135\n",
            "Iteration number: 2100, cost: 1.7493505516038197\n",
            "Iteration number: 2200, cost: 1.7360211333934858\n",
            "Iteration number: 2300, cost: 1.7264396325023879\n",
            "Iteration number: 2400, cost: 1.7004943912971515\n",
            "Iteration number: 2500, cost: 1.705074275368438\n",
            "Iteration number: 2600, cost: 1.6957354293412905\n",
            "Iteration number: 2700, cost: 1.6809834925110863\n",
            "Iteration number: 2800, cost: 1.6808382820515049\n",
            "iterated on 14 epochs and 168 iterations\n",
            "Train accuracy: 40.5625%\n",
            "Validation accuracy: 40.733333333333334%\n"
          ]
        }
      ]
    },
    {
      "cell_type": "code",
      "source": [
        "print('Test accuracy: '+ str(Predict(X=x_test.T, Y=y_test.T, parameters=params) * 100) + '%')\n",
        "print('Running Time: ' + str(end_time - start_time))"
      ],
      "metadata": {
        "colab": {
          "base_uri": "https://localhost:8080/"
        },
        "id": "Bs0LyDx1ZKRq",
        "outputId": "4b2d8fc1-b599-4f8a-b8f4-3081cc7c26cb"
      },
      "execution_count": null,
      "outputs": [
        {
          "output_type": "stream",
          "name": "stdout",
          "text": [
            "Test accuracy: 40.68%\n",
            "Running Time: 95.6027467250824\n"
          ]
        }
      ]
    },
    {
      "cell_type": "code",
      "source": [
        "# Plot costs\n",
        "plt.plot(costs)\n",
        "plt.title('Validation Costs')\n",
        "plt.xlabel('Training Steps')\n",
        "plt.ylabel('Cost')"
      ],
      "metadata": {
        "colab": {
          "base_uri": "https://localhost:8080/",
          "height": 313
        },
        "id": "pFA7M0y63BOO",
        "outputId": "e8991904-ef3e-43f9-eda6-cb2cecb0011e"
      },
      "execution_count": null,
      "outputs": [
        {
          "output_type": "execute_result",
          "data": {
            "text/plain": [
              "Text(0, 0.5, 'Cost')"
            ]
          },
          "metadata": {},
          "execution_count": 41
        },
        {
          "output_type": "display_data",
          "data": {
            "text/plain": [
              "<Figure size 432x288 with 1 Axes>"
            ],
            "image/png": "[encoded data removed]"
          },
          "metadata": {
            "needs_background": "light"
          }
        }
      ]
    }
  ]
}